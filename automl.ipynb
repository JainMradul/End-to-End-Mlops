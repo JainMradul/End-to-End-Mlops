{
 "cells": [
  {
   "cell_type": "markdown",
   "metadata": {},
   "source": [
    "# Automated ML\n",
    "\n"
   ]
  },
  {
   "cell_type": "code",
   "execution_count": 1,
   "metadata": {
    "gather": {
     "logged": 1632974832256
    },
    "jupyter": {
     "outputs_hidden": false,
     "source_hidden": false
    },
    "nteract": {
     "transient": {
      "deleting": false
     }
    }
   },
   "outputs": [
    {
     "name": "stdout",
     "output_type": "stream",
     "text": [
      "SDK version:  1.34.0\n"
     ]
    }
   ],
   "source": [
    "import logging\n",
    "import csv\n",
    "import os \n",
    "import shutil\n",
    "\n",
    "from matplotlib import pyplot as plt\n",
    "import pandas as pd\n",
    "import numpy as np \n",
    "from sklearn import datasets\n",
    "#import pkg_resources\n",
    "\n",
    "import azureml.core\n",
    "from azureml.core import Experiment, Model, Environment\n",
    "from azureml.train.automl import AutoMLConfig\n",
    "from azureml.core import Workspace, Dataset, Datastore \n",
    "from azureml.pipeline.steps import AutoMLStep\n",
    "from azureml.core.model import InferenceConfig\n",
    "from azureml.core.webservice import AciWebservice, Webservice\n",
    "from azureml.core.compute import ComputeTarget, AmlCompute\n",
    "from azureml.widgets import RunDetails\n",
    "from azureml.train.sklearn import SKLearn\n",
    "\n",
    "\n",
    "\n",
    "print(\"SDK version: \", azureml.core.VERSION)"
   ]
  },
  {
   "cell_type": "markdown",
   "metadata": {},
   "source": [
    "## Dataset\n",
    "\n",
    "### Overview\n",
    "\n",
    "Cardiovascular diseases (CVDs) are the number 1 cause of death globally, taking an estimated 17.9 million lives each year, which accounts for 31% of all deaths worlwide. Heart failure is a common event caused by CVDs and this dataset contains 12 features that can be used to predict mortality by heart failure.\n",
    "\n",
    "Most cardiovascular diseases can be prevented by addressing behavioural risk factors such as tobacco use, unhealthy diet and obesity, physical inactivity and harmful use of alcohol using population-wide strategies.\n",
    "\n",
    "People with cardiovascular disease or who are at high cardiovascular risk (due to the presence of one or more risk factors such as hypertension, diabetes, hyperlipidaemia or already established disease) need early detection and management wherein a machine learning model can be of great help."
   ]
  },
  {
   "cell_type": "code",
   "execution_count": 2,
   "metadata": {
    "gather": {
     "logged": 1632974844746
    },
    "jupyter": {
     "outputs_hidden": false,
     "source_hidden": false
    },
    "nteract": {
     "transient": {
      "deleting": false
     }
    }
   },
   "outputs": [
    {
     "name": "stdout",
     "output_type": "stream",
     "text": [
      "Experiment(Name: exp-heart-failure,\n",
      "Workspace: quick-starts-ws-159915)\n"
     ]
    }
   ],
   "source": [
    "ws = Workspace.from_config()\n",
    "\n",
    "# choose a name for experiment\n",
    "experiment_name = 'exp-heart-failure'\n",
    "\n",
    "experiment=Experiment(ws, experiment_name)\n",
    "print(experiment)\n",
    "\n",
    "#found = False\n",
    "ds = 'workspaceblobstore'\n",
    "key = 'heart_failure_dataset'\n",
    "dataset = ws.datasets[key]\n",
    "\n",
    "# if key in ws.datasets.keys():\n",
    "#     found = True\n",
    "#     dataset = ws.datasets[key]\n",
    "# if not found:\n",
    "#     data = \"\"\n",
    "#     dataset = Dataset.Tabular.from_delimited_files(data)\n",
    "#     dataset = dataset.register(workspace=ws,\n",
    "#                                name=key,\n",
    "#                                description=description_text)\n",
    "\n"
   ]
  },
  {
   "cell_type": "code",
   "execution_count": 3,
   "metadata": {},
   "outputs": [
    {
     "data": {
      "text/html": [
       "<div>\n",
       "<style scoped>\n",
       "    .dataframe tbody tr th:only-of-type {\n",
       "        vertical-align: middle;\n",
       "    }\n",
       "\n",
       "    .dataframe tbody tr th {\n",
       "        vertical-align: top;\n",
       "    }\n",
       "\n",
       "    .dataframe thead th {\n",
       "        text-align: right;\n",
       "    }\n",
       "</style>\n",
       "<table border=\"1\" class=\"dataframe\">\n",
       "  <thead>\n",
       "    <tr style=\"text-align: right;\">\n",
       "      <th></th>\n",
       "      <th>age</th>\n",
       "      <th>anaemia</th>\n",
       "      <th>creatinine_phosphokinase</th>\n",
       "      <th>diabetes</th>\n",
       "      <th>ejection_fraction</th>\n",
       "      <th>high_blood_pressure</th>\n",
       "      <th>platelets</th>\n",
       "      <th>serum_creatinine</th>\n",
       "      <th>serum_sodium</th>\n",
       "      <th>sex</th>\n",
       "      <th>smoking</th>\n",
       "      <th>time</th>\n",
       "      <th>DEATH_EVENT</th>\n",
       "    </tr>\n",
       "  </thead>\n",
       "  <tbody>\n",
       "    <tr>\n",
       "      <th>count</th>\n",
       "      <td>299.000000</td>\n",
       "      <td>299.000000</td>\n",
       "      <td>299.000000</td>\n",
       "      <td>299.000000</td>\n",
       "      <td>299.000000</td>\n",
       "      <td>299.000000</td>\n",
       "      <td>299.000000</td>\n",
       "      <td>299.00000</td>\n",
       "      <td>299.000000</td>\n",
       "      <td>299.000000</td>\n",
       "      <td>299.00000</td>\n",
       "      <td>299.000000</td>\n",
       "      <td>299.00000</td>\n",
       "    </tr>\n",
       "    <tr>\n",
       "      <th>mean</th>\n",
       "      <td>60.833893</td>\n",
       "      <td>0.431438</td>\n",
       "      <td>581.839465</td>\n",
       "      <td>0.418060</td>\n",
       "      <td>38.083612</td>\n",
       "      <td>0.351171</td>\n",
       "      <td>263358.029264</td>\n",
       "      <td>1.39388</td>\n",
       "      <td>136.625418</td>\n",
       "      <td>0.648829</td>\n",
       "      <td>0.32107</td>\n",
       "      <td>130.260870</td>\n",
       "      <td>0.32107</td>\n",
       "    </tr>\n",
       "    <tr>\n",
       "      <th>std</th>\n",
       "      <td>11.894809</td>\n",
       "      <td>0.496107</td>\n",
       "      <td>970.287881</td>\n",
       "      <td>0.494067</td>\n",
       "      <td>11.834841</td>\n",
       "      <td>0.478136</td>\n",
       "      <td>97804.236869</td>\n",
       "      <td>1.03451</td>\n",
       "      <td>4.412477</td>\n",
       "      <td>0.478136</td>\n",
       "      <td>0.46767</td>\n",
       "      <td>77.614208</td>\n",
       "      <td>0.46767</td>\n",
       "    </tr>\n",
       "    <tr>\n",
       "      <th>min</th>\n",
       "      <td>40.000000</td>\n",
       "      <td>0.000000</td>\n",
       "      <td>23.000000</td>\n",
       "      <td>0.000000</td>\n",
       "      <td>14.000000</td>\n",
       "      <td>0.000000</td>\n",
       "      <td>25100.000000</td>\n",
       "      <td>0.50000</td>\n",
       "      <td>113.000000</td>\n",
       "      <td>0.000000</td>\n",
       "      <td>0.00000</td>\n",
       "      <td>4.000000</td>\n",
       "      <td>0.00000</td>\n",
       "    </tr>\n",
       "    <tr>\n",
       "      <th>25%</th>\n",
       "      <td>51.000000</td>\n",
       "      <td>0.000000</td>\n",
       "      <td>116.500000</td>\n",
       "      <td>0.000000</td>\n",
       "      <td>30.000000</td>\n",
       "      <td>0.000000</td>\n",
       "      <td>212500.000000</td>\n",
       "      <td>0.90000</td>\n",
       "      <td>134.000000</td>\n",
       "      <td>0.000000</td>\n",
       "      <td>0.00000</td>\n",
       "      <td>73.000000</td>\n",
       "      <td>0.00000</td>\n",
       "    </tr>\n",
       "    <tr>\n",
       "      <th>50%</th>\n",
       "      <td>60.000000</td>\n",
       "      <td>0.000000</td>\n",
       "      <td>250.000000</td>\n",
       "      <td>0.000000</td>\n",
       "      <td>38.000000</td>\n",
       "      <td>0.000000</td>\n",
       "      <td>262000.000000</td>\n",
       "      <td>1.10000</td>\n",
       "      <td>137.000000</td>\n",
       "      <td>1.000000</td>\n",
       "      <td>0.00000</td>\n",
       "      <td>115.000000</td>\n",
       "      <td>0.00000</td>\n",
       "    </tr>\n",
       "    <tr>\n",
       "      <th>75%</th>\n",
       "      <td>70.000000</td>\n",
       "      <td>1.000000</td>\n",
       "      <td>582.000000</td>\n",
       "      <td>1.000000</td>\n",
       "      <td>45.000000</td>\n",
       "      <td>1.000000</td>\n",
       "      <td>303500.000000</td>\n",
       "      <td>1.40000</td>\n",
       "      <td>140.000000</td>\n",
       "      <td>1.000000</td>\n",
       "      <td>1.00000</td>\n",
       "      <td>203.000000</td>\n",
       "      <td>1.00000</td>\n",
       "    </tr>\n",
       "    <tr>\n",
       "      <th>max</th>\n",
       "      <td>95.000000</td>\n",
       "      <td>1.000000</td>\n",
       "      <td>7861.000000</td>\n",
       "      <td>1.000000</td>\n",
       "      <td>80.000000</td>\n",
       "      <td>1.000000</td>\n",
       "      <td>850000.000000</td>\n",
       "      <td>9.40000</td>\n",
       "      <td>148.000000</td>\n",
       "      <td>1.000000</td>\n",
       "      <td>1.00000</td>\n",
       "      <td>285.000000</td>\n",
       "      <td>1.00000</td>\n",
       "    </tr>\n",
       "  </tbody>\n",
       "</table>\n",
       "</div>"
      ],
      "text/plain": [
       "              age     anaemia  creatinine_phosphokinase    diabetes  \\\n",
       "count  299.000000  299.000000                299.000000  299.000000   \n",
       "mean    60.833893    0.431438                581.839465    0.418060   \n",
       "std     11.894809    0.496107                970.287881    0.494067   \n",
       "min     40.000000    0.000000                 23.000000    0.000000   \n",
       "25%     51.000000    0.000000                116.500000    0.000000   \n",
       "50%     60.000000    0.000000                250.000000    0.000000   \n",
       "75%     70.000000    1.000000                582.000000    1.000000   \n",
       "max     95.000000    1.000000               7861.000000    1.000000   \n",
       "\n",
       "       ejection_fraction  high_blood_pressure      platelets  \\\n",
       "count         299.000000           299.000000     299.000000   \n",
       "mean           38.083612             0.351171  263358.029264   \n",
       "std            11.834841             0.478136   97804.236869   \n",
       "min            14.000000             0.000000   25100.000000   \n",
       "25%            30.000000             0.000000  212500.000000   \n",
       "50%            38.000000             0.000000  262000.000000   \n",
       "75%            45.000000             1.000000  303500.000000   \n",
       "max            80.000000             1.000000  850000.000000   \n",
       "\n",
       "       serum_creatinine  serum_sodium         sex    smoking        time  \\\n",
       "count         299.00000    299.000000  299.000000  299.00000  299.000000   \n",
       "mean            1.39388    136.625418    0.648829    0.32107  130.260870   \n",
       "std             1.03451      4.412477    0.478136    0.46767   77.614208   \n",
       "min             0.50000    113.000000    0.000000    0.00000    4.000000   \n",
       "25%             0.90000    134.000000    0.000000    0.00000   73.000000   \n",
       "50%             1.10000    137.000000    1.000000    0.00000  115.000000   \n",
       "75%             1.40000    140.000000    1.000000    1.00000  203.000000   \n",
       "max             9.40000    148.000000    1.000000    1.00000  285.000000   \n",
       "\n",
       "       DEATH_EVENT  \n",
       "count    299.00000  \n",
       "mean       0.32107  \n",
       "std        0.46767  \n",
       "min        0.00000  \n",
       "25%        0.00000  \n",
       "50%        0.00000  \n",
       "75%        1.00000  \n",
       "max        1.00000  "
      ]
     },
     "execution_count": 3,
     "metadata": {},
     "output_type": "execute_result"
    }
   ],
   "source": [
    "df = dataset.to_pandas_dataframe()\n",
    "df.describe()"
   ]
  },
  {
   "cell_type": "markdown",
   "metadata": {},
   "source": [
    "## AutoML Configuration\n",
    "\n",
    "{\"experiment_timeout_minutes\": 15, -- setting experiment to run for 15 mins\n",
    "\n",
    "\"max_concurrent_iterations\": 6, -- number of parallel model itertaion\n",
    "\n",
    "\"primary_metric\": \"accuracy\"} -- choosing metric accuracy to evaluate model"
   ]
  },
  {
   "cell_type": "code",
   "execution_count": 4,
   "metadata": {
    "gather": {
     "logged": 1632974864567
    },
    "jupyter": {
     "outputs_hidden": false,
     "source_hidden": false
    },
    "nteract": {
     "transient": {
      "deleting": false
     }
    }
   },
   "outputs": [],
   "source": [
    "automl_settings = {\"experiment_timeout_minutes\": 15,\n",
    "                   \"max_concurrent_iterations\": 6,\n",
    "                   \"primary_metric\": \"accuracy\"}\n",
    "\n",
    "automl_config = AutoMLConfig(task=\"classification\",\n",
    "                              compute_target=\"mlops-compute\",\n",
    "                              training_data=dataset,\n",
    "                              label_column_name=\"DEATH_EVENT\",\n",
    "                              n_cross_validations=4,\n",
    "                              **automl_settings)"
   ]
  },
  {
   "cell_type": "code",
   "execution_count": 5,
   "metadata": {
    "gather": {
     "logged": 1632974880901
    },
    "jupyter": {
     "outputs_hidden": false,
     "source_hidden": false
    },
    "nteract": {
     "transient": {
      "deleting": false
     }
    }
   },
   "outputs": [
    {
     "name": "stdout",
     "output_type": "stream",
     "text": [
      "Submitting remote run.\n"
     ]
    },
    {
     "data": {
      "text/html": [
       "<table style=\"width:100%\"><tr><th>Experiment</th><th>Id</th><th>Type</th><th>Status</th><th>Details Page</th><th>Docs Page</th></tr><tr><td>exp-heart-failure</td><td>AutoML_c2fe52fb-8c82-4dfa-b38d-512be1a9b73a</td><td>automl</td><td>NotStarted</td><td><a href=\"https://ml.azure.com/runs/AutoML_c2fe52fb-8c82-4dfa-b38d-512be1a9b73a?wsid=/subscriptions/aa7cf8e8-d23f-4bce-a7b9-1f0b4e0ac8ee/resourcegroups/aml-quickstarts-159915/workspaces/quick-starts-ws-159915&amp;tid=660b3398-b80e-49d2-bc5b-ac1dc93b5254\" target=\"_blank\" rel=\"noopener\">Link to Azure Machine Learning studio</a></td><td><a href=\"https://docs.microsoft.com/en-us/python/api/overview/azure/ml/intro?view=azure-ml-py\" target=\"_blank\" rel=\"noopener\">Link to Documentation</a></td></tr></table>"
      ],
      "text/plain": [
       "<IPython.core.display.HTML object>"
      ]
     },
     "metadata": {},
     "output_type": "display_data"
    }
   ],
   "source": [
    "remote_run = experiment.submit(automl_config)"
   ]
  },
  {
   "cell_type": "markdown",
   "metadata": {},
   "source": [
    "## Run Details\n",
    "\n",
    "Voting Ensemble model turned out to be the best model as it combines the predictions of multiple classifiers"
   ]
  },
  {
   "cell_type": "code",
   "execution_count": 6,
   "metadata": {
    "gather": {
     "logged": 1632975965254
    },
    "jupyter": {
     "outputs_hidden": false,
     "source_hidden": false
    },
    "nteract": {
     "transient": {
      "deleting": false
     }
    }
   },
   "outputs": [
    {
     "data": {
      "application/vnd.jupyter.widget-view+json": {
       "model_id": "1b66066130fb47edb6b2de197dd5f253",
       "version_major": 2,
       "version_minor": 0
      },
      "text/plain": [
       "_AutoMLWidget(widget_settings={'childWidgetDisplay': 'popup', 'send_telemetry': False, 'log_level': 'INFO', 's…"
      ]
     },
     "metadata": {},
     "output_type": "display_data"
    },
    {
     "data": {
      "application/aml.mini.widget.v1": "{\"status\": \"Completed\", \"workbench_run_details_uri\": \"https://ml.azure.com/runs/AutoML_c2fe52fb-8c82-4dfa-b38d-512be1a9b73a?wsid=/subscriptions/aa7cf8e8-d23f-4bce-a7b9-1f0b4e0ac8ee/resourcegroups/aml-quickstarts-159915/workspaces/quick-starts-ws-159915&tid=660b3398-b80e-49d2-bc5b-ac1dc93b5254\", \"run_id\": \"AutoML_c2fe52fb-8c82-4dfa-b38d-512be1a9b73a\", \"run_properties\": {\"run_id\": \"AutoML_c2fe52fb-8c82-4dfa-b38d-512be1a9b73a\", \"created_utc\": \"2021-10-03T16:37:19.476208Z\", \"properties\": {\"num_iterations\": \"1000\", \"training_type\": \"TrainFull\", \"acquisition_function\": \"EI\", \"primary_metric\": \"accuracy\", \"train_split\": \"0\", \"acquisition_parameter\": \"0\", \"num_cross_validation\": \"4\", \"target\": \"mlops-compute\", \"AMLSettingsJsonString\": \"{\\\"path\\\":null,\\\"name\\\":\\\"exp-heart-failure\\\",\\\"subscription_id\\\":\\\"aa7cf8e8-d23f-4bce-a7b9-1f0b4e0ac8ee\\\",\\\"resource_group\\\":\\\"aml-quickstarts-159915\\\",\\\"workspace_name\\\":\\\"quick-starts-ws-159915\\\",\\\"region\\\":\\\"southcentralus\\\",\\\"compute_target\\\":\\\"mlops-compute\\\",\\\"spark_service\\\":null,\\\"azure_service\\\":\\\"remote\\\",\\\"many_models\\\":false,\\\"pipeline_fetch_max_batch_size\\\":1,\\\"enable_batch_run\\\":false,\\\"enable_run_restructure\\\":false,\\\"start_auxiliary_runs_before_parent_complete\\\":false,\\\"enable_code_generation\\\":false,\\\"iterations\\\":1000,\\\"primary_metric\\\":\\\"accuracy\\\",\\\"task_type\\\":\\\"classification\\\",\\\"data_script\\\":null,\\\"test_size\\\":0.0,\\\"test_include_predictions_only\\\":false,\\\"validation_size\\\":0.0,\\\"n_cross_validations\\\":4,\\\"y_min\\\":null,\\\"y_max\\\":null,\\\"num_classes\\\":null,\\\"featurization\\\":\\\"auto\\\",\\\"_ignore_package_version_incompatibilities\\\":false,\\\"is_timeseries\\\":false,\\\"max_cores_per_iteration\\\":1,\\\"max_concurrent_iterations\\\":6,\\\"iteration_timeout_minutes\\\":null,\\\"mem_in_mb\\\":null,\\\"enforce_time_on_windows\\\":false,\\\"experiment_timeout_minutes\\\":15,\\\"experiment_exit_score\\\":null,\\\"whitelist_models\\\":null,\\\"blacklist_algos\\\":[\\\"TensorFlowLinearClassifier\\\",\\\"TensorFlowDNN\\\"],\\\"supported_models\\\":[\\\"LogisticRegression\\\",\\\"MultinomialNaiveBayes\\\",\\\"TensorFlowDNN\\\",\\\"GradientBoosting\\\",\\\"RandomForest\\\",\\\"LinearSVM\\\",\\\"DecisionTree\\\",\\\"KNN\\\",\\\"ExtremeRandomTrees\\\",\\\"SVM\\\",\\\"AveragedPerceptronClassifier\\\",\\\"SGD\\\",\\\"BernoulliNaiveBayes\\\",\\\"XGBoostClassifier\\\",\\\"LightGBM\\\",\\\"TensorFlowLinearClassifier\\\"],\\\"private_models\\\":[],\\\"auto_blacklist\\\":true,\\\"blacklist_samples_reached\\\":false,\\\"exclude_nan_labels\\\":true,\\\"verbosity\\\":20,\\\"_debug_log\\\":\\\"azureml_automl.log\\\",\\\"show_warnings\\\":false,\\\"model_explainability\\\":true,\\\"service_url\\\":null,\\\"sdk_url\\\":null,\\\"sdk_packages\\\":null,\\\"enable_onnx_compatible_models\\\":false,\\\"enable_split_onnx_featurizer_estimator_models\\\":false,\\\"vm_type\\\":\\\"STANDARD_DS3_V2\\\",\\\"telemetry_verbosity\\\":20,\\\"send_telemetry\\\":true,\\\"enable_dnn\\\":false,\\\"scenario\\\":\\\"SDK-1.13.0\\\",\\\"environment_label\\\":null,\\\"save_mlflow\\\":false,\\\"force_text_dnn\\\":false,\\\"enable_feature_sweeping\\\":true,\\\"enable_early_stopping\\\":true,\\\"early_stopping_n_iters\\\":10,\\\"metrics\\\":null,\\\"enable_metric_confidence\\\":false,\\\"enable_ensembling\\\":true,\\\"enable_stack_ensembling\\\":true,\\\"ensemble_iterations\\\":15,\\\"enable_tf\\\":false,\\\"enable_subsampling\\\":null,\\\"subsample_seed\\\":null,\\\"enable_nimbusml\\\":false,\\\"enable_streaming\\\":false,\\\"force_streaming\\\":false,\\\"track_child_runs\\\":true,\\\"allowed_private_models\\\":[],\\\"label_column_name\\\":\\\"DEATH_EVENT\\\",\\\"weight_column_name\\\":null,\\\"cv_split_column_names\\\":null,\\\"positive_label\\\":null,\\\"enable_local_managed\\\":false,\\\"_local_managed_run_id\\\":null,\\\"cost_mode\\\":1,\\\"lag_length\\\":0,\\\"metric_operation\\\":\\\"maximize\\\",\\\"preprocess\\\":true}\", \"DataPrepJsonString\": \"{\\\\\\\"training_data\\\\\\\": {\\\\\\\"datasetId\\\\\\\": \\\\\\\"e74a4762-5499-4f6b-b31c-dcad860487dd\\\\\\\"}, \\\\\\\"datasets\\\\\\\": 0}\", \"EnableSubsampling\": null, \"runTemplate\": \"AutoML\", \"azureml.runsource\": \"automl\", \"display_task_type\": \"classification\", \"dependencies_versions\": \"{\\\"azureml-widgets\\\": \\\"1.34.0\\\", \\\"azureml-train\\\": \\\"1.34.0\\\", \\\"azureml-train-restclients-hyperdrive\\\": \\\"1.34.0\\\", \\\"azureml-train-core\\\": \\\"1.34.0\\\", \\\"azureml-train-automl\\\": \\\"1.34.0\\\", \\\"azureml-train-automl-runtime\\\": \\\"1.34.0\\\", \\\"azureml-train-automl-client\\\": \\\"1.34.0\\\", \\\"azureml-tensorboard\\\": \\\"1.34.0\\\", \\\"azureml-telemetry\\\": \\\"1.34.0\\\", \\\"azureml-sdk\\\": \\\"1.34.0\\\", \\\"azureml-samples\\\": \\\"0+unknown\\\", \\\"azureml-responsibleai\\\": \\\"1.34.0\\\", \\\"azureml-pipeline\\\": \\\"1.34.0\\\", \\\"azureml-pipeline-steps\\\": \\\"1.34.0\\\", \\\"azureml-pipeline-core\\\": \\\"1.34.0\\\", \\\"azureml-opendatasets\\\": \\\"1.34.0\\\", \\\"azureml-mlflow\\\": \\\"1.34.0\\\", \\\"azureml-interpret\\\": \\\"1.34.0\\\", \\\"azureml-inference-server-http\\\": \\\"0.3.1\\\", \\\"azureml-explain-model\\\": \\\"1.34.0\\\", \\\"azureml-defaults\\\": \\\"1.34.0\\\", \\\"azureml-dataset-runtime\\\": \\\"1.34.0\\\", \\\"azureml-dataprep\\\": \\\"2.22.2\\\", \\\"azureml-dataprep-rslex\\\": \\\"1.20.1\\\", \\\"azureml-dataprep-native\\\": \\\"38.0.0\\\", \\\"azureml-datadrift\\\": \\\"1.34.0\\\", \\\"azureml-core\\\": \\\"1.34.0\\\", \\\"azureml-contrib-services\\\": \\\"1.34.0\\\", \\\"azureml-contrib-server\\\": \\\"1.34.0\\\", \\\"azureml-contrib-reinforcementlearning\\\": \\\"1.34.0\\\", \\\"azureml-contrib-pipeline-steps\\\": \\\"1.34.0\\\", \\\"azureml-contrib-notebook\\\": \\\"1.34.0\\\", \\\"azureml-contrib-fairness\\\": \\\"1.34.0\\\", \\\"azureml-contrib-dataset\\\": \\\"1.34.0\\\", \\\"azureml-contrib-automl-pipeline-steps\\\": \\\"1.34.0\\\", \\\"azureml-cli-common\\\": \\\"1.34.0\\\", \\\"azureml-automl-runtime\\\": \\\"1.34.0\\\", \\\"azureml-automl-dnn-nlp\\\": \\\"1.34.0\\\", \\\"azureml-automl-core\\\": \\\"1.34.0\\\", \\\"azureml-accel-models\\\": \\\"1.34.0\\\"}\", \"_aml_system_scenario_identification\": \"Remote.Parent\", \"ClientType\": \"SDK\", \"environment_cpu_name\": \"AzureML-AutoML\", \"environment_cpu_label\": \"prod\", \"environment_gpu_name\": \"AzureML-AutoML-GPU\", \"environment_gpu_label\": \"prod\", \"root_attribution\": \"automl\", \"attribution\": \"AutoML\", \"Orchestrator\": \"AutoML\", \"CancelUri\": \"https://southcentralus.api.azureml.ms/jasmine/v1.0/subscriptions/aa7cf8e8-d23f-4bce-a7b9-1f0b4e0ac8ee/resourceGroups/aml-quickstarts-159915/providers/Microsoft.MachineLearningServices/workspaces/quick-starts-ws-159915/experimentids/fdfe78a9-bdca-4db0-8b0c-a6be4d772243/cancel/AutoML_c2fe52fb-8c82-4dfa-b38d-512be1a9b73a\", \"ClientSdkVersion\": \"1.34.0.post1\", \"snapshotId\": \"00000000-0000-0000-0000-000000000000\", \"SetupRunId\": \"AutoML_c2fe52fb-8c82-4dfa-b38d-512be1a9b73a_setup\", \"SetupRunContainerId\": \"dcid.AutoML_c2fe52fb-8c82-4dfa-b38d-512be1a9b73a_setup\", \"FeaturizationRunJsonPath\": \"featurizer_container.json\", \"FeaturizationRunId\": \"AutoML_c2fe52fb-8c82-4dfa-b38d-512be1a9b73a_featurize\", \"ProblemInfoJsonString\": \"{\\\"dataset_num_categorical\\\": 0, \\\"is_sparse\\\": false, \\\"subsampling\\\": false, \\\"has_extra_col\\\": true, \\\"dataset_classes\\\": 2, \\\"dataset_features\\\": 12, \\\"dataset_samples\\\": 299, \\\"single_frequency_class_detected\\\": false}\", \"ModelExplainRunId\": \"AutoML_c2fe52fb-8c82-4dfa-b38d-512be1a9b73a_ModelExplain\"}, \"tags\": {\"model_explain_run\": \"best_run\", \"_aml_system_azureml.automlComponent\": \"AutoML\", \"pipeline_id\": \"\", \"score\": \"\", \"predicted_cost\": \"\", \"fit_time\": \"\", \"training_percent\": \"\", \"iteration\": \"\", \"run_preprocessor\": \"\", \"run_algorithm\": \"\", \"dynamic_whitelisting_iterations\": \"<25>;<29>;<35>;<40>;<45>;\", \"automl_best_child_run_id\": \"AutoML_c2fe52fb-8c82-4dfa-b38d-512be1a9b73a_50\", \"model_explain_best_run_child_id\": \"AutoML_c2fe52fb-8c82-4dfa-b38d-512be1a9b73a_50\"}, \"end_time_utc\": \"2021-10-03T16:54:28.851089Z\", \"status\": \"Completed\", \"log_files\": {}, \"log_groups\": [], \"run_duration\": \"0:17:09\", \"run_number\": \"1\", \"run_queued_details\": {\"status\": \"Completed\", \"details\": null}}, \"child_runs\": [{\"run_id\": \"AutoML_c2fe52fb-8c82-4dfa-b38d-512be1a9b73a_2\", \"run_number\": 5, \"metric\": null, \"status\": \"Completed\", \"run_type\": \"azureml.scriptrun\", \"training_percent\": \"100\", \"start_time\": \"2021-10-03T16:45:42.347931Z\", \"end_time\": \"2021-10-03T16:47:30.439449Z\", \"created_time\": \"2021-10-03T16:44:04.504969Z\", \"created_time_dt\": \"2021-10-03T16:44:04.504969Z\", \"duration\": \"0:03:25\", \"iteration\": \"2\", \"goal\": \"accuracy_max\", \"run_name\": \"MaxAbsScaler, ExtremeRandomTrees\", \"run_properties\": \"copy=True\", \"primary_metric\": 0.82927928, \"best_metric\": 0.83936937}, {\"run_id\": \"AutoML_c2fe52fb-8c82-4dfa-b38d-512be1a9b73a_5\", \"run_number\": 6, \"metric\": null, \"status\": \"Completed\", \"run_type\": \"azureml.scriptrun\", \"training_percent\": \"100\", \"start_time\": \"2021-10-03T16:45:12.129035Z\", \"end_time\": \"2021-10-03T16:45:51.207644Z\", \"created_time\": \"2021-10-03T16:44:04.520514Z\", \"created_time_dt\": \"2021-10-03T16:44:04.520514Z\", \"duration\": \"0:01:46\", \"iteration\": \"5\", \"goal\": \"accuracy_max\", \"run_name\": \"MaxAbsScaler, LightGBM\", \"run_properties\": \"copy=True\", \"primary_metric\": 0.84265766, \"best_metric\": 0.84265766}, {\"run_id\": \"AutoML_c2fe52fb-8c82-4dfa-b38d-512be1a9b73a_4\", \"run_number\": 7, \"metric\": null, \"status\": \"Completed\", \"run_type\": \"azureml.scriptrun\", \"training_percent\": \"100\", \"start_time\": \"2021-10-03T16:44:17.987586Z\", \"end_time\": \"2021-10-03T16:44:56.03167Z\", \"created_time\": \"2021-10-03T16:44:04.526689Z\", \"created_time_dt\": \"2021-10-03T16:44:04.526689Z\", \"duration\": \"0:00:51\", \"iteration\": \"4\", \"goal\": \"accuracy_max\", \"run_name\": \"StandardScalerWrapper, KNN\", \"run_properties\": \"\\n    copy=True,\\n    with_mean=False,\\n    with_std=False\\n\", \"primary_metric\": 0.59527027, \"best_metric\": 0.83936937}, {\"run_id\": \"AutoML_c2fe52fb-8c82-4dfa-b38d-512be1a9b73a_1\", \"run_number\": 8, \"metric\": null, \"status\": \"Completed\", \"run_type\": \"azureml.scriptrun\", \"training_percent\": \"100\", \"start_time\": \"2021-10-03T16:45:47.541024Z\", \"end_time\": \"2021-10-03T16:47:15.683572Z\", \"created_time\": \"2021-10-03T16:44:04.530095Z\", \"created_time_dt\": \"2021-10-03T16:44:04.530095Z\", \"duration\": \"0:03:11\", \"iteration\": \"1\", \"goal\": \"accuracy_max\", \"run_name\": \"MaxAbsScaler, XGBoostClassifier\", \"run_properties\": \"copy=True\", \"primary_metric\": 0.83936937, \"best_metric\": 0.83936937}, {\"run_id\": \"AutoML_c2fe52fb-8c82-4dfa-b38d-512be1a9b73a_3\", \"run_number\": 9, \"metric\": null, \"status\": \"Completed\", \"run_type\": \"azureml.scriptrun\", \"training_percent\": \"100\", \"start_time\": \"2021-10-03T16:45:45.428244Z\", \"end_time\": \"2021-10-03T16:47:14.606886Z\", \"created_time\": \"2021-10-03T16:44:04.543222Z\", \"created_time_dt\": \"2021-10-03T16:44:04.543222Z\", \"duration\": \"0:03:10\", \"iteration\": \"3\", \"goal\": \"accuracy_max\", \"run_name\": \"SparseNormalizer, XGBoostClassifier\", \"run_properties\": \"copy=True, norm='l2'\", \"primary_metric\": 0.78261261, \"best_metric\": 0.83936937}, {\"run_id\": \"AutoML_c2fe52fb-8c82-4dfa-b38d-512be1a9b73a_0\", \"run_number\": 10, \"metric\": null, \"status\": \"Completed\", \"run_type\": \"azureml.scriptrun\", \"training_percent\": \"100\", \"start_time\": \"2021-10-03T16:45:45.154257Z\", \"end_time\": \"2021-10-03T16:47:06.158161Z\", \"created_time\": \"2021-10-03T16:44:04.50554Z\", \"created_time_dt\": \"2021-10-03T16:44:04.50554Z\", \"duration\": \"0:03:01\", \"iteration\": \"0\", \"goal\": \"accuracy_max\", \"run_name\": \"MaxAbsScaler, LightGBM\", \"run_properties\": \"copy=True\", \"primary_metric\": 0.82261261, \"best_metric\": 0.82261261}, {\"run_id\": \"AutoML_c2fe52fb-8c82-4dfa-b38d-512be1a9b73a_6\", \"run_number\": 11, \"metric\": null, \"status\": \"Completed\", \"run_type\": \"azureml.scriptrun\", \"training_percent\": \"100\", \"start_time\": \"2021-10-03T16:45:44.124088Z\", \"end_time\": \"2021-10-03T16:47:10.357426Z\", \"created_time\": \"2021-10-03T16:44:59.526645Z\", \"created_time_dt\": \"2021-10-03T16:44:59.526645Z\", \"duration\": \"0:02:10\", \"iteration\": \"6\", \"goal\": \"accuracy_max\", \"run_name\": \"RobustScaler, LogisticRegression\", \"run_properties\": \"copy=True, quantile_range=[10, 90], with_centering=True,\\n             with_scaling=True\", \"primary_metric\": 0.80243243, \"best_metric\": 0.84265766}, {\"run_id\": \"AutoML_c2fe52fb-8c82-4dfa-b38d-512be1a9b73a_7\", \"run_number\": 12, \"metric\": null, \"status\": \"Completed\", \"run_type\": \"azureml.scriptrun\", \"training_percent\": \"100\", \"start_time\": \"2021-10-03T16:46:06.816616Z\", \"end_time\": \"2021-10-03T16:46:44.598083Z\", \"created_time\": \"2021-10-03T16:45:54.506196Z\", \"created_time_dt\": \"2021-10-03T16:45:54.506196Z\", \"duration\": \"0:00:50\", \"iteration\": \"7\", \"goal\": \"accuracy_max\", \"run_name\": \"MaxAbsScaler, LightGBM\", \"run_properties\": \"copy=True\", \"primary_metric\": 0.81265766, \"best_metric\": 0.84265766}, {\"run_id\": \"AutoML_c2fe52fb-8c82-4dfa-b38d-512be1a9b73a_8\", \"run_number\": 13, \"metric\": null, \"status\": \"Completed\", \"run_type\": \"azureml.scriptrun\", \"training_percent\": \"100\", \"start_time\": \"2021-10-03T16:47:02.209355Z\", \"end_time\": \"2021-10-03T16:47:39.848907Z\", \"created_time\": \"2021-10-03T16:46:48.145894Z\", \"created_time_dt\": \"2021-10-03T16:46:48.145894Z\", \"duration\": \"0:00:51\", \"iteration\": \"8\", \"goal\": \"accuracy_max\", \"run_name\": \"StandardScalerWrapper, KNN\", \"run_properties\": \"\\n    copy=True,\\n    with_mean=False,\\n    with_std=False\\n\", \"primary_metric\": 0.6118018, \"best_metric\": 0.84265766}, {\"run_id\": \"AutoML_c2fe52fb-8c82-4dfa-b38d-512be1a9b73a_9\", \"run_number\": 14, \"metric\": null, \"status\": \"Completed\", \"run_type\": \"azureml.scriptrun\", \"training_percent\": \"100\", \"start_time\": \"2021-10-03T16:47:21.846294Z\", \"end_time\": \"2021-10-03T16:47:59.043993Z\", \"created_time\": \"2021-10-03T16:47:09.483974Z\", \"created_time_dt\": \"2021-10-03T16:47:09.483974Z\", \"duration\": \"0:00:49\", \"iteration\": \"9\", \"goal\": \"accuracy_max\", \"run_name\": \"StandardScalerWrapper, SVM\", \"run_properties\": \"\\n    copy=True,\\n    with_mean=True,\\n    with_std=True\\n\", \"primary_metric\": 0.7422973, \"best_metric\": 0.84265766}, {\"run_id\": \"AutoML_c2fe52fb-8c82-4dfa-b38d-512be1a9b73a_10\", \"run_number\": 15, \"metric\": null, \"status\": \"Completed\", \"run_type\": \"azureml.scriptrun\", \"training_percent\": \"100\", \"start_time\": \"2021-10-03T16:47:25.835121Z\", \"end_time\": \"2021-10-03T16:48:06.192553Z\", \"created_time\": \"2021-10-03T16:47:13.766782Z\", \"created_time_dt\": \"2021-10-03T16:47:13.766782Z\", \"duration\": \"0:00:52\", \"iteration\": \"10\", \"goal\": \"accuracy_max\", \"run_name\": \"StandardScalerWrapper, XGBoostClassifier\", \"run_properties\": \"\\n    copy=True,\\n    with_mean=False,\\n    with_std=False\\n\", \"primary_metric\": 0.82572072, \"best_metric\": 0.84265766}, {\"run_id\": \"AutoML_c2fe52fb-8c82-4dfa-b38d-512be1a9b73a_11\", \"run_number\": 16, \"metric\": null, \"status\": \"Completed\", \"run_type\": \"azureml.scriptrun\", \"training_percent\": \"100\", \"start_time\": \"2021-10-03T16:47:28.782737Z\", \"end_time\": \"2021-10-03T16:48:10.349423Z\", \"created_time\": \"2021-10-03T16:47:18.456513Z\", \"created_time_dt\": \"2021-10-03T16:47:18.456513Z\", \"duration\": \"0:00:51\", \"iteration\": \"11\", \"goal\": \"accuracy_max\", \"run_name\": \"MinMaxScaler, RandomForest\", \"run_properties\": \"copy=True, feature_range=(0, 1\", \"primary_metric\": 0.83243243, \"best_metric\": 0.84265766}, {\"run_id\": \"AutoML_c2fe52fb-8c82-4dfa-b38d-512be1a9b73a_12\", \"run_number\": 17, \"metric\": null, \"status\": \"Completed\", \"run_type\": \"azureml.scriptrun\", \"training_percent\": \"100\", \"start_time\": \"2021-10-03T16:47:31.857581Z\", \"end_time\": \"2021-10-03T16:48:11.363832Z\", \"created_time\": \"2021-10-03T16:47:22.596218Z\", \"created_time_dt\": \"2021-10-03T16:47:22.596218Z\", \"duration\": \"0:00:48\", \"iteration\": \"12\", \"goal\": \"accuracy_max\", \"run_name\": \"StandardScalerWrapper, LogisticRegression\", \"run_properties\": \"\\n    copy=True,\\n    with_mean=True,\\n    with_std=False\\n\", \"primary_metric\": 0.75220721, \"best_metric\": 0.84265766}, {\"run_id\": \"AutoML_c2fe52fb-8c82-4dfa-b38d-512be1a9b73a_13\", \"run_number\": 18, \"metric\": null, \"status\": \"Completed\", \"run_type\": \"azureml.scriptrun\", \"training_percent\": \"100\", \"start_time\": \"2021-10-03T16:47:47.105954Z\", \"end_time\": \"2021-10-03T16:48:25.005375Z\", \"created_time\": \"2021-10-03T16:47:33.822291Z\", \"created_time_dt\": \"2021-10-03T16:47:33.822291Z\", \"duration\": \"0:00:51\", \"iteration\": \"13\", \"goal\": \"accuracy_max\", \"run_name\": \"StandardScalerWrapper, KNN\", \"run_properties\": \"\\n    copy=True,\\n    with_mean=False,\\n    with_std=True\\n\", \"primary_metric\": 0.71252252, \"best_metric\": 0.84265766}, {\"run_id\": \"AutoML_c2fe52fb-8c82-4dfa-b38d-512be1a9b73a_14\", \"run_number\": 19, \"metric\": null, \"status\": \"Completed\", \"run_type\": \"azureml.scriptrun\", \"training_percent\": \"100\", \"start_time\": \"2021-10-03T16:47:56.013163Z\", \"end_time\": \"2021-10-03T16:48:35.16874Z\", \"created_time\": \"2021-10-03T16:47:43.261401Z\", \"created_time_dt\": \"2021-10-03T16:47:43.261401Z\", \"duration\": \"0:00:51\", \"iteration\": \"14\", \"goal\": \"accuracy_max\", \"run_name\": \"RobustScaler, KNN\", \"run_properties\": \"copy=True, quantile_range=[10, 90], with_centering=False,\\n             with_scaling=True\", \"primary_metric\": 0.71900901, \"best_metric\": 0.84265766}, {\"run_id\": \"AutoML_c2fe52fb-8c82-4dfa-b38d-512be1a9b73a_15\", \"run_number\": 20, \"metric\": null, \"status\": \"Completed\", \"run_type\": \"azureml.scriptrun\", \"training_percent\": \"100\", \"start_time\": \"2021-10-03T16:48:14.398248Z\", \"end_time\": \"2021-10-03T16:48:52.982214Z\", \"created_time\": \"2021-10-03T16:48:02.231708Z\", \"created_time_dt\": \"2021-10-03T16:48:02.231708Z\", \"duration\": \"0:00:50\", \"iteration\": \"15\", \"goal\": \"accuracy_max\", \"run_name\": \"MinMaxScaler, KNN\", \"run_properties\": \"copy=True, feature_range=(0, 1\", \"primary_metric\": 0.72572072, \"best_metric\": 0.84265766}, {\"run_id\": \"AutoML_c2fe52fb-8c82-4dfa-b38d-512be1a9b73a_16\", \"run_number\": 21, \"metric\": null, \"status\": \"Completed\", \"run_type\": \"azureml.scriptrun\", \"training_percent\": \"100\", \"start_time\": \"2021-10-03T16:48:24.002475Z\", \"end_time\": \"2021-10-03T16:49:01.963899Z\", \"created_time\": \"2021-10-03T16:48:09.491077Z\", \"created_time_dt\": \"2021-10-03T16:48:09.491077Z\", \"duration\": \"0:00:52\", \"iteration\": \"16\", \"goal\": \"accuracy_max\", \"run_name\": \"SparseNormalizer, KNN\", \"run_properties\": \"copy=True, norm='max'\", \"primary_metric\": 0.74252252, \"best_metric\": 0.84265766}, {\"run_id\": \"AutoML_c2fe52fb-8c82-4dfa-b38d-512be1a9b73a_17\", \"run_number\": 22, \"metric\": null, \"status\": \"Completed\", \"run_type\": \"azureml.scriptrun\", \"training_percent\": \"100\", \"start_time\": \"2021-10-03T16:48:25.380569Z\", \"end_time\": \"2021-10-03T16:49:06.535171Z\", \"created_time\": \"2021-10-03T16:48:14.441346Z\", \"created_time_dt\": \"2021-10-03T16:48:14.441346Z\", \"duration\": \"0:00:52\", \"iteration\": \"17\", \"goal\": \"accuracy_max\", \"run_name\": \"MaxAbsScaler, LogisticRegression\", \"run_properties\": \"copy=True\", \"primary_metric\": 0.81923423, \"best_metric\": 0.84265766}, {\"run_id\": \"AutoML_c2fe52fb-8c82-4dfa-b38d-512be1a9b73a_18\", \"run_number\": 23, \"metric\": null, \"status\": \"Completed\", \"run_type\": \"azureml.scriptrun\", \"training_percent\": \"100\", \"start_time\": \"2021-10-03T16:48:26.384595Z\", \"end_time\": \"2021-10-03T16:49:05.403279Z\", \"created_time\": \"2021-10-03T16:48:19.037529Z\", \"created_time_dt\": \"2021-10-03T16:48:19.037529Z\", \"duration\": \"0:00:46\", \"iteration\": \"18\", \"goal\": \"accuracy_max\", \"run_name\": \"StandardScalerWrapper, XGBoostClassifier\", \"run_properties\": \"\\n    copy=True,\\n    with_mean=False,\\n    with_std=False\\n\", \"primary_metric\": 0.84247748, \"best_metric\": 0.84265766}, {\"run_id\": \"AutoML_c2fe52fb-8c82-4dfa-b38d-512be1a9b73a_19\", \"run_number\": 24, \"metric\": null, \"status\": \"Completed\", \"run_type\": \"azureml.scriptrun\", \"training_percent\": \"100\", \"start_time\": \"2021-10-03T16:48:42.419781Z\", \"end_time\": \"2021-10-03T16:49:21.327438Z\", \"created_time\": \"2021-10-03T16:48:28.838499Z\", \"created_time_dt\": \"2021-10-03T16:48:28.838499Z\", \"duration\": \"0:00:52\", \"iteration\": \"19\", \"goal\": \"accuracy_max\", \"run_name\": \"StandardScalerWrapper, XGBoostClassifier\", \"run_properties\": \"\\n    copy=True,\\n    with_mean=False,\\n    with_std=False\\n\", \"primary_metric\": 0.8090991, \"best_metric\": 0.84265766}, {\"run_id\": \"AutoML_c2fe52fb-8c82-4dfa-b38d-512be1a9b73a_20\", \"run_number\": 25, \"metric\": null, \"status\": \"Completed\", \"run_type\": \"azureml.scriptrun\", \"training_percent\": \"100\", \"start_time\": \"2021-10-03T16:48:50.529678Z\", \"end_time\": \"2021-10-03T16:49:30.692802Z\", \"created_time\": \"2021-10-03T16:48:38.650171Z\", \"created_time_dt\": \"2021-10-03T16:48:38.650171Z\", \"duration\": \"0:00:52\", \"iteration\": \"20\", \"goal\": \"accuracy_max\", \"run_name\": \"MaxAbsScaler, LogisticRegression\", \"run_properties\": \"copy=True\", \"primary_metric\": 0.81247748, \"best_metric\": 0.84265766}, {\"run_id\": \"AutoML_c2fe52fb-8c82-4dfa-b38d-512be1a9b73a_21\", \"run_number\": 26, \"metric\": null, \"status\": \"Completed\", \"run_type\": \"azureml.scriptrun\", \"training_percent\": \"100\", \"start_time\": \"2021-10-03T16:49:08.935524Z\", \"end_time\": \"2021-10-03T16:49:45.491344Z\", \"created_time\": \"2021-10-03T16:48:57.666511Z\", \"created_time_dt\": \"2021-10-03T16:48:57.666511Z\", \"duration\": \"0:00:47\", \"iteration\": \"21\", \"goal\": \"accuracy_max\", \"run_name\": \"StandardScalerWrapper, XGBoostClassifier\", \"run_properties\": \"\\n    copy=True,\\n    with_mean=False,\\n    with_std=False\\n\", \"primary_metric\": 0.83927928, \"best_metric\": 0.84265766}, {\"run_id\": \"AutoML_c2fe52fb-8c82-4dfa-b38d-512be1a9b73a_22\", \"run_number\": 27, \"metric\": null, \"status\": \"Completed\", \"run_type\": \"azureml.scriptrun\", \"training_percent\": \"100\", \"start_time\": \"2021-10-03T16:49:17.879935Z\", \"end_time\": \"2021-10-03T16:49:57.514758Z\", \"created_time\": \"2021-10-03T16:49:05.548105Z\", \"created_time_dt\": \"2021-10-03T16:49:05.548105Z\", \"duration\": \"0:00:51\", \"iteration\": \"22\", \"goal\": \"accuracy_max\", \"run_name\": \"SparseNormalizer, RandomForest\", \"run_properties\": \"copy=True, norm='l2'\", \"primary_metric\": 0.80918919, \"best_metric\": 0.84265766}, {\"run_id\": \"AutoML_c2fe52fb-8c82-4dfa-b38d-512be1a9b73a_23\", \"run_number\": 28, \"metric\": null, \"status\": \"Completed\", \"run_type\": \"azureml.scriptrun\", \"training_percent\": \"100\", \"start_time\": \"2021-10-03T16:49:22.005685Z\", \"end_time\": \"2021-10-03T16:49:59.63107Z\", \"created_time\": \"2021-10-03T16:49:09.982648Z\", \"created_time_dt\": \"2021-10-03T16:49:09.982648Z\", \"duration\": \"0:00:49\", \"iteration\": \"23\", \"goal\": \"accuracy_max\", \"run_name\": \"StandardScalerWrapper, RandomForest\", \"run_properties\": \"\\n    copy=True,\\n    with_mean=False,\\n    with_std=False\\n\", \"primary_metric\": 0.82603604, \"best_metric\": 0.84265766}, {\"run_id\": \"AutoML_c2fe52fb-8c82-4dfa-b38d-512be1a9b73a_24\", \"run_number\": 29, \"metric\": null, \"status\": \"Completed\", \"run_type\": \"azureml.scriptrun\", \"training_percent\": \"100\", \"start_time\": \"2021-10-03T16:49:21.016171Z\", \"end_time\": \"2021-10-03T16:50:00.150164Z\", \"created_time\": \"2021-10-03T16:49:10.009409Z\", \"created_time_dt\": \"2021-10-03T16:49:10.009409Z\", \"duration\": \"0:00:50\", \"iteration\": \"24\", \"goal\": \"accuracy_max\", \"run_name\": \"StandardScalerWrapper, XGBoostClassifier\", \"run_properties\": \"\\n    copy=True,\\n    with_mean=False,\\n    with_std=False\\n\", \"primary_metric\": 0.83252252, \"best_metric\": 0.84265766}, {\"run_id\": \"AutoML_c2fe52fb-8c82-4dfa-b38d-512be1a9b73a_25\", \"run_number\": 30, \"metric\": null, \"status\": \"Completed\", \"run_type\": \"azureml.scriptrun\", \"training_percent\": \"100\", \"start_time\": \"2021-10-03T16:49:36.02999Z\", \"end_time\": \"2021-10-03T16:50:14.192385Z\", \"created_time\": \"2021-10-03T16:49:25.756368Z\", \"created_time_dt\": \"2021-10-03T16:49:25.756368Z\", \"duration\": \"0:00:48\", \"iteration\": \"25\", \"goal\": \"accuracy_max\", \"run_name\": \"SparseNormalizer, LightGBM\", \"run_properties\": \"copy=True, norm='l1'\", \"primary_metric\": 0.83274775, \"best_metric\": 0.84265766}, {\"run_id\": \"AutoML_c2fe52fb-8c82-4dfa-b38d-512be1a9b73a_26\", \"run_number\": 31, \"metric\": null, \"status\": \"Completed\", \"run_type\": \"azureml.scriptrun\", \"training_percent\": \"100\", \"start_time\": \"2021-10-03T16:49:47.111168Z\", \"end_time\": \"2021-10-03T16:50:29.556996Z\", \"created_time\": \"2021-10-03T16:49:33.745118Z\", \"created_time_dt\": \"2021-10-03T16:49:33.745118Z\", \"duration\": \"0:00:55\", \"iteration\": \"26\", \"goal\": \"accuracy_max\", \"run_name\": \"TruncatedSVDWrapper, RandomForest\", \"run_properties\": \"n_components=0.7026315789473684, random_state=None\", \"primary_metric\": 0.76900901, \"best_metric\": 0.84265766}, {\"run_id\": \"AutoML_c2fe52fb-8c82-4dfa-b38d-512be1a9b73a_27\", \"run_number\": 32, \"metric\": null, \"status\": \"Completed\", \"run_type\": \"azureml.scriptrun\", \"training_percent\": \"100\", \"start_time\": \"2021-10-03T16:50:00.326975Z\", \"end_time\": \"2021-10-03T16:50:42.730112Z\", \"created_time\": \"2021-10-03T16:49:47.88313Z\", \"created_time_dt\": \"2021-10-03T16:49:47.88313Z\", \"duration\": \"0:00:54\", \"iteration\": \"27\", \"goal\": \"accuracy_max\", \"run_name\": \"RobustScaler, RandomForest\", \"run_properties\": \"copy=True, quantile_range=[10, 90], with_centering=True,\\n             with_scaling=True\", \"primary_metric\": 0.82252252, \"best_metric\": 0.84265766}, {\"run_id\": \"AutoML_c2fe52fb-8c82-4dfa-b38d-512be1a9b73a_28\", \"run_number\": 33, \"metric\": null, \"status\": \"Completed\", \"run_type\": \"azureml.scriptrun\", \"training_percent\": \"100\", \"start_time\": \"2021-10-03T16:50:12.383261Z\", \"end_time\": \"2021-10-03T16:50:52.477962Z\", \"created_time\": \"2021-10-03T16:49:59.365689Z\", \"created_time_dt\": \"2021-10-03T16:49:59.365689Z\", \"duration\": \"0:00:53\", \"iteration\": \"28\", \"goal\": \"accuracy_max\", \"run_name\": \"SparseNormalizer, XGBoostClassifier\", \"run_properties\": \"copy=True, norm='l1'\", \"primary_metric\": 0.85279279, \"best_metric\": 0.85279279}, {\"run_id\": \"AutoML_c2fe52fb-8c82-4dfa-b38d-512be1a9b73a_29\", \"run_number\": 34, \"metric\": null, \"status\": \"Completed\", \"run_type\": \"azureml.scriptrun\", \"training_percent\": \"100\", \"start_time\": \"2021-10-03T16:50:16.310281Z\", \"end_time\": \"2021-10-03T16:50:53.473125Z\", \"created_time\": \"2021-10-03T16:50:03.613419Z\", \"created_time_dt\": \"2021-10-03T16:50:03.613419Z\", \"duration\": \"0:00:49\", \"iteration\": \"29\", \"goal\": \"accuracy_max\", \"run_name\": \"RobustScaler, LightGBM\", \"run_properties\": \"copy=True, quantile_range=[25, 75], with_centering=True,\\n             with_scaling=False\", \"primary_metric\": 0.85612613, \"best_metric\": 0.85612613}, {\"run_id\": \"AutoML_c2fe52fb-8c82-4dfa-b38d-512be1a9b73a_30\", \"run_number\": 35, \"metric\": null, \"status\": \"Completed\", \"run_type\": \"azureml.scriptrun\", \"training_percent\": \"100\", \"start_time\": \"2021-10-03T16:50:16.162831Z\", \"end_time\": \"2021-10-03T16:50:53.392407Z\", \"created_time\": \"2021-10-03T16:50:03.672372Z\", \"created_time_dt\": \"2021-10-03T16:50:03.672372Z\", \"duration\": \"0:00:49\", \"iteration\": \"30\", \"goal\": \"accuracy_max\", \"run_name\": \"StandardScalerWrapper, XGBoostClassifier\", \"run_properties\": \"\\n    copy=True,\\n    with_mean=False,\\n    with_std=False\\n\", \"primary_metric\": 0.83927928, \"best_metric\": 0.85612613}, {\"run_id\": \"AutoML_c2fe52fb-8c82-4dfa-b38d-512be1a9b73a_31\", \"run_number\": 36, \"metric\": null, \"status\": \"Completed\", \"run_type\": \"azureml.scriptrun\", \"training_percent\": \"100\", \"start_time\": \"2021-10-03T16:50:32.96476Z\", \"end_time\": \"2021-10-03T16:51:11.529425Z\", \"created_time\": \"2021-10-03T16:50:16.323788Z\", \"created_time_dt\": \"2021-10-03T16:50:16.323788Z\", \"duration\": \"0:00:55\", \"iteration\": \"31\", \"goal\": \"accuracy_max\", \"run_name\": \"MinMaxScaler, LightGBM\", \"run_properties\": \"copy=True, feature_range=(0, 1\", \"primary_metric\": 0.83932432, \"best_metric\": 0.85612613}, {\"run_id\": \"AutoML_c2fe52fb-8c82-4dfa-b38d-512be1a9b73a_32\", \"run_number\": 37, \"metric\": null, \"status\": \"Completed\", \"run_type\": \"azureml.scriptrun\", \"training_percent\": \"100\", \"start_time\": \"2021-10-03T16:50:45.921863Z\", \"end_time\": \"2021-10-03T16:51:27.685915Z\", \"created_time\": \"2021-10-03T16:50:31.639783Z\", \"created_time_dt\": \"2021-10-03T16:50:31.639783Z\", \"duration\": \"0:00:56\", \"iteration\": \"32\", \"goal\": \"accuracy_max\", \"run_name\": \"SparseNormalizer, XGBoostClassifier\", \"run_properties\": \"copy=True, norm='l1'\", \"primary_metric\": 0.82603604, \"best_metric\": 0.85612613}, {\"run_id\": \"AutoML_c2fe52fb-8c82-4dfa-b38d-512be1a9b73a_33\", \"run_number\": 38, \"metric\": null, \"status\": \"Completed\", \"run_type\": \"azureml.scriptrun\", \"training_percent\": \"100\", \"start_time\": \"2021-10-03T16:50:58.771946Z\", \"end_time\": \"2021-10-03T16:51:37.240761Z\", \"created_time\": \"2021-10-03T16:50:44.848111Z\", \"created_time_dt\": \"2021-10-03T16:50:44.848111Z\", \"duration\": \"0:00:52\", \"iteration\": \"33\", \"goal\": \"accuracy_max\", \"run_name\": \"StandardScalerWrapper, ExtremeRandomTrees\", \"run_properties\": \"\\n    copy=True,\\n    with_mean=True,\\n    with_std=False\\n\", \"primary_metric\": 0.83261261, \"best_metric\": 0.85612613}, {\"run_id\": \"AutoML_c2fe52fb-8c82-4dfa-b38d-512be1a9b73a_34\", \"run_number\": 39, \"metric\": null, \"status\": \"Completed\", \"run_type\": \"azureml.scriptrun\", \"training_percent\": \"100\", \"start_time\": \"2021-10-03T16:51:10.240032Z\", \"end_time\": \"2021-10-03T16:51:55.472577Z\", \"created_time\": \"2021-10-03T16:50:54.802987Z\", \"created_time_dt\": \"2021-10-03T16:50:54.802987Z\", \"duration\": \"0:01:00\", \"iteration\": \"34\", \"goal\": \"accuracy_max\", \"run_name\": \"StandardScalerWrapper, LightGBM\", \"run_properties\": \"\\n    copy=True,\\n    with_mean=False,\\n    with_std=False\\n\", \"primary_metric\": 0.83923423, \"best_metric\": 0.85612613}, {\"run_id\": \"AutoML_c2fe52fb-8c82-4dfa-b38d-512be1a9b73a_35\", \"run_number\": 40, \"metric\": null, \"status\": \"Completed\", \"run_type\": \"azureml.scriptrun\", \"training_percent\": \"100\", \"start_time\": \"2021-10-03T16:51:13.320469Z\", \"end_time\": \"2021-10-03T16:51:51.171963Z\", \"created_time\": \"2021-10-03T16:50:58.629883Z\", \"created_time_dt\": \"2021-10-03T16:50:58.629883Z\", \"duration\": \"0:00:52\", \"iteration\": \"35\", \"goal\": \"accuracy_max\", \"run_name\": \"SparseNormalizer, LightGBM\", \"run_properties\": \"copy=True, norm='l1'\", \"primary_metric\": 0.81936937, \"best_metric\": 0.85612613}, {\"run_id\": \"AutoML_c2fe52fb-8c82-4dfa-b38d-512be1a9b73a_36\", \"run_number\": 41, \"metric\": null, \"status\": \"Completed\", \"run_type\": \"azureml.scriptrun\", \"training_percent\": \"100\", \"start_time\": \"2021-10-03T16:51:10.118203Z\", \"end_time\": \"2021-10-03T16:51:47.354221Z\", \"created_time\": \"2021-10-03T16:50:58.673215Z\", \"created_time_dt\": \"2021-10-03T16:50:58.673215Z\", \"duration\": \"0:00:48\", \"iteration\": \"36\", \"goal\": \"accuracy_max\", \"run_name\": \"SparseNormalizer, XGBoostClassifier\", \"run_properties\": \"copy=True, norm='l1'\", \"primary_metric\": 0.83608108, \"best_metric\": 0.85612613}, {\"run_id\": \"AutoML_c2fe52fb-8c82-4dfa-b38d-512be1a9b73a_37\", \"run_number\": 42, \"metric\": null, \"status\": \"Completed\", \"run_type\": \"azureml.scriptrun\", \"training_percent\": \"100\", \"start_time\": \"2021-10-03T16:51:25.336604Z\", \"end_time\": \"2021-10-03T16:52:04.905264Z\", \"created_time\": \"2021-10-03T16:51:13.559246Z\", \"created_time_dt\": \"2021-10-03T16:51:13.559246Z\", \"duration\": \"0:00:51\", \"iteration\": \"37\", \"goal\": \"accuracy_max\", \"run_name\": \"MaxAbsScaler, RandomForest\", \"run_properties\": \"copy=True\", \"primary_metric\": 0.84265766, \"best_metric\": 0.85612613}, {\"run_id\": \"AutoML_c2fe52fb-8c82-4dfa-b38d-512be1a9b73a_38\", \"run_number\": 43, \"metric\": null, \"status\": \"Completed\", \"run_type\": \"azureml.scriptrun\", \"training_percent\": \"100\", \"start_time\": \"2021-10-03T16:51:43.615178Z\", \"end_time\": \"2021-10-03T16:52:23.210809Z\", \"created_time\": \"2021-10-03T16:51:29.547274Z\", \"created_time_dt\": \"2021-10-03T16:51:29.547274Z\", \"duration\": \"0:00:53\", \"iteration\": \"38\", \"goal\": \"accuracy_max\", \"run_name\": \"SparseNormalizer, XGBoostClassifier\", \"run_properties\": \"copy=True, norm='l1'\", \"primary_metric\": 0.8127027, \"best_metric\": 0.85612613}, {\"run_id\": \"AutoML_c2fe52fb-8c82-4dfa-b38d-512be1a9b73a_39\", \"run_number\": 44, \"metric\": null, \"status\": \"Completed\", \"run_type\": \"azureml.scriptrun\", \"training_percent\": \"100\", \"start_time\": \"2021-10-03T16:51:52.668323Z\", \"end_time\": \"2021-10-03T16:52:30.82329Z\", \"created_time\": \"2021-10-03T16:51:39.13281Z\", \"created_time_dt\": \"2021-10-03T16:51:39.13281Z\", \"duration\": \"0:00:51\", \"iteration\": \"39\", \"goal\": \"accuracy_max\", \"run_name\": \"MinMaxScaler, LightGBM\", \"run_properties\": \"copy=True, feature_range=(0, 1\", \"primary_metric\": 0.81599099, \"best_metric\": 0.85612613}, {\"run_id\": \"AutoML_c2fe52fb-8c82-4dfa-b38d-512be1a9b73a_40\", \"run_number\": 45, \"metric\": null, \"status\": \"Completed\", \"run_type\": \"azureml.scriptrun\", \"training_percent\": \"100\", \"start_time\": \"2021-10-03T16:52:00.868504Z\", \"end_time\": \"2021-10-03T16:52:46.329285Z\", \"created_time\": \"2021-10-03T16:51:50.443028Z\", \"created_time_dt\": \"2021-10-03T16:51:50.443028Z\", \"duration\": \"0:00:55\", \"iteration\": \"40\", \"goal\": \"accuracy_max\", \"run_name\": \"PCA, LightGBM\", \"run_properties\": \"copy=True, iterated_power='auto', n_components=0.45526315789473687,\\n    random_state=None, svd_solver='auto', tol=0.0, whiten=True\", \"primary_metric\": 0.6790991, \"best_metric\": 0.85612613}, {\"run_id\": \"AutoML_c2fe52fb-8c82-4dfa-b38d-512be1a9b73a_41\", \"run_number\": 46, \"metric\": null, \"status\": \"Completed\", \"run_type\": \"azureml.scriptrun\", \"training_percent\": \"100\", \"start_time\": \"2021-10-03T16:52:04.883952Z\", \"end_time\": \"2021-10-03T16:52:51.470216Z\", \"created_time\": \"2021-10-03T16:51:53.747364Z\", \"created_time_dt\": \"2021-10-03T16:51:53.747364Z\", \"duration\": \"0:00:57\", \"iteration\": \"41\", \"goal\": \"accuracy_max\", \"run_name\": \"StandardScalerWrapper, LightGBM\", \"run_properties\": \"\\n    copy=True,\\n    with_mean=False,\\n    with_std=False\\n\", \"primary_metric\": 0.82932432, \"best_metric\": 0.85612613}, {\"run_id\": \"AutoML_c2fe52fb-8c82-4dfa-b38d-512be1a9b73a_42\", \"run_number\": 47, \"metric\": null, \"status\": \"Completed\", \"run_type\": \"azureml.scriptrun\", \"training_percent\": \"100\", \"start_time\": \"2021-10-03T16:52:10.892171Z\", \"end_time\": \"2021-10-03T16:52:48.805319Z\", \"created_time\": \"2021-10-03T16:51:57.308401Z\", \"created_time_dt\": \"2021-10-03T16:51:57.308401Z\", \"duration\": \"0:00:51\", \"iteration\": \"42\", \"goal\": \"accuracy_max\", \"run_name\": \"RobustScaler, LightGBM\", \"run_properties\": \"copy=True, quantile_range=[10, 90], with_centering=True,\\n             with_scaling=False\", \"primary_metric\": 0.84274775, \"best_metric\": 0.85612613}, {\"run_id\": \"AutoML_c2fe52fb-8c82-4dfa-b38d-512be1a9b73a_43\", \"run_number\": 48, \"metric\": null, \"status\": \"Completed\", \"run_type\": \"azureml.scriptrun\", \"training_percent\": \"100\", \"start_time\": \"2021-10-03T16:52:20.10766Z\", \"end_time\": \"2021-10-03T16:52:59.589052Z\", \"created_time\": \"2021-10-03T16:52:07.40929Z\", \"created_time_dt\": \"2021-10-03T16:52:07.40929Z\", \"duration\": \"0:00:52\", \"iteration\": \"43\", \"goal\": \"accuracy_max\", \"run_name\": \"MaxAbsScaler, GradientBoosting\", \"run_properties\": \"copy=True\", \"primary_metric\": 0.83923423, \"best_metric\": 0.85612613}, {\"run_id\": \"AutoML_c2fe52fb-8c82-4dfa-b38d-512be1a9b73a_44\", \"run_number\": 49, \"metric\": null, \"status\": \"Completed\", \"run_type\": \"azureml.scriptrun\", \"training_percent\": \"100\", \"start_time\": \"2021-10-03T16:52:38.924406Z\", \"end_time\": \"2021-10-03T16:53:15.61107Z\", \"created_time\": \"2021-10-03T16:52:25.207021Z\", \"created_time_dt\": \"2021-10-03T16:52:25.207021Z\", \"duration\": \"0:00:50\", \"iteration\": \"44\", \"goal\": \"accuracy_max\", \"run_name\": \"StandardScalerWrapper, XGBoostClassifier\", \"run_properties\": \"\\n    copy=True,\\n    with_mean=False,\\n    with_std=False\\n\", \"primary_metric\": 0.83247748, \"best_metric\": 0.85612613}, {\"run_id\": \"AutoML_c2fe52fb-8c82-4dfa-b38d-512be1a9b73a_45\", \"run_number\": 50, \"metric\": null, \"status\": \"Canceled\", \"run_type\": \"azureml.scriptrun\", \"training_percent\": \"100\", \"start_time\": \"2021-10-03T16:52:47.388907Z\", \"end_time\": \"2021-10-03T16:53:16.839195Z\", \"created_time\": \"2021-10-03T16:52:33.652451Z\", \"created_time_dt\": \"2021-10-03T16:52:33.652451Z\", \"duration\": \"0:00:43\", \"iteration\": \"45\", \"goal\": \"accuracy_max\", \"run_name\": \"MinMaxScaler, LightGBM\", \"run_properties\": \"copy=True, feature_range=(0, 1\", \"primary_metric\": 0.84265766, \"best_metric\": 0.85612613}, {\"run_id\": \"AutoML_c2fe52fb-8c82-4dfa-b38d-512be1a9b73a_46\", \"run_number\": 51, \"metric\": null, \"status\": \"Canceled\", \"run_type\": \"azureml.scriptrun\", \"training_percent\": \"100\", \"start_time\": \"2021-10-03T16:53:03.259984Z\", \"end_time\": \"2021-10-03T16:53:16.897397Z\", \"created_time\": \"2021-10-03T16:52:48.142172Z\", \"created_time_dt\": \"2021-10-03T16:52:48.142172Z\", \"duration\": \"0:00:28\", \"iteration\": \"46\", \"goal\": null, \"run_name\": \"StandardScalerWrapper, LightGBM\", \"run_properties\": null}, {\"run_id\": \"AutoML_c2fe52fb-8c82-4dfa-b38d-512be1a9b73a_47\", \"run_number\": 52, \"metric\": null, \"status\": \"Canceled\", \"run_type\": \"azureml.scriptrun\", \"training_percent\": \"100\", \"start_time\": \"2021-10-03T16:53:05.436449Z\", \"end_time\": \"2021-10-03T16:53:16.863041Z\", \"created_time\": \"2021-10-03T16:52:50.962573Z\", \"created_time_dt\": \"2021-10-03T16:52:50.962573Z\", \"duration\": \"0:00:25\", \"iteration\": \"47\", \"goal\": null, \"run_name\": \"Canceled\", \"run_properties\": null}, {\"run_id\": \"AutoML_c2fe52fb-8c82-4dfa-b38d-512be1a9b73a_48\", \"run_number\": 53, \"metric\": null, \"status\": \"Canceled\", \"run_type\": \"azureml.scriptrun\", \"training_percent\": \"100\", \"start_time\": \"2021-10-03T16:53:09.36829Z\", \"end_time\": \"2021-10-03T16:53:16.800408Z\", \"created_time\": \"2021-10-03T16:52:54.345603Z\", \"created_time_dt\": \"2021-10-03T16:52:54.345603Z\", \"duration\": \"0:00:22\", \"iteration\": \"48\", \"goal\": null, \"run_name\": \"Canceled\", \"run_properties\": null}, {\"run_id\": \"AutoML_c2fe52fb-8c82-4dfa-b38d-512be1a9b73a_49\", \"run_number\": 54, \"metric\": null, \"status\": \"Canceled\", \"run_type\": \"azureml.scriptrun\", \"training_percent\": \"100\", \"start_time\": \"2021-10-03T16:53:15.149885Z\", \"end_time\": \"2021-10-03T16:53:16.865193Z\", \"created_time\": \"2021-10-03T16:53:01.567815Z\", \"created_time_dt\": \"2021-10-03T16:53:01.567815Z\", \"duration\": \"0:00:15\", \"iteration\": \"49\", \"goal\": null, \"run_name\": \"Canceled\", \"run_properties\": null}, {\"run_id\": \"AutoML_c2fe52fb-8c82-4dfa-b38d-512be1a9b73a_50\", \"run_number\": 55, \"metric\": null, \"status\": \"Completed\", \"run_type\": \"azureml.scriptrun\", \"training_percent\": \"100\", \"start_time\": \"2021-10-03T16:53:22.604973Z\", \"end_time\": \"2021-10-03T16:54:26.465485Z\", \"created_time\": \"2021-10-03T16:53:18.27635Z\", \"created_time_dt\": \"2021-10-03T16:53:18.27635Z\", \"duration\": \"0:01:08\", \"iteration\": \"50\", \"goal\": \"accuracy_max\", \"run_name\": \"VotingEnsemble\", \"run_properties\": \"\\n    estimators=[('29', Pipeline(\\n        memory=None,\\n        steps=[('robustscaler', RobustScaler(\\n            copy=True,\\n            quantile_range=[25, 75],\\n            with_centering=True,\\n            with_scaling=False\\n        \", \"primary_metric\": 0.87279279, \"best_metric\": 0.87279279}, {\"run_id\": \"AutoML_c2fe52fb-8c82-4dfa-b38d-512be1a9b73a_51\", \"run_number\": 56, \"metric\": null, \"status\": \"Completed\", \"run_type\": \"azureml.scriptrun\", \"training_percent\": \"100\", \"start_time\": \"2021-10-03T16:53:23.639727Z\", \"end_time\": \"2021-10-03T16:54:25.221167Z\", \"created_time\": \"2021-10-03T16:53:18.299035Z\", \"created_time_dt\": \"2021-10-03T16:53:18.299035Z\", \"duration\": \"0:01:06\", \"iteration\": \"51\", \"goal\": \"accuracy_max\", \"run_name\": \"StackEnsemble\", \"run_properties\": \"\\n    base_learners=[('29', Pipeline(\\n        memory=None,\\n        steps=[('robustscaler', RobustScaler(\\n            copy=True,\\n            quantile_range=[25, 75],\\n            with_centering=True,\\n            with_scaling=False\\n        \", \"primary_metric\": 0.84936937, \"best_metric\": 0.87279279}], \"children_metrics\": {\"categories\": [0], \"series\": {\"weighted_accuracy\": [{\"categories\": [\"0\", \"1\", \"2\", \"3\", \"4\", \"5\", \"6\", \"7\", \"8\", \"9\", \"10\", \"11\", \"12\", \"13\", \"14\", \"15\", \"16\", \"17\", \"18\", \"19\", \"20\", \"21\", \"22\", \"23\", \"24\", \"25\", \"26\", \"27\", \"28\", \"29\", \"30\", \"31\", \"32\", \"33\", \"34\", \"35\", \"36\", \"37\", \"38\", \"39\", \"40\", \"41\", \"42\", \"43\", \"44\", \"45\", \"50\", \"51\"], \"mode\": \"markers\", \"name\": \"weighted_accuracy\", \"stepped\": false, \"type\": \"scatter\", \"data\": [0.8494790895059211, 0.8615152732826137, 0.8396425719409826, 0.826690559918333, 0.6446261349808547, 0.8674393373322289, 0.8061427141562728, 0.860741279044263, 0.6594790419013428, 0.797745892528568, 0.8552739186769179, 0.8366766417511229, 0.7396698106788113, 0.8195316478869628, 0.7747898128822667, 0.8052198472618787, 0.8037117268201679, 0.8470498794571432, 0.869079069416983, 0.8402004975328128, 0.8399402114019253, 0.8705390950215603, 0.8268141749171691, 0.8727120733040687, 0.8578795125920267, 0.869395182585099, 0.7899939508246638, 0.8454101224367253, 0.8752732564176651, 0.8798492789510607, 0.8629506303142523, 0.8680999194703208, 0.8494258727410972, 0.86515937501551, 0.8651763147740268, 0.8493790689705853, 0.8601884807255393, 0.8666973236665876, 0.8428756556255823, 0.8610362016632774, 0.7972022593522936, 0.8595263638359334, 0.8686015735355506, 0.8609568264201993, 0.8555354310718664, 0.8651332254444779, 0.8970714047171314, 0.8704875989037808]}, {\"categories\": [\"0\", \"1\", \"2\", \"3\", \"4\", \"5\", \"6\", \"7\", \"8\", \"9\", \"10\", \"11\", \"12\", \"13\", \"14\", \"15\", \"16\", \"17\", \"18\", \"19\", \"20\", \"21\", \"22\", \"23\", \"24\", \"25\", \"26\", \"27\", \"28\", \"29\", \"30\", \"31\", \"32\", \"33\", \"34\", \"35\", \"36\", \"37\", \"38\", \"39\", \"40\", \"41\", \"42\", \"43\", \"44\", \"45\", \"50\", \"51\"], \"mode\": \"lines\", \"name\": \"weighted_accuracy_max\", \"stepped\": true, \"type\": \"scatter\", \"data\": [0.8494790895059211, 0.8615152732826137, 0.8615152732826137, 0.8615152732826137, 0.8615152732826137, 0.8674393373322289, 0.8674393373322289, 0.8674393373322289, 0.8674393373322289, 0.8674393373322289, 0.8674393373322289, 0.8674393373322289, 0.8674393373322289, 0.8674393373322289, 0.8674393373322289, 0.8674393373322289, 0.8674393373322289, 0.8674393373322289, 0.869079069416983, 0.869079069416983, 0.869079069416983, 0.8705390950215603, 0.8705390950215603, 0.8727120733040687, 0.8727120733040687, 0.8727120733040687, 0.8727120733040687, 0.8727120733040687, 0.8752732564176651, 0.8798492789510607, 0.8798492789510607, 0.8798492789510607, 0.8798492789510607, 0.8798492789510607, 0.8798492789510607, 0.8798492789510607, 0.8798492789510607, 0.8798492789510607, 0.8798492789510607, 0.8798492789510607, 0.8798492789510607, 0.8798492789510607, 0.8798492789510607, 0.8798492789510607, 0.8798492789510607, 0.8798492789510607, 0.8970714047171314, 0.8970714047171314]}], \"recall_score_weighted\": [{\"categories\": [\"0\", \"1\", \"2\", \"3\", \"4\", \"5\", \"6\", \"7\", \"8\", \"9\", \"10\", \"11\", \"12\", \"13\", \"14\", \"15\", \"16\", \"17\", \"18\", \"19\", \"20\", \"21\", \"22\", \"23\", \"24\", \"25\", \"26\", \"27\", \"28\", \"29\", \"30\", \"31\", \"32\", \"33\", \"34\", \"35\", \"36\", \"37\", \"38\", \"39\", \"40\", \"41\", \"42\", \"43\", \"44\", \"45\", \"50\", \"51\"], \"mode\": \"markers\", \"name\": \"recall_score_weighted\", \"stepped\": false, \"type\": \"scatter\", \"data\": [0.8226126126126126, 0.8393693693693695, 0.8292792792792792, 0.7826126126126126, 0.5952702702702702, 0.8426576576576577, 0.8024324324324325, 0.8126576576576576, 0.6118018018018019, 0.7422972972972972, 0.8257207207207207, 0.8324324324324325, 0.7522072072072072, 0.7125225225225225, 0.719009009009009, 0.7257207207207207, 0.7425225225225225, 0.8192342342342342, 0.8424774774774775, 0.809099099099099, 0.8124774774774774, 0.8392792792792793, 0.8091891891891891, 0.8260360360360361, 0.8325225225225226, 0.8327477477477478, 0.7690090090090089, 0.8225225225225226, 0.8527927927927927, 0.8561261261261262, 0.8392792792792793, 0.8393243243243244, 0.826036036036036, 0.8326126126126127, 0.8392342342342342, 0.8193693693693694, 0.836081081081081, 0.8426576576576577, 0.8127027027027027, 0.815990990990991, 0.6790990990990992, 0.8293243243243243, 0.8427477477477476, 0.8392342342342343, 0.8324774774774775, 0.8426576576576577, 0.8727927927927928, 0.8493693693693694]}, {\"categories\": [\"0\", \"1\", \"2\", \"3\", \"4\", \"5\", \"6\", \"7\", \"8\", \"9\", \"10\", \"11\", \"12\", \"13\", \"14\", \"15\", \"16\", \"17\", \"18\", \"19\", \"20\", \"21\", \"22\", \"23\", \"24\", \"25\", \"26\", \"27\", \"28\", \"29\", \"30\", \"31\", \"32\", \"33\", \"34\", \"35\", \"36\", \"37\", \"38\", \"39\", \"40\", \"41\", \"42\", \"43\", \"44\", \"45\", \"50\", \"51\"], \"mode\": \"lines\", \"name\": \"recall_score_weighted_max\", \"stepped\": true, \"type\": \"scatter\", \"data\": [0.8226126126126126, 0.8393693693693695, 0.8393693693693695, 0.8393693693693695, 0.8393693693693695, 0.8426576576576577, 0.8426576576576577, 0.8426576576576577, 0.8426576576576577, 0.8426576576576577, 0.8426576576576577, 0.8426576576576577, 0.8426576576576577, 0.8426576576576577, 0.8426576576576577, 0.8426576576576577, 0.8426576576576577, 0.8426576576576577, 0.8426576576576577, 0.8426576576576577, 0.8426576576576577, 0.8426576576576577, 0.8426576576576577, 0.8426576576576577, 0.8426576576576577, 0.8426576576576577, 0.8426576576576577, 0.8426576576576577, 0.8527927927927927, 0.8561261261261262, 0.8561261261261262, 0.8561261261261262, 0.8561261261261262, 0.8561261261261262, 0.8561261261261262, 0.8561261261261262, 0.8561261261261262, 0.8561261261261262, 0.8561261261261262, 0.8561261261261262, 0.8561261261261262, 0.8561261261261262, 0.8561261261261262, 0.8561261261261262, 0.8561261261261262, 0.8561261261261262, 0.8727927927927928, 0.8727927927927928]}], \"AUC_micro\": [{\"categories\": [\"0\", \"1\", \"2\", \"3\", \"4\", \"5\", \"6\", \"7\", \"8\", \"9\", \"10\", \"11\", \"12\", \"13\", \"14\", \"15\", \"16\", \"17\", \"18\", \"19\", \"20\", \"21\", \"22\", \"23\", \"24\", \"25\", \"26\", \"27\", \"28\", \"29\", \"30\", \"31\", \"32\", \"33\", \"34\", \"35\", \"36\", \"37\", \"38\", \"39\", \"40\", \"41\", \"42\", \"43\", \"44\", \"45\", \"50\", \"51\"], \"mode\": \"markers\", \"name\": \"AUC_micro\", \"stepped\": false, \"type\": \"scatter\", \"data\": [0.8958171252333414, 0.8958392013635257, 0.883248729810892, 0.862786742147553, 0.6235266536807078, 0.9039262722181641, 0.8664251602954305, 0.8866476584692802, 0.6430964126288451, 0.8224219868517166, 0.8959825257690123, 0.9161294537781024, 0.8348953250547846, 0.8200665692719747, 0.7827876795714632, 0.77307641425209, 0.795480934989043, 0.882063233503774, 0.9011870546221898, 0.8981826637448258, 0.8820094229364499, 0.9065107052998945, 0.8917397289181073, 0.8904472039607175, 0.9138754808862918, 0.888181446311176, 0.8727429104780456, 0.902417433649866, 0.899472753834916, 0.9082307280253226, 0.9050243811378946, 0.8931029948867788, 0.891306468630793, 0.8949575683791899, 0.9034092606119634, 0.8952245272299326, 0.8962754727700674, 0.9142661066471878, 0.8973182533885238, 0.8940550685820956, 0.6977022644265887, 0.902220753185618, 0.9083812921029137, 0.9132257365473582, 0.8926458647837026, 0.9127199172145117, 0.9097149257365474, 0.9071380569758949]}, {\"categories\": [\"0\", \"1\", \"2\", \"3\", \"4\", \"5\", \"6\", \"7\", \"8\", \"9\", \"10\", \"11\", \"12\", \"13\", \"14\", \"15\", \"16\", \"17\", \"18\", \"19\", \"20\", \"21\", \"22\", \"23\", \"24\", \"25\", \"26\", \"27\", \"28\", \"29\", \"30\", \"31\", \"32\", \"33\", \"34\", \"35\", \"36\", \"37\", \"38\", \"39\", \"40\", \"41\", \"42\", \"43\", \"44\", \"45\", \"50\", \"51\"], \"mode\": \"lines\", \"name\": \"AUC_micro_max\", \"stepped\": true, \"type\": \"scatter\", \"data\": [0.8958171252333414, 0.8958392013635257, 0.8958392013635257, 0.8958392013635257, 0.8958392013635257, 0.9039262722181641, 0.9039262722181641, 0.9039262722181641, 0.9039262722181641, 0.9039262722181641, 0.9039262722181641, 0.9161294537781024, 0.9161294537781024, 0.9161294537781024, 0.9161294537781024, 0.9161294537781024, 0.9161294537781024, 0.9161294537781024, 0.9161294537781024, 0.9161294537781024, 0.9161294537781024, 0.9161294537781024, 0.9161294537781024, 0.9161294537781024, 0.9161294537781024, 0.9161294537781024, 0.9161294537781024, 0.9161294537781024, 0.9161294537781024, 0.9161294537781024, 0.9161294537781024, 0.9161294537781024, 0.9161294537781024, 0.9161294537781024, 0.9161294537781024, 0.9161294537781024, 0.9161294537781024, 0.9161294537781024, 0.9161294537781024, 0.9161294537781024, 0.9161294537781024, 0.9161294537781024, 0.9161294537781024, 0.9161294537781024, 0.9161294537781024, 0.9161294537781024, 0.9161294537781024, 0.9161294537781024]}], \"norm_macro_recall\": [{\"categories\": [\"0\", \"1\", \"2\", \"3\", \"4\", \"5\", \"6\", \"7\", \"8\", \"9\", \"10\", \"11\", \"12\", \"13\", \"14\", \"15\", \"16\", \"17\", \"18\", \"19\", \"20\", \"21\", \"22\", \"23\", \"24\", \"25\", \"26\", \"27\", \"28\", \"29\", \"30\", \"31\", \"32\", \"33\", \"34\", \"35\", \"36\", \"37\", \"38\", \"39\", \"40\", \"41\", \"42\", \"43\", \"44\", \"45\", \"50\", \"51\"], \"mode\": \"markers\", \"name\": \"norm_macro_recall\", \"stepped\": false, \"type\": \"scatter\", \"data\": [0.5678391562925462, 0.616107529084224, 0.6265062346630144, 0.43123654829163305, 0.07408192090395482, 0.6155138450689299, 0.5906011028362723, 0.48293508124016604, 0.09923819510683918, 0.30594942565281547, 0.5616492558759508, 0.6512942938260735, 0.5338566506469049, 0.09870580808080809, 0.27378419994945413, 0.20800728226575682, 0.30562785848802804, 0.5593871014421863, 0.6070542491093338, 0.5243777565811465, 0.5437019763820612, 0.5875752072785971, 0.5615471197038994, 0.5140317113834063, 0.589756269311354, 0.5535218508735458, 0.47658590036768, 0.5794027339578187, 0.6384906113190012, 0.6438176916460816, 0.6096260476027425, 0.5958379191430039, 0.5822646613430512, 0.564908034134729, 0.6018534059317957, 0.5532167416701315, 0.6027853698404546, 0.6153349730150577, 0.5375256295807143, 0.502299809026504, 0.0, 0.5715503756287654, 0.610957843161233, 0.6176181966965866, 0.5980970928004827, 0.6206980774247723, 0.6754269134036084, 0.6370145156162106]}, {\"categories\": [\"0\", \"1\", \"2\", \"3\", \"4\", \"5\", \"6\", \"7\", \"8\", \"9\", \"10\", \"11\", \"12\", \"13\", \"14\", \"15\", \"16\", \"17\", \"18\", \"19\", \"20\", \"21\", \"22\", \"23\", \"24\", \"25\", \"26\", \"27\", \"28\", \"29\", \"30\", \"31\", \"32\", \"33\", \"34\", \"35\", \"36\", \"37\", \"38\", \"39\", \"40\", \"41\", \"42\", \"43\", \"44\", \"45\", \"50\", \"51\"], \"mode\": \"lines\", \"name\": \"norm_macro_recall_max\", \"stepped\": true, \"type\": \"scatter\", \"data\": [0.5678391562925462, 0.616107529084224, 0.6265062346630144, 0.6265062346630144, 0.6265062346630144, 0.6265062346630144, 0.6265062346630144, 0.6265062346630144, 0.6265062346630144, 0.6265062346630144, 0.6265062346630144, 0.6512942938260735, 0.6512942938260735, 0.6512942938260735, 0.6512942938260735, 0.6512942938260735, 0.6512942938260735, 0.6512942938260735, 0.6512942938260735, 0.6512942938260735, 0.6512942938260735, 0.6512942938260735, 0.6512942938260735, 0.6512942938260735, 0.6512942938260735, 0.6512942938260735, 0.6512942938260735, 0.6512942938260735, 0.6512942938260735, 0.6512942938260735, 0.6512942938260735, 0.6512942938260735, 0.6512942938260735, 0.6512942938260735, 0.6512942938260735, 0.6512942938260735, 0.6512942938260735, 0.6512942938260735, 0.6512942938260735, 0.6512942938260735, 0.6512942938260735, 0.6512942938260735, 0.6512942938260735, 0.6512942938260735, 0.6512942938260735, 0.6512942938260735, 0.6754269134036084, 0.6754269134036084]}], \"balanced_accuracy\": [{\"categories\": [\"0\", \"1\", \"2\", \"3\", \"4\", \"5\", \"6\", \"7\", \"8\", \"9\", \"10\", \"11\", \"12\", \"13\", \"14\", \"15\", \"16\", \"17\", \"18\", \"19\", \"20\", \"21\", \"22\", \"23\", \"24\", \"25\", \"26\", \"27\", \"28\", \"29\", \"30\", \"31\", \"32\", \"33\", \"34\", \"35\", \"36\", \"37\", \"38\", \"39\", \"40\", \"41\", \"42\", \"43\", \"44\", \"45\", \"50\", \"51\"], \"mode\": \"markers\", \"name\": \"balanced_accuracy\", \"stepped\": false, \"type\": \"scatter\", \"data\": [0.7839195781462731, 0.808053764542112, 0.8132531173315072, 0.7156182741458166, 0.5263011215871386, 0.8077569225344648, 0.7953005514181362, 0.7414675406200829, 0.5447579864423084, 0.6529747128264077, 0.7808246279379755, 0.8256471469130368, 0.7669283253234525, 0.549352904040404, 0.6368920999747271, 0.6040036411328784, 0.652813929244014, 0.7796935507210931, 0.8035271245546669, 0.7621888782905732, 0.7718509881910306, 0.7937876036392986, 0.7807735598519496, 0.757015855691703, 0.794878134655677, 0.7767609254367729, 0.73829295018384, 0.7897013669789092, 0.8192453056595006, 0.8219088458230408, 0.8048130238013713, 0.7979189595715019, 0.7911323306715256, 0.7824540170673646, 0.8009267029658979, 0.7766083708350657, 0.8013926849202272, 0.8076674865075288, 0.7687628147903571, 0.7511499045132519, 0.5, 0.7857751878143827, 0.8054789215806164, 0.8088090983482933, 0.7990485464002415, 0.8103490387123862, 0.8377134567018042, 0.8185072578081052]}, {\"categories\": [\"0\", \"1\", \"2\", \"3\", \"4\", \"5\", \"6\", \"7\", \"8\", \"9\", \"10\", \"11\", \"12\", \"13\", \"14\", \"15\", \"16\", \"17\", \"18\", \"19\", \"20\", \"21\", \"22\", \"23\", \"24\", \"25\", \"26\", \"27\", \"28\", \"29\", \"30\", \"31\", \"32\", \"33\", \"34\", \"35\", \"36\", \"37\", \"38\", \"39\", \"40\", \"41\", \"42\", \"43\", \"44\", \"45\", \"50\", \"51\"], \"mode\": \"lines\", \"name\": \"balanced_accuracy_max\", \"stepped\": true, \"type\": \"scatter\", \"data\": [0.7839195781462731, 0.808053764542112, 0.8132531173315072, 0.8132531173315072, 0.8132531173315072, 0.8132531173315072, 0.8132531173315072, 0.8132531173315072, 0.8132531173315072, 0.8132531173315072, 0.8132531173315072, 0.8256471469130368, 0.8256471469130368, 0.8256471469130368, 0.8256471469130368, 0.8256471469130368, 0.8256471469130368, 0.8256471469130368, 0.8256471469130368, 0.8256471469130368, 0.8256471469130368, 0.8256471469130368, 0.8256471469130368, 0.8256471469130368, 0.8256471469130368, 0.8256471469130368, 0.8256471469130368, 0.8256471469130368, 0.8256471469130368, 0.8256471469130368, 0.8256471469130368, 0.8256471469130368, 0.8256471469130368, 0.8256471469130368, 0.8256471469130368, 0.8256471469130368, 0.8256471469130368, 0.8256471469130368, 0.8256471469130368, 0.8256471469130368, 0.8256471469130368, 0.8256471469130368, 0.8256471469130368, 0.8256471469130368, 0.8256471469130368, 0.8256471469130368, 0.8377134567018042, 0.8377134567018042]}], \"recall_score_micro\": [{\"categories\": [\"0\", \"1\", \"2\", \"3\", \"4\", \"5\", \"6\", \"7\", \"8\", \"9\", \"10\", \"11\", \"12\", \"13\", \"14\", \"15\", \"16\", \"17\", \"18\", \"19\", \"20\", \"21\", \"22\", \"23\", \"24\", \"25\", \"26\", \"27\", \"28\", \"29\", \"30\", \"31\", \"32\", \"33\", \"34\", \"35\", \"36\", \"37\", \"38\", \"39\", \"40\", \"41\", \"42\", \"43\", \"44\", \"45\", \"50\", \"51\"], \"mode\": \"markers\", \"name\": \"recall_score_micro\", \"stepped\": false, \"type\": \"scatter\", \"data\": [0.8226126126126126, 0.8393693693693695, 0.8292792792792792, 0.7826126126126126, 0.5952702702702702, 0.8426576576576577, 0.8024324324324325, 0.8126576576576576, 0.6118018018018019, 0.7422972972972972, 0.8257207207207207, 0.8324324324324325, 0.7522072072072072, 0.7125225225225225, 0.719009009009009, 0.7257207207207207, 0.7425225225225225, 0.8192342342342342, 0.8424774774774775, 0.809099099099099, 0.8124774774774774, 0.8392792792792793, 0.8091891891891891, 0.8260360360360361, 0.8325225225225226, 0.8327477477477478, 0.7690090090090089, 0.8225225225225226, 0.8527927927927927, 0.8561261261261262, 0.8392792792792793, 0.8393243243243244, 0.826036036036036, 0.8326126126126127, 0.8392342342342342, 0.8193693693693694, 0.836081081081081, 0.8426576576576577, 0.8127027027027027, 0.815990990990991, 0.6790990990990992, 0.8293243243243243, 0.8427477477477476, 0.8392342342342343, 0.8324774774774775, 0.8426576576576577, 0.8727927927927928, 0.8493693693693694]}, {\"categories\": [\"0\", \"1\", \"2\", \"3\", \"4\", \"5\", \"6\", \"7\", \"8\", \"9\", \"10\", \"11\", \"12\", \"13\", \"14\", \"15\", \"16\", \"17\", \"18\", \"19\", \"20\", \"21\", \"22\", \"23\", \"24\", \"25\", \"26\", \"27\", \"28\", \"29\", \"30\", \"31\", \"32\", \"33\", \"34\", \"35\", \"36\", \"37\", \"38\", \"39\", \"40\", \"41\", \"42\", \"43\", \"44\", \"45\", \"50\", \"51\"], \"mode\": \"lines\", \"name\": \"recall_score_micro_max\", \"stepped\": true, \"type\": \"scatter\", \"data\": [0.8226126126126126, 0.8393693693693695, 0.8393693693693695, 0.8393693693693695, 0.8393693693693695, 0.8426576576576577, 0.8426576576576577, 0.8426576576576577, 0.8426576576576577, 0.8426576576576577, 0.8426576576576577, 0.8426576576576577, 0.8426576576576577, 0.8426576576576577, 0.8426576576576577, 0.8426576576576577, 0.8426576576576577, 0.8426576576576577, 0.8426576576576577, 0.8426576576576577, 0.8426576576576577, 0.8426576576576577, 0.8426576576576577, 0.8426576576576577, 0.8426576576576577, 0.8426576576576577, 0.8426576576576577, 0.8426576576576577, 0.8527927927927927, 0.8561261261261262, 0.8561261261261262, 0.8561261261261262, 0.8561261261261262, 0.8561261261261262, 0.8561261261261262, 0.8561261261261262, 0.8561261261261262, 0.8561261261261262, 0.8561261261261262, 0.8561261261261262, 0.8561261261261262, 0.8561261261261262, 0.8561261261261262, 0.8561261261261262, 0.8561261261261262, 0.8561261261261262, 0.8727927927927928, 0.8727927927927928]}], \"recall_score_binary\": [{\"categories\": [\"0\", \"1\", \"2\", \"3\", \"4\", \"5\", \"6\", \"7\", \"8\", \"9\", \"10\", \"11\", \"12\", \"13\", \"14\", \"15\", \"16\", \"17\", \"18\", \"19\", \"20\", \"21\", \"22\", \"23\", \"24\", \"25\", \"26\", \"27\", \"28\", \"29\", \"30\", \"31\", \"32\", \"33\", \"34\", \"35\", \"36\", \"37\", \"38\", \"39\", \"40\", \"41\", \"42\", \"43\", \"44\", \"45\", \"50\", \"51\"], \"mode\": \"markers\", \"name\": \"recall_score_binary\", \"stepped\": false, \"type\": \"scatter\", \"data\": [0.6636153198653199, 0.7011153198653198, 0.7684553872053872, 0.515625, 0.29667508417508415, 0.6887415824915826, 0.7745896464646465, 0.5305345117845118, 0.31519360269360264, 0.42140151515151514, 0.6566603535353535, 0.797790404040404, 0.8342276936026937, 0.09870580808080809, 0.40442971380471376, 0.27003367003367, 0.38842592592592595, 0.6411300505050506, 0.6849116161616161, 0.6157723063973064, 0.6406565656565657, 0.6513573232323232, 0.7036616161616162, 0.5537352693602694, 0.6774515993265993, 0.6216645622895622, 0.6553240740740741, 0.6763573232323232, 0.7132680976430976, 0.7147095959595959, 0.6946338383838384, 0.6638573232323233, 0.678040824915825, 0.634290824915825, 0.6864688552188553, 0.6393202861952862, 0.6871738215488216, 0.6931923400673401, 0.6211700336700336, 0.5466329966329967, 0.0, 0.6469065656565657, 0.6870580808080808, 0.7012415824915825, 0.6913930976430976, 0.7012415824915825, 0.719760101010101, 0.7121843434343434]}, {\"categories\": [\"0\", \"1\", \"2\", \"3\", \"4\", \"5\", \"6\", \"7\", \"8\", \"9\", \"10\", \"11\", \"12\", \"13\", \"14\", \"15\", \"16\", \"17\", \"18\", \"19\", \"20\", \"21\", \"22\", \"23\", \"24\", \"25\", \"26\", \"27\", \"28\", \"29\", \"30\", \"31\", \"32\", \"33\", \"34\", \"35\", \"36\", \"37\", \"38\", \"39\", \"40\", \"41\", \"42\", \"43\", \"44\", \"45\", \"50\", \"51\"], \"mode\": \"lines\", \"name\": \"recall_score_binary_max\", \"stepped\": true, \"type\": \"scatter\", \"data\": [0.6636153198653199, 0.7011153198653198, 0.7684553872053872, 0.7684553872053872, 0.7684553872053872, 0.7684553872053872, 0.7745896464646465, 0.7745896464646465, 0.7745896464646465, 0.7745896464646465, 0.7745896464646465, 0.797790404040404, 0.8342276936026937, 0.8342276936026937, 0.8342276936026937, 0.8342276936026937, 0.8342276936026937, 0.8342276936026937, 0.8342276936026937, 0.8342276936026937, 0.8342276936026937, 0.8342276936026937, 0.8342276936026937, 0.8342276936026937, 0.8342276936026937, 0.8342276936026937, 0.8342276936026937, 0.8342276936026937, 0.8342276936026937, 0.8342276936026937, 0.8342276936026937, 0.8342276936026937, 0.8342276936026937, 0.8342276936026937, 0.8342276936026937, 0.8342276936026937, 0.8342276936026937, 0.8342276936026937, 0.8342276936026937, 0.8342276936026937, 0.8342276936026937, 0.8342276936026937, 0.8342276936026937, 0.8342276936026937, 0.8342276936026937, 0.8342276936026937, 0.8342276936026937, 0.8342276936026937]}], \"log_loss\": [{\"categories\": [\"0\", \"1\", \"2\", \"3\", \"4\", \"5\", \"6\", \"7\", \"8\", \"9\", \"10\", \"11\", \"12\", \"13\", \"14\", \"15\", \"16\", \"17\", \"18\", \"19\", \"20\", \"21\", \"22\", \"23\", \"24\", \"25\", \"26\", \"27\", \"28\", \"29\", \"30\", \"31\", \"32\", \"33\", \"34\", \"35\", \"36\", \"37\", \"38\", \"39\", \"40\", \"41\", \"42\", \"43\", \"44\", \"45\", \"50\", \"51\"], \"mode\": \"markers\", \"name\": \"log_loss\", \"stepped\": false, \"type\": \"scatter\", \"data\": [0.49901034812804135, 0.42798633577006046, 0.545890770920661, 0.5173913130623582, 3.0379519535810076, 0.39656510544759765, 0.4559767265734401, 0.479007259330207, 1.3180156691319778, 0.5313628348999955, 0.4616553450270509, 0.4625213089664478, 0.4918515794045407, 0.5275271137082158, 2.2625783817649125, 1.7610937869916388, 1.093120813734985, 0.43304627754459374, 0.488614952014827, 0.49468390275314, 0.4327153683963515, 0.45683241031694277, 0.4152759038088314, 0.4289915281669755, 0.37609668828478116, 0.42509693852679287, 0.43375350892393605, 0.5920696477562837, 0.39495239981208646, 0.3745039058302638, 0.3946167244962664, 0.42243913177448766, 0.423847573865878, 0.40481197403616287, 0.38266646069199656, 0.4038725481475056, 0.40959399128792834, 0.3817819360928759, 0.4313990231600095, 0.42990908884610757, 0.6456320663136659, 0.40408926949254564, 0.3774876796221764, 0.37058314055199276, 0.46197038096151133, 0.3704121107922452, 0.3804505596202604, 0.40698683099318045]}, {\"categories\": [\"0\", \"1\", \"2\", \"3\", \"4\", \"5\", \"6\", \"7\", \"8\", \"9\", \"10\", \"11\", \"12\", \"13\", \"14\", \"15\", \"16\", \"17\", \"18\", \"19\", \"20\", \"21\", \"22\", \"23\", \"24\", \"25\", \"26\", \"27\", \"28\", \"29\", \"30\", \"31\", \"32\", \"33\", \"34\", \"35\", \"36\", \"37\", \"38\", \"39\", \"40\", \"41\", \"42\", \"43\", \"44\", \"45\", \"50\", \"51\"], \"mode\": \"lines\", \"name\": \"log_loss_min\", \"stepped\": true, \"type\": \"scatter\", \"data\": [0.49901034812804135, 0.42798633577006046, 0.42798633577006046, 0.42798633577006046, 0.42798633577006046, 0.39656510544759765, 0.39656510544759765, 0.39656510544759765, 0.39656510544759765, 0.39656510544759765, 0.39656510544759765, 0.39656510544759765, 0.39656510544759765, 0.39656510544759765, 0.39656510544759765, 0.39656510544759765, 0.39656510544759765, 0.39656510544759765, 0.39656510544759765, 0.39656510544759765, 0.39656510544759765, 0.39656510544759765, 0.39656510544759765, 0.39656510544759765, 0.37609668828478116, 0.37609668828478116, 0.37609668828478116, 0.37609668828478116, 0.37609668828478116, 0.3745039058302638, 0.3745039058302638, 0.3745039058302638, 0.3745039058302638, 0.3745039058302638, 0.3745039058302638, 0.3745039058302638, 0.3745039058302638, 0.3745039058302638, 0.3745039058302638, 0.3745039058302638, 0.3745039058302638, 0.3745039058302638, 0.3745039058302638, 0.37058314055199276, 0.37058314055199276, 0.3704121107922452, 0.3704121107922452, 0.3704121107922452]}], \"AUC_weighted\": [{\"categories\": [\"0\", \"1\", \"2\", \"3\", \"4\", \"5\", \"6\", \"7\", \"8\", \"9\", \"10\", \"11\", \"12\", \"13\", \"14\", \"15\", \"16\", \"17\", \"18\", \"19\", \"20\", \"21\", \"22\", \"23\", \"24\", \"25\", \"26\", \"27\", \"28\", \"29\", \"30\", \"31\", \"32\", \"33\", \"34\", \"35\", \"36\", \"37\", \"38\", \"39\", \"40\", \"41\", \"42\", \"43\", \"44\", \"45\", \"50\", \"51\"], \"mode\": \"markers\", \"name\": \"AUC_weighted\", \"stepped\": false, \"type\": \"scatter\", \"data\": [0.8850014980311591, 0.8827219175206464, 0.8667376957631195, 0.8417193652627974, 0.524756650612936, 0.8969605678115564, 0.8624833721938241, 0.900585280943685, 0.5297699723900289, 0.7925304548715566, 0.8779925295462019, 0.9131234068557514, 0.8593906766752812, 0.8269088432753687, 0.7279660634798346, 0.6986562388751654, 0.7371203034515182, 0.8600156206264964, 0.8891312234532572, 0.8989699082566315, 0.8617743975265162, 0.8965572118820706, 0.8793048269213524, 0.8910300968387126, 0.905861522475223, 0.8730985025123444, 0.8539681096001718, 0.8936438724750871, 0.8872192295568001, 0.8970585512781841, 0.8956383175309729, 0.8843591492337961, 0.8821381184728643, 0.8883576992687163, 0.893784002929483, 0.884166231014748, 0.88613509319724, 0.9076973409777083, 0.8950652866436766, 0.8948334824570701, 0.5515187861939275, 0.893698205827443, 0.8973526460461488, 0.9063354489201948, 0.8802740377952243, 0.9012012698276822, 0.9057800309389292, 0.908525240975806]}, {\"categories\": [\"0\", \"1\", \"2\", \"3\", \"4\", \"5\", \"6\", \"7\", \"8\", \"9\", \"10\", \"11\", \"12\", \"13\", \"14\", \"15\", \"16\", \"17\", \"18\", \"19\", \"20\", \"21\", \"22\", \"23\", \"24\", \"25\", \"26\", \"27\", \"28\", \"29\", \"30\", \"31\", \"32\", \"33\", \"34\", \"35\", \"36\", \"37\", \"38\", \"39\", \"40\", \"41\", \"42\", \"43\", \"44\", \"45\", \"50\", \"51\"], \"mode\": \"lines\", \"name\": \"AUC_weighted_max\", \"stepped\": true, \"type\": \"scatter\", \"data\": [0.8850014980311591, 0.8850014980311591, 0.8850014980311591, 0.8850014980311591, 0.8850014980311591, 0.8969605678115564, 0.8969605678115564, 0.900585280943685, 0.900585280943685, 0.900585280943685, 0.900585280943685, 0.9131234068557514, 0.9131234068557514, 0.9131234068557514, 0.9131234068557514, 0.9131234068557514, 0.9131234068557514, 0.9131234068557514, 0.9131234068557514, 0.9131234068557514, 0.9131234068557514, 0.9131234068557514, 0.9131234068557514, 0.9131234068557514, 0.9131234068557514, 0.9131234068557514, 0.9131234068557514, 0.9131234068557514, 0.9131234068557514, 0.9131234068557514, 0.9131234068557514, 0.9131234068557514, 0.9131234068557514, 0.9131234068557514, 0.9131234068557514, 0.9131234068557514, 0.9131234068557514, 0.9131234068557514, 0.9131234068557514, 0.9131234068557514, 0.9131234068557514, 0.9131234068557514, 0.9131234068557514, 0.9131234068557514, 0.9131234068557514, 0.9131234068557514, 0.9131234068557514, 0.9131234068557514]}], \"f1_score_binary\": [{\"categories\": [\"0\", \"1\", \"2\", \"3\", \"4\", \"5\", \"6\", \"7\", \"8\", \"9\", \"10\", \"11\", \"12\", \"13\", \"14\", \"15\", \"16\", \"17\", \"18\", \"19\", \"20\", \"21\", \"22\", \"23\", \"24\", \"25\", \"26\", \"27\", \"28\", \"29\", \"30\", \"31\", \"32\", \"33\", \"34\", \"35\", \"36\", \"37\", \"38\", \"39\", \"40\", \"41\", \"42\", \"43\", \"44\", \"45\", \"50\", \"51\"], \"mode\": \"markers\", \"name\": \"f1_score_binary\", \"stepped\": false, \"type\": \"scatter\", \"data\": [0.7062920875420875, 0.743477660557697, 0.7414598023117294, 0.5966244511989193, 0.2986011847713975, 0.73177856904272, 0.7108086130627115, 0.6396164317346583, 0.32488737038155646, 0.49704700061842916, 0.7034297455350087, 0.7517156862745098, 0.6799439578160015, 0.17892036421448188, 0.4615614138632041, 0.3753282828282828, 0.48549679487179487, 0.6880971819061441, 0.7205146705146706, 0.6729152456738663, 0.6826706812053979, 0.7179101996464425, 0.6992167919799498, 0.6709666149068323, 0.7136061772140472, 0.7081632653061224, 0.6448028074866311, 0.707556888865851, 0.756655976859712, 0.762101302785265, 0.7373783105531833, 0.7211175400513636, 0.7144007661834488, 0.7055753284431945, 0.7255681818181818, 0.6984489513594534, 0.7287660256410255, 0.7343296444121916, 0.6755390358885649, 0.6554711039064607, 0.0, 0.7028854723707665, 0.7370039682539682, 0.7370072834436617, 0.7228810541310541, 0.7437336676533268, 0.7813620071684587, 0.7510902493425213]}, {\"categories\": [\"0\", \"1\", \"2\", \"3\", \"4\", \"5\", \"6\", \"7\", \"8\", \"9\", \"10\", \"11\", \"12\", \"13\", \"14\", \"15\", \"16\", \"17\", \"18\", \"19\", \"20\", \"21\", \"22\", \"23\", \"24\", \"25\", \"26\", \"27\", \"28\", \"29\", \"30\", \"31\", \"32\", \"33\", \"34\", \"35\", \"36\", \"37\", \"38\", \"39\", \"40\", \"41\", \"42\", \"43\", \"44\", \"45\", \"50\", \"51\"], \"mode\": \"lines\", \"name\": \"f1_score_binary_max\", \"stepped\": true, \"type\": \"scatter\", \"data\": [0.7062920875420875, 0.743477660557697, 0.743477660557697, 0.743477660557697, 0.743477660557697, 0.743477660557697, 0.743477660557697, 0.743477660557697, 0.743477660557697, 0.743477660557697, 0.743477660557697, 0.7517156862745098, 0.7517156862745098, 0.7517156862745098, 0.7517156862745098, 0.7517156862745098, 0.7517156862745098, 0.7517156862745098, 0.7517156862745098, 0.7517156862745098, 0.7517156862745098, 0.7517156862745098, 0.7517156862745098, 0.7517156862745098, 0.7517156862745098, 0.7517156862745098, 0.7517156862745098, 0.7517156862745098, 0.756655976859712, 0.762101302785265, 0.762101302785265, 0.762101302785265, 0.762101302785265, 0.762101302785265, 0.762101302785265, 0.762101302785265, 0.762101302785265, 0.762101302785265, 0.762101302785265, 0.762101302785265, 0.762101302785265, 0.762101302785265, 0.762101302785265, 0.762101302785265, 0.762101302785265, 0.762101302785265, 0.7813620071684587, 0.7813620071684587]}], \"matthews_correlation\": [{\"categories\": [\"0\", \"1\", \"2\", \"3\", \"4\", \"5\", \"6\", \"7\", \"8\", \"9\", \"10\", \"11\", \"12\", \"13\", \"14\", \"15\", \"16\", \"17\", \"18\", \"19\", \"20\", \"21\", \"22\", \"23\", \"24\", \"25\", \"26\", \"27\", \"28\", \"29\", \"30\", \"31\", \"32\", \"33\", \"34\", \"35\", \"36\", \"37\", \"38\", \"39\", \"40\", \"41\", \"42\", \"43\", \"44\", \"45\", \"50\", \"51\"], \"mode\": \"markers\", \"name\": \"matthews_correlation\", \"stepped\": false, \"type\": \"scatter\", \"data\": [0.5868804309547295, 0.6364227904469946, 0.6122771785511406, 0.4776175600413508, 0.04076603133027405, 0.6352830521927758, 0.566658801375632, 0.550296049607306, 0.09138341656589756, 0.3542905948538184, 0.5841733530515748, 0.6335826835466045, 0.5021158556676437, 0.25925740637639716, 0.29559434305450066, 0.2757934732656802, 0.3636854863204681, 0.5866262583349211, 0.6220934735142093, 0.5596527812584002, 0.5657467173561752, 0.621640132622636, 0.558034473182681, 0.5890477835499204, 0.6066636762848637, 0.6025213483819871, 0.46849856786368804, 0.5944269460795166, 0.6607026664197355, 0.6658507377388259, 0.6312257458215426, 0.6236551762914277, 0.6025890333985925, 0.6075941203432909, 0.6209256976250679, 0.5804171259607517, 0.6204320526465028, 0.6341060593995838, 0.5682234406658442, 0.5721505104120924, 0.0, 0.6037788731694002, 0.6359213244559834, 0.6330181818415792, 0.6121008240275867, 0.6414208946219345, 0.7109005482992078, 0.6603645360055768]}, {\"categories\": [\"0\", \"1\", \"2\", \"3\", \"4\", \"5\", \"6\", \"7\", \"8\", \"9\", \"10\", \"11\", \"12\", \"13\", \"14\", \"15\", \"16\", \"17\", \"18\", \"19\", \"20\", \"21\", \"22\", \"23\", \"24\", \"25\", \"26\", \"27\", \"28\", \"29\", \"30\", \"31\", \"32\", \"33\", \"34\", \"35\", \"36\", \"37\", \"38\", \"39\", \"40\", \"41\", \"42\", \"43\", \"44\", \"45\", \"50\", \"51\"], \"mode\": \"lines\", \"name\": \"matthews_correlation_max\", \"stepped\": true, \"type\": \"scatter\", \"data\": [0.5868804309547295, 0.6364227904469946, 0.6364227904469946, 0.6364227904469946, 0.6364227904469946, 0.6364227904469946, 0.6364227904469946, 0.6364227904469946, 0.6364227904469946, 0.6364227904469946, 0.6364227904469946, 0.6364227904469946, 0.6364227904469946, 0.6364227904469946, 0.6364227904469946, 0.6364227904469946, 0.6364227904469946, 0.6364227904469946, 0.6364227904469946, 0.6364227904469946, 0.6364227904469946, 0.6364227904469946, 0.6364227904469946, 0.6364227904469946, 0.6364227904469946, 0.6364227904469946, 0.6364227904469946, 0.6364227904469946, 0.6607026664197355, 0.6658507377388259, 0.6658507377388259, 0.6658507377388259, 0.6658507377388259, 0.6658507377388259, 0.6658507377388259, 0.6658507377388259, 0.6658507377388259, 0.6658507377388259, 0.6658507377388259, 0.6658507377388259, 0.6658507377388259, 0.6658507377388259, 0.6658507377388259, 0.6658507377388259, 0.6658507377388259, 0.6658507377388259, 0.7109005482992078, 0.7109005482992078]}], \"average_precision_score_macro\": [{\"categories\": [\"0\", \"1\", \"2\", \"3\", \"4\", \"5\", \"6\", \"7\", \"8\", \"9\", \"10\", \"11\", \"12\", \"13\", \"14\", \"15\", \"16\", \"17\", \"18\", \"19\", \"20\", \"21\", \"22\", \"23\", \"24\", \"25\", \"26\", \"27\", \"28\", \"29\", \"30\", \"31\", \"32\", \"33\", \"34\", \"35\", \"36\", \"37\", \"38\", \"39\", \"40\", \"41\", \"42\", \"43\", \"44\", \"45\", \"50\", \"51\"], \"mode\": \"markers\", \"name\": \"average_precision_score_macro\", \"stepped\": false, \"type\": \"scatter\", \"data\": [0.8685411850573863, 0.8665173576631764, 0.8493523133989941, 0.8233483997852513, 0.5610611761374397, 0.8799103293573651, 0.8384226850573844, 0.885268457352949, 0.5716526031081401, 0.7684159884485888, 0.859002786033568, 0.9026022470831545, 0.8464722291175317, 0.8086716092064359, 0.6864311266539604, 0.6727444758787311, 0.7288557212321529, 0.8389082214874426, 0.8669823124775612, 0.8902922974641121, 0.8412216303029294, 0.8612073025206677, 0.8525154956336882, 0.875312544784689, 0.8902484070549855, 0.8554086330922857, 0.8174655001906443, 0.8714866355529921, 0.8730245228467718, 0.8824028379031565, 0.8795845081651295, 0.8603264611638607, 0.8619378003619944, 0.8625678972387865, 0.8737912044960559, 0.8665109882319886, 0.869440541202509, 0.8944131078578808, 0.8735966819951007, 0.8823142274288249, 0.5259356899609704, 0.8802243593559477, 0.8850433086031769, 0.8913891602301414, 0.862313883389635, 0.8865440121519836, 0.8897544171336638, 0.8891588297182316]}, {\"categories\": [\"0\", \"1\", \"2\", \"3\", \"4\", \"5\", \"6\", \"7\", \"8\", \"9\", \"10\", \"11\", \"12\", \"13\", \"14\", \"15\", \"16\", \"17\", \"18\", \"19\", \"20\", \"21\", \"22\", \"23\", \"24\", \"25\", \"26\", \"27\", \"28\", \"29\", \"30\", \"31\", \"32\", \"33\", \"34\", \"35\", \"36\", \"37\", \"38\", \"39\", \"40\", \"41\", \"42\", \"43\", \"44\", \"45\", \"50\", \"51\"], \"mode\": \"lines\", \"name\": \"average_precision_score_macro_max\", \"stepped\": true, \"type\": \"scatter\", \"data\": [0.8685411850573863, 0.8685411850573863, 0.8685411850573863, 0.8685411850573863, 0.8685411850573863, 0.8799103293573651, 0.8799103293573651, 0.885268457352949, 0.885268457352949, 0.885268457352949, 0.885268457352949, 0.9026022470831545, 0.9026022470831545, 0.9026022470831545, 0.9026022470831545, 0.9026022470831545, 0.9026022470831545, 0.9026022470831545, 0.9026022470831545, 0.9026022470831545, 0.9026022470831545, 0.9026022470831545, 0.9026022470831545, 0.9026022470831545, 0.9026022470831545, 0.9026022470831545, 0.9026022470831545, 0.9026022470831545, 0.9026022470831545, 0.9026022470831545, 0.9026022470831545, 0.9026022470831545, 0.9026022470831545, 0.9026022470831545, 0.9026022470831545, 0.9026022470831545, 0.9026022470831545, 0.9026022470831545, 0.9026022470831545, 0.9026022470831545, 0.9026022470831545, 0.9026022470831545, 0.9026022470831545, 0.9026022470831545, 0.9026022470831545, 0.9026022470831545, 0.9026022470831545, 0.9026022470831545]}], \"average_precision_score_weighted\": [{\"categories\": [\"0\", \"1\", \"2\", \"3\", \"4\", \"5\", \"6\", \"7\", \"8\", \"9\", \"10\", \"11\", \"12\", \"13\", \"14\", \"15\", \"16\", \"17\", \"18\", \"19\", \"20\", \"21\", \"22\", \"23\", \"24\", \"25\", \"26\", \"27\", \"28\", \"29\", \"30\", \"31\", \"32\", \"33\", \"34\", \"35\", \"36\", \"37\", \"38\", \"39\", \"40\", \"41\", \"42\", \"43\", \"44\", \"45\", \"50\", \"51\"], \"mode\": \"markers\", \"name\": \"average_precision_score_weighted\", \"stepped\": false, \"type\": \"scatter\", \"data\": [0.8964927591714007, 0.8938736473388994, 0.8809509678725105, 0.8588789729248733, 0.6156540636947317, 0.9050271948893249, 0.8787605512145298, 0.9097403357757338, 0.6241100746121429, 0.8154505904507697, 0.891433791604957, 0.9237034089783686, 0.8794671942478428, 0.8485842190676, 0.7467393823368723, 0.7334485662959239, 0.7723118195696068, 0.8770216868246052, 0.9000086739549367, 0.9151800686790105, 0.879432200139477, 0.8948997031264604, 0.886808570920429, 0.9024211664828833, 0.9160436844925219, 0.8851289581732054, 0.861870802377744, 0.8995205177737245, 0.8993143459886239, 0.9055376864410133, 0.9065413592309273, 0.8864646137750721, 0.890911128246644, 0.8949886267190171, 0.9001372986583259, 0.8951065440755516, 0.8958230267212123, 0.9175613725996674, 0.9020163450611784, 0.9064725607275617, 0.6023858060418189, 0.9054842272525697, 0.9066645086623004, 0.9148629643805519, 0.8927737803277993, 0.9109139544857107, 0.9139366089317202, 0.9131034475671971]}, {\"categories\": [\"0\", \"1\", \"2\", \"3\", \"4\", \"5\", \"6\", \"7\", \"8\", \"9\", \"10\", \"11\", \"12\", \"13\", \"14\", \"15\", \"16\", \"17\", \"18\", \"19\", \"20\", \"21\", \"22\", \"23\", \"24\", \"25\", \"26\", \"27\", \"28\", \"29\", \"30\", \"31\", \"32\", \"33\", \"34\", \"35\", \"36\", \"37\", \"38\", \"39\", \"40\", \"41\", \"42\", \"43\", \"44\", \"45\", \"50\", \"51\"], \"mode\": \"lines\", \"name\": \"average_precision_score_weighted_max\", \"stepped\": true, \"type\": \"scatter\", \"data\": [0.8964927591714007, 0.8964927591714007, 0.8964927591714007, 0.8964927591714007, 0.8964927591714007, 0.9050271948893249, 0.9050271948893249, 0.9097403357757338, 0.9097403357757338, 0.9097403357757338, 0.9097403357757338, 0.9237034089783686, 0.9237034089783686, 0.9237034089783686, 0.9237034089783686, 0.9237034089783686, 0.9237034089783686, 0.9237034089783686, 0.9237034089783686, 0.9237034089783686, 0.9237034089783686, 0.9237034089783686, 0.9237034089783686, 0.9237034089783686, 0.9237034089783686, 0.9237034089783686, 0.9237034089783686, 0.9237034089783686, 0.9237034089783686, 0.9237034089783686, 0.9237034089783686, 0.9237034089783686, 0.9237034089783686, 0.9237034089783686, 0.9237034089783686, 0.9237034089783686, 0.9237034089783686, 0.9237034089783686, 0.9237034089783686, 0.9237034089783686, 0.9237034089783686, 0.9237034089783686, 0.9237034089783686, 0.9237034089783686, 0.9237034089783686, 0.9237034089783686, 0.9237034089783686, 0.9237034089783686]}], \"accuracy\": [{\"categories\": [\"0\", \"1\", \"2\", \"3\", \"4\", \"5\", \"6\", \"7\", \"8\", \"9\", \"10\", \"11\", \"12\", \"13\", \"14\", \"15\", \"16\", \"17\", \"18\", \"19\", \"20\", \"21\", \"22\", \"23\", \"24\", \"25\", \"26\", \"27\", \"28\", \"29\", \"30\", \"31\", \"32\", \"33\", \"34\", \"35\", \"36\", \"37\", \"38\", \"39\", \"40\", \"41\", \"42\", \"43\", \"44\", \"45\", \"50\", \"51\"], \"mode\": \"markers\", \"name\": \"accuracy\", \"stepped\": false, \"type\": \"scatter\", \"data\": [0.8226126126126126, 0.8393693693693695, 0.8292792792792792, 0.7826126126126126, 0.5952702702702702, 0.8426576576576577, 0.8024324324324325, 0.8126576576576576, 0.6118018018018019, 0.7422972972972972, 0.8257207207207207, 0.8324324324324325, 0.7522072072072072, 0.7125225225225225, 0.719009009009009, 0.7257207207207207, 0.7425225225225225, 0.8192342342342342, 0.8424774774774775, 0.809099099099099, 0.8124774774774774, 0.8392792792792793, 0.8091891891891891, 0.8260360360360361, 0.8325225225225226, 0.8327477477477478, 0.7690090090090089, 0.8225225225225226, 0.8527927927927927, 0.8561261261261262, 0.8392792792792793, 0.8393243243243244, 0.826036036036036, 0.8326126126126127, 0.8392342342342342, 0.8193693693693694, 0.836081081081081, 0.8426576576576577, 0.8127027027027027, 0.815990990990991, 0.6790990990990992, 0.8293243243243243, 0.8427477477477476, 0.8392342342342343, 0.8324774774774775, 0.8426576576576577, 0.8727927927927928, 0.8493693693693694]}, {\"categories\": [\"0\", \"1\", \"2\", \"3\", \"4\", \"5\", \"6\", \"7\", \"8\", \"9\", \"10\", \"11\", \"12\", \"13\", \"14\", \"15\", \"16\", \"17\", \"18\", \"19\", \"20\", \"21\", \"22\", \"23\", \"24\", \"25\", \"26\", \"27\", \"28\", \"29\", \"30\", \"31\", \"32\", \"33\", \"34\", \"35\", \"36\", \"37\", \"38\", \"39\", \"40\", \"41\", \"42\", \"43\", \"44\", \"45\", \"50\", \"51\"], \"mode\": \"lines\", \"name\": \"accuracy_max\", \"stepped\": true, \"type\": \"scatter\", \"data\": [0.8226126126126126, 0.8393693693693695, 0.8393693693693695, 0.8393693693693695, 0.8393693693693695, 0.8426576576576577, 0.8426576576576577, 0.8426576576576577, 0.8426576576576577, 0.8426576576576577, 0.8426576576576577, 0.8426576576576577, 0.8426576576576577, 0.8426576576576577, 0.8426576576576577, 0.8426576576576577, 0.8426576576576577, 0.8426576576576577, 0.8426576576576577, 0.8426576576576577, 0.8426576576576577, 0.8426576576576577, 0.8426576576576577, 0.8426576576576577, 0.8426576576576577, 0.8426576576576577, 0.8426576576576577, 0.8426576576576577, 0.8527927927927927, 0.8561261261261262, 0.8561261261261262, 0.8561261261261262, 0.8561261261261262, 0.8561261261261262, 0.8561261261261262, 0.8561261261261262, 0.8561261261261262, 0.8561261261261262, 0.8561261261261262, 0.8561261261261262, 0.8561261261261262, 0.8561261261261262, 0.8561261261261262, 0.8561261261261262, 0.8561261261261262, 0.8561261261261262, 0.8727927927927928, 0.8727927927927928]}], \"f1_score_macro\": [{\"categories\": [\"0\", \"1\", \"2\", \"3\", \"4\", \"5\", \"6\", \"7\", \"8\", \"9\", \"10\", \"11\", \"12\", \"13\", \"14\", \"15\", \"16\", \"17\", \"18\", \"19\", \"20\", \"21\", \"22\", \"23\", \"24\", \"25\", \"26\", \"27\", \"28\", \"29\", \"30\", \"31\", \"32\", \"33\", \"34\", \"35\", \"36\", \"37\", \"38\", \"39\", \"40\", \"41\", \"42\", \"43\", \"44\", \"45\", \"50\", \"51\"], \"mode\": \"markers\", \"name\": \"f1_score_macro\", \"stepped\": false, \"type\": \"scatter\", \"data\": [0.7878498583923428, 0.8122206358303934, 0.8046668242037747, 0.7223693752777298, 0.5065091950084263, 0.8090983904697884, 0.7779379835130895, 0.7552153054187462, 0.5253627509180099, 0.6581533918697993, 0.7881132671296084, 0.8110589925625422, 0.732135176271728, 0.5004256488714967, 0.633474038793862, 0.5978550037250723, 0.6555093708839905, 0.7795121842521181, 0.8038538961512879, 0.7678351897688984, 0.7736209810221275, 0.8015230360886365, 0.777255074875345, 0.7749226364963347, 0.7962432891910851, 0.7933439546290136, 0.7337715771497443, 0.7890616557297679, 0.8241325064092966, 0.8279686526375425, 0.8094174800993437, 0.8029881258932944, 0.7930558689810947, 0.7928704679219436, 0.8040472041252107, 0.7834572608279895, 0.8043752012874095, 0.8101019005011454, 0.7707941242254079, 0.7639535549008181, 0.4028479422190175, 0.7898059380759093, 0.8108216650179396, 0.8097179227869983, 0.8001072305603861, 0.8140083690442689, 0.844859739472524, 0.8203981000745206]}, {\"categories\": [\"0\", \"1\", \"2\", \"3\", \"4\", \"5\", \"6\", \"7\", \"8\", \"9\", \"10\", \"11\", \"12\", \"13\", \"14\", \"15\", \"16\", \"17\", \"18\", \"19\", \"20\", \"21\", \"22\", \"23\", \"24\", \"25\", \"26\", \"27\", \"28\", \"29\", \"30\", \"31\", \"32\", \"33\", \"34\", \"35\", \"36\", \"37\", \"38\", \"39\", \"40\", \"41\", \"42\", \"43\", \"44\", \"45\", \"50\", \"51\"], \"mode\": \"lines\", \"name\": \"f1_score_macro_max\", \"stepped\": true, \"type\": \"scatter\", \"data\": [0.7878498583923428, 0.8122206358303934, 0.8122206358303934, 0.8122206358303934, 0.8122206358303934, 0.8122206358303934, 0.8122206358303934, 0.8122206358303934, 0.8122206358303934, 0.8122206358303934, 0.8122206358303934, 0.8122206358303934, 0.8122206358303934, 0.8122206358303934, 0.8122206358303934, 0.8122206358303934, 0.8122206358303934, 0.8122206358303934, 0.8122206358303934, 0.8122206358303934, 0.8122206358303934, 0.8122206358303934, 0.8122206358303934, 0.8122206358303934, 0.8122206358303934, 0.8122206358303934, 0.8122206358303934, 0.8122206358303934, 0.8241325064092966, 0.8279686526375425, 0.8279686526375425, 0.8279686526375425, 0.8279686526375425, 0.8279686526375425, 0.8279686526375425, 0.8279686526375425, 0.8279686526375425, 0.8279686526375425, 0.8279686526375425, 0.8279686526375425, 0.8279686526375425, 0.8279686526375425, 0.8279686526375425, 0.8279686526375425, 0.8279686526375425, 0.8279686526375425, 0.844859739472524, 0.844859739472524]}], \"precision_score_macro\": [{\"categories\": [\"0\", \"1\", \"2\", \"3\", \"4\", \"5\", \"6\", \"7\", \"8\", \"9\", \"10\", \"11\", \"12\", \"13\", \"14\", \"15\", \"16\", \"17\", \"18\", \"19\", \"20\", \"21\", \"22\", \"23\", \"24\", \"25\", \"26\", \"27\", \"28\", \"29\", \"30\", \"31\", \"32\", \"33\", \"34\", \"35\", \"36\", \"37\", \"38\", \"39\", \"40\", \"41\", \"42\", \"43\", \"44\", \"45\", \"50\", \"51\"], \"mode\": \"markers\", \"name\": \"precision_score_macro\", \"stepped\": false, \"type\": \"scatter\", \"data\": [0.8037762948861226, 0.8291721175649747, 0.7993068252724449, 0.7657581770462574, 0.5140364050902693, 0.8289182907562018, 0.7721700476017461, 0.8140947607654301, 0.547719335246982, 0.7080430930294246, 0.8039920850422424, 0.8086860400754852, 0.7367496966861572, 0.8506891574673265, 0.6610588972431077, 0.6835921870150926, 0.7180119593227736, 0.8098591927405885, 0.8197257339225419, 0.8000630980123717, 0.7954022674178016, 0.8294535463913333, 0.7773977689761589, 0.8379539933130717, 0.8127789481349479, 0.8281165840442686, 0.7303800842283394, 0.8059408523090902, 0.842340355172802, 0.8447474007405339, 0.8272799870539234, 0.8271490158284545, 0.8126540309106098, 0.8278068396724412, 0.8210492430816746, 0.8047189663934947, 0.8197444275976279, 0.82739533767335, 0.8021062271062271, 0.8271149856677041, 0.3395495495495496, 0.8207581523445254, 0.831754439063761, 0.8250847224010399, 0.8138041568830355, 0.8319829323941166, 0.8752750680580762, 0.8434732664995823]}, {\"categories\": [\"0\", \"1\", \"2\", \"3\", \"4\", \"5\", \"6\", \"7\", \"8\", \"9\", \"10\", \"11\", \"12\", \"13\", \"14\", \"15\", \"16\", \"17\", \"18\", \"19\", \"20\", \"21\", \"22\", \"23\", \"24\", \"25\", \"26\", \"27\", \"28\", \"29\", \"30\", \"31\", \"32\", \"33\", \"34\", \"35\", \"36\", \"37\", \"38\", \"39\", \"40\", \"41\", \"42\", \"43\", \"44\", \"45\", \"50\", \"51\"], \"mode\": \"lines\", \"name\": \"precision_score_macro_max\", \"stepped\": true, \"type\": \"scatter\", \"data\": [0.8037762948861226, 0.8291721175649747, 0.8291721175649747, 0.8291721175649747, 0.8291721175649747, 0.8291721175649747, 0.8291721175649747, 0.8291721175649747, 0.8291721175649747, 0.8291721175649747, 0.8291721175649747, 0.8291721175649747, 0.8291721175649747, 0.8506891574673265, 0.8506891574673265, 0.8506891574673265, 0.8506891574673265, 0.8506891574673265, 0.8506891574673265, 0.8506891574673265, 0.8506891574673265, 0.8506891574673265, 0.8506891574673265, 0.8506891574673265, 0.8506891574673265, 0.8506891574673265, 0.8506891574673265, 0.8506891574673265, 0.8506891574673265, 0.8506891574673265, 0.8506891574673265, 0.8506891574673265, 0.8506891574673265, 0.8506891574673265, 0.8506891574673265, 0.8506891574673265, 0.8506891574673265, 0.8506891574673265, 0.8506891574673265, 0.8506891574673265, 0.8506891574673265, 0.8506891574673265, 0.8506891574673265, 0.8506891574673265, 0.8506891574673265, 0.8506891574673265, 0.8752750680580762, 0.8752750680580762]}], \"precision_score_binary\": [{\"categories\": [\"0\", \"1\", \"2\", \"3\", \"4\", \"5\", \"6\", \"7\", \"8\", \"9\", \"10\", \"11\", \"12\", \"13\", \"14\", \"15\", \"16\", \"17\", \"18\", \"19\", \"20\", \"21\", \"22\", \"23\", \"24\", \"25\", \"26\", \"27\", \"28\", \"29\", \"30\", \"31\", \"32\", \"33\", \"34\", \"35\", \"36\", \"37\", \"38\", \"39\", \"40\", \"41\", \"42\", \"43\", \"44\", \"45\", \"50\", \"51\"], \"mode\": \"markers\", \"name\": \"precision_score_binary\", \"stepped\": false, \"type\": \"scatter\", \"data\": [0.7668350168350169, 0.8047161172161172, 0.7193222548061258, 0.7358307453416149, 0.33785714285714286, 0.8028697308883067, 0.6641898864809082, 0.8219818376068375, 0.39570433436532504, 0.6474931318681318, 0.7629843604108311, 0.7234848484848484, 0.575962961832527, 1.0, 0.5671052631578947, 0.6343378843378843, 0.6803571428571429, 0.7831182523616734, 0.7796918767507003, 0.7718325791855203, 0.7550976800976801, 0.8153508771929825, 0.6997895622895624, 0.8624871001031992, 0.7723710317460317, 0.8240612648221344, 0.6361495135688685, 0.7650959238130292, 0.8198412698412698, 0.825564381270903, 0.7998015873015873, 0.8073239164086687, 0.7771929824561403, 0.8157051282051282, 0.7856778996865205, 0.7788961038961039, 0.7884633458646617, 0.7975581983805669, 0.7756410256410257, 0.8465153267784846, 0.0, 0.8015491452991452, 0.8108134920634921, 0.7941071428571429, 0.7729479949874686, 0.8074317738791423, 0.8791666666666667, 0.8222222222222222]}, {\"categories\": [\"0\", \"1\", \"2\", \"3\", \"4\", \"5\", \"6\", \"7\", \"8\", \"9\", \"10\", \"11\", \"12\", \"13\", \"14\", \"15\", \"16\", \"17\", \"18\", \"19\", \"20\", \"21\", \"22\", \"23\", \"24\", \"25\", \"26\", \"27\", \"28\", \"29\", \"30\", \"31\", \"32\", \"33\", \"34\", \"35\", \"36\", \"37\", \"38\", \"39\", \"40\", \"41\", \"42\", \"43\", \"44\", \"45\", \"50\", \"51\"], \"mode\": \"lines\", \"name\": \"precision_score_binary_max\", \"stepped\": true, \"type\": \"scatter\", \"data\": [0.7668350168350169, 0.8047161172161172, 0.8047161172161172, 0.8047161172161172, 0.8047161172161172, 0.8047161172161172, 0.8047161172161172, 0.8219818376068375, 0.8219818376068375, 0.8219818376068375, 0.8219818376068375, 0.8219818376068375, 0.8219818376068375, 1.0, 1.0, 1.0, 1.0, 1.0, 1.0, 1.0, 1.0, 1.0, 1.0, 1.0, 1.0, 1.0, 1.0, 1.0, 1.0, 1.0, 1.0, 1.0, 1.0, 1.0, 1.0, 1.0, 1.0, 1.0, 1.0, 1.0, 1.0, 1.0, 1.0, 1.0, 1.0, 1.0, 1.0, 1.0]}], \"average_precision_score_binary\": [{\"categories\": [\"0\", \"1\", \"2\", \"3\", \"4\", \"5\", \"6\", \"7\", \"8\", \"9\", \"10\", \"11\", \"12\", \"13\", \"14\", \"15\", \"16\", \"17\", \"18\", \"19\", \"20\", \"21\", \"22\", \"23\", \"24\", \"25\", \"26\", \"27\", \"28\", \"29\", \"30\", \"31\", \"32\", \"33\", \"34\", \"35\", \"36\", \"37\", \"38\", \"39\", \"40\", \"41\", \"42\", \"43\", \"44\", \"45\", \"50\", \"51\"], \"mode\": \"markers\", \"name\": \"average_precision_score_binary\", \"stepped\": false, \"type\": \"scatter\", \"data\": [0.7960724208686005, 0.7958389741480928, 0.7791333401124649, 0.7377646050630084, 0.44208409162002926, 0.8196860884323005, 0.7523571656113454, 0.8268506927188204, 0.44927337836920767, 0.6513555341698101, 0.7775660665753797, 0.8492671109556522, 0.7714360326014482, 0.7155690587091048, 0.5477416144733267, 0.5436289947473529, 0.632762197644785, 0.7597730611282727, 0.7890193748856865, 0.8314719177215093, 0.7595364790775163, 0.7825054382273468, 0.7631978349127262, 0.807565807717703, 0.8278559033181686, 0.7827240756048433, 0.7064822740687126, 0.8002146247235931, 0.8065652997778119, 0.8206732996271977, 0.808946029220425, 0.7959147354620032, 0.7858992329952037, 0.7842636327947013, 0.8057845152565513, 0.7944689310633066, 0.7986547316766371, 0.8346547119583363, 0.7993392822324176, 0.8243608221188181, 0.3529424598541694, 0.8156156263107881, 0.8268119231159972, 0.832403011700811, 0.7857896623471307, 0.8259461128842012, 0.8293550699782835, 0.8258667560344696]}, {\"categories\": [\"0\", \"1\", \"2\", \"3\", \"4\", \"5\", \"6\", \"7\", \"8\", \"9\", \"10\", \"11\", \"12\", \"13\", \"14\", \"15\", \"16\", \"17\", \"18\", \"19\", \"20\", \"21\", \"22\", \"23\", \"24\", \"25\", \"26\", \"27\", \"28\", \"29\", \"30\", \"31\", \"32\", \"33\", \"34\", \"35\", \"36\", \"37\", \"38\", \"39\", \"40\", \"41\", \"42\", \"43\", \"44\", \"45\", \"50\", \"51\"], \"mode\": \"lines\", \"name\": \"average_precision_score_binary_max\", \"stepped\": true, \"type\": \"scatter\", \"data\": [0.7960724208686005, 0.7960724208686005, 0.7960724208686005, 0.7960724208686005, 0.7960724208686005, 0.8196860884323005, 0.8196860884323005, 0.8268506927188204, 0.8268506927188204, 0.8268506927188204, 0.8268506927188204, 0.8492671109556522, 0.8492671109556522, 0.8492671109556522, 0.8492671109556522, 0.8492671109556522, 0.8492671109556522, 0.8492671109556522, 0.8492671109556522, 0.8492671109556522, 0.8492671109556522, 0.8492671109556522, 0.8492671109556522, 0.8492671109556522, 0.8492671109556522, 0.8492671109556522, 0.8492671109556522, 0.8492671109556522, 0.8492671109556522, 0.8492671109556522, 0.8492671109556522, 0.8492671109556522, 0.8492671109556522, 0.8492671109556522, 0.8492671109556522, 0.8492671109556522, 0.8492671109556522, 0.8492671109556522, 0.8492671109556522, 0.8492671109556522, 0.8492671109556522, 0.8492671109556522, 0.8492671109556522, 0.8492671109556522, 0.8492671109556522, 0.8492671109556522, 0.8492671109556522, 0.8492671109556522]}], \"AUC_binary\": [{\"categories\": [\"0\", \"1\", \"2\", \"3\", \"4\", \"5\", \"6\", \"7\", \"8\", \"9\", \"10\", \"11\", \"12\", \"13\", \"14\", \"15\", \"16\", \"17\", \"18\", \"19\", \"20\", \"21\", \"22\", \"23\", \"24\", \"25\", \"26\", \"27\", \"28\", \"29\", \"30\", \"31\", \"32\", \"33\", \"34\", \"35\", \"36\", \"37\", \"38\", \"39\", \"40\", \"41\", \"42\", \"43\", \"44\", \"45\", \"50\", \"51\"], \"mode\": \"markers\", \"name\": \"AUC_binary\", \"stepped\": false, \"type\": \"scatter\", \"data\": [0.8850014980311591, 0.8827219175206463, 0.8667376957631195, 0.8417193652627973, 0.5247566506129359, 0.8969605678115565, 0.8624833721938242, 0.9005852809436848, 0.5297699723900289, 0.7925304548715565, 0.8779925295462019, 0.9131234068557514, 0.8593906766752812, 0.8269088432753687, 0.7279660634798346, 0.6986562388751654, 0.7371203034515182, 0.8600156206264964, 0.8891312234532573, 0.8989699082566315, 0.8617743975265162, 0.8965572118820706, 0.8793048269213524, 0.8910300968387126, 0.9058615224752231, 0.8730985025123443, 0.8539681096001718, 0.8936438724750871, 0.8872192295568001, 0.897058551278184, 0.8956383175309729, 0.8843591492337961, 0.8821381184728643, 0.8883576992687163, 0.893784002929483, 0.8841662310147479, 0.88613509319724, 0.9076973409777083, 0.8950652866436766, 0.8948334824570701, 0.5515187861939275, 0.8936982058274431, 0.8973526460461488, 0.9063354489201947, 0.8802740377952243, 0.9012012698276823, 0.9057800309389292, 0.908525240975806]}, {\"categories\": [\"0\", \"1\", \"2\", \"3\", \"4\", \"5\", \"6\", \"7\", \"8\", \"9\", \"10\", \"11\", \"12\", \"13\", \"14\", \"15\", \"16\", \"17\", \"18\", \"19\", \"20\", \"21\", \"22\", \"23\", \"24\", \"25\", \"26\", \"27\", \"28\", \"29\", \"30\", \"31\", \"32\", \"33\", \"34\", \"35\", \"36\", \"37\", \"38\", \"39\", \"40\", \"41\", \"42\", \"43\", \"44\", \"45\", \"50\", \"51\"], \"mode\": \"lines\", \"name\": \"AUC_binary_max\", \"stepped\": true, \"type\": \"scatter\", \"data\": [0.8850014980311591, 0.8850014980311591, 0.8850014980311591, 0.8850014980311591, 0.8850014980311591, 0.8969605678115565, 0.8969605678115565, 0.9005852809436848, 0.9005852809436848, 0.9005852809436848, 0.9005852809436848, 0.9131234068557514, 0.9131234068557514, 0.9131234068557514, 0.9131234068557514, 0.9131234068557514, 0.9131234068557514, 0.9131234068557514, 0.9131234068557514, 0.9131234068557514, 0.9131234068557514, 0.9131234068557514, 0.9131234068557514, 0.9131234068557514, 0.9131234068557514, 0.9131234068557514, 0.9131234068557514, 0.9131234068557514, 0.9131234068557514, 0.9131234068557514, 0.9131234068557514, 0.9131234068557514, 0.9131234068557514, 0.9131234068557514, 0.9131234068557514, 0.9131234068557514, 0.9131234068557514, 0.9131234068557514, 0.9131234068557514, 0.9131234068557514, 0.9131234068557514, 0.9131234068557514, 0.9131234068557514, 0.9131234068557514, 0.9131234068557514, 0.9131234068557514, 0.9131234068557514, 0.9131234068557514]}], \"precision_score_weighted\": [{\"categories\": [\"0\", \"1\", \"2\", \"3\", \"4\", \"5\", \"6\", \"7\", \"8\", \"9\", \"10\", \"11\", \"12\", \"13\", \"14\", \"15\", \"16\", \"17\", \"18\", \"19\", \"20\", \"21\", \"22\", \"23\", \"24\", \"25\", \"26\", \"27\", \"28\", \"29\", \"30\", \"31\", \"32\", \"33\", \"34\", \"35\", \"36\", \"37\", \"38\", \"39\", \"40\", \"41\", \"42\", \"43\", \"44\", \"45\", \"50\", \"51\"], \"mode\": \"markers\", \"name\": \"precision_score_weighted\", \"stepped\": false, \"type\": \"scatter\", \"data\": [0.8245604957592596, 0.8454658866087438, 0.8344990348784915, 0.7867023523824836, 0.5871559871458388, 0.8494024965729583, 0.8200871789160016, 0.8245083196984243, 0.615373618900863, 0.740009174917241, 0.8256492755090049, 0.8492219967076946, 0.8002592795951876, 0.8040105951021443, 0.7119612093296304, 0.7220774534363845, 0.7461041227825997, 0.8331317223046546, 0.8453277974684261, 0.8226709578885657, 0.8221919605178223, 0.8446113732767677, 0.812461681961682, 0.8375439848531037, 0.8385224818629075, 0.8333790662634811, 0.7705880591089023, 0.8327424648101339, 0.858403255078787, 0.8583643255168207, 0.8445950958557341, 0.8456950255208768, 0.8328250581408475, 0.8402020229557824, 0.8421717483335618, 0.821394169837566, 0.8404410255778677, 0.8492165564571581, 0.8226782166782167, 0.8301237113685275, 0.46863748072396716, 0.836076854024507, 0.8462167979117131, 0.8461448940486677, 0.838411965942761, 0.8478993419256577, 0.8824245461432394, 0.8586613154507892]}, {\"categories\": [\"0\", \"1\", \"2\", \"3\", \"4\", \"5\", \"6\", \"7\", \"8\", \"9\", \"10\", \"11\", \"12\", \"13\", \"14\", \"15\", \"16\", \"17\", \"18\", \"19\", \"20\", \"21\", \"22\", \"23\", \"24\", \"25\", \"26\", \"27\", \"28\", \"29\", \"30\", \"31\", \"32\", \"33\", \"34\", \"35\", \"36\", \"37\", \"38\", \"39\", \"40\", \"41\", \"42\", \"43\", \"44\", \"45\", \"50\", \"51\"], \"mode\": \"lines\", \"name\": \"precision_score_weighted_max\", \"stepped\": true, \"type\": \"scatter\", \"data\": [0.8245604957592596, 0.8454658866087438, 0.8454658866087438, 0.8454658866087438, 0.8454658866087438, 0.8494024965729583, 0.8494024965729583, 0.8494024965729583, 0.8494024965729583, 0.8494024965729583, 0.8494024965729583, 0.8494024965729583, 0.8494024965729583, 0.8494024965729583, 0.8494024965729583, 0.8494024965729583, 0.8494024965729583, 0.8494024965729583, 0.8494024965729583, 0.8494024965729583, 0.8494024965729583, 0.8494024965729583, 0.8494024965729583, 0.8494024965729583, 0.8494024965729583, 0.8494024965729583, 0.8494024965729583, 0.8494024965729583, 0.858403255078787, 0.858403255078787, 0.858403255078787, 0.858403255078787, 0.858403255078787, 0.858403255078787, 0.858403255078787, 0.858403255078787, 0.858403255078787, 0.858403255078787, 0.858403255078787, 0.858403255078787, 0.858403255078787, 0.858403255078787, 0.858403255078787, 0.858403255078787, 0.858403255078787, 0.858403255078787, 0.8824245461432394, 0.8824245461432394]}], \"AUC_macro\": [{\"categories\": [\"0\", \"1\", \"2\", \"3\", \"4\", \"5\", \"6\", \"7\", \"8\", \"9\", \"10\", \"11\", \"12\", \"13\", \"14\", \"15\", \"16\", \"17\", \"18\", \"19\", \"20\", \"21\", \"22\", \"23\", \"24\", \"25\", \"26\", \"27\", \"28\", \"29\", \"30\", \"31\", \"32\", \"33\", \"34\", \"35\", \"36\", \"37\", \"38\", \"39\", \"40\", \"41\", \"42\", \"43\", \"44\", \"45\", \"50\", \"51\"], \"mode\": \"markers\", \"name\": \"AUC_macro\", \"stepped\": false, \"type\": \"scatter\", \"data\": [0.8850014980311591, 0.8827219175206464, 0.8667376957631195, 0.8417193652627973, 0.5247566506129359, 0.8969605678115566, 0.8624833721938242, 0.9005852809436848, 0.5297699723900289, 0.7925304548715566, 0.8779925295462019, 0.9131234068557514, 0.8593906766752812, 0.8269088432753687, 0.7279660634798347, 0.6986562388751656, 0.7371203034515182, 0.8600156206264964, 0.8891312234532573, 0.8989699082566315, 0.8617743975265162, 0.8965572118820706, 0.8793048269213524, 0.8910300968387126, 0.9058615224752231, 0.8730985025123443, 0.8539681096001718, 0.8936438724750871, 0.8872192295568001, 0.8970585512781839, 0.8956383175309729, 0.8843591492337961, 0.8821381184728643, 0.8883576992687163, 0.893784002929483, 0.884166231014748, 0.88613509319724, 0.9076973409777083, 0.8950652866436766, 0.8948334824570701, 0.5515187861939275, 0.893698205827443, 0.8973526460461487, 0.9063354489201947, 0.8802740377952243, 0.9012012698276823, 0.9057800309389292, 0.908525240975806]}, {\"categories\": [\"0\", \"1\", \"2\", \"3\", \"4\", \"5\", \"6\", \"7\", \"8\", \"9\", \"10\", \"11\", \"12\", \"13\", \"14\", \"15\", \"16\", \"17\", \"18\", \"19\", \"20\", \"21\", \"22\", \"23\", \"24\", \"25\", \"26\", \"27\", \"28\", \"29\", \"30\", \"31\", \"32\", \"33\", \"34\", \"35\", \"36\", \"37\", \"38\", \"39\", \"40\", \"41\", \"42\", \"43\", \"44\", \"45\", \"50\", \"51\"], \"mode\": \"lines\", \"name\": \"AUC_macro_max\", \"stepped\": true, \"type\": \"scatter\", \"data\": [0.8850014980311591, 0.8850014980311591, 0.8850014980311591, 0.8850014980311591, 0.8850014980311591, 0.8969605678115566, 0.8969605678115566, 0.9005852809436848, 0.9005852809436848, 0.9005852809436848, 0.9005852809436848, 0.9131234068557514, 0.9131234068557514, 0.9131234068557514, 0.9131234068557514, 0.9131234068557514, 0.9131234068557514, 0.9131234068557514, 0.9131234068557514, 0.9131234068557514, 0.9131234068557514, 0.9131234068557514, 0.9131234068557514, 0.9131234068557514, 0.9131234068557514, 0.9131234068557514, 0.9131234068557514, 0.9131234068557514, 0.9131234068557514, 0.9131234068557514, 0.9131234068557514, 0.9131234068557514, 0.9131234068557514, 0.9131234068557514, 0.9131234068557514, 0.9131234068557514, 0.9131234068557514, 0.9131234068557514, 0.9131234068557514, 0.9131234068557514, 0.9131234068557514, 0.9131234068557514, 0.9131234068557514, 0.9131234068557514, 0.9131234068557514, 0.9131234068557514, 0.9131234068557514, 0.9131234068557514]}], \"f1_score_weighted\": [{\"categories\": [\"0\", \"1\", \"2\", \"3\", \"4\", \"5\", \"6\", \"7\", \"8\", \"9\", \"10\", \"11\", \"12\", \"13\", \"14\", \"15\", \"16\", \"17\", \"18\", \"19\", \"20\", \"21\", \"22\", \"23\", \"24\", \"25\", \"26\", \"27\", \"28\", \"29\", \"30\", \"31\", \"32\", \"33\", \"34\", \"35\", \"36\", \"37\", \"38\", \"39\", \"40\", \"41\", \"42\", \"43\", \"44\", \"45\", \"50\", \"51\"], \"mode\": \"markers\", \"name\": \"f1_score_weighted\", \"stepped\": false, \"type\": \"scatter\", \"data\": [0.8181888956625799, 0.8364435371064741, 0.8306097084336073, 0.7686491354591958, 0.5788618192250332, 0.8375497564989829, 0.806664794390922, 0.7995128926135047, 0.5944246480608617, 0.7244193907531955, 0.8219419158065053, 0.8357761818613745, 0.759221518232892, 0.6232709742423981, 0.702464461970935, 0.686750846174414, 0.7193482799385437, 0.8119868169507576, 0.8369906719808909, 0.803991712967836, 0.8080093639095861, 0.8328237217705908, 0.8091467592368704, 0.8135910133642541, 0.8284374614407273, 0.8261121978309311, 0.7694263002255382, 0.8194485947714891, 0.8494434559228328, 0.8525158782552721, 0.8358022077740443, 0.8337356951903852, 0.8212515284881209, 0.825936710036332, 0.8345860373095307, 0.8138017525013705, 0.8324417467782474, 0.838959612367688, 0.804144858445435, 0.8015474191835448, 0.5525023137601632, 0.8211420581486539, 0.8376656729422215, 0.8359022328867431, 0.8294967432611084, 0.8385978438767928, 0.8671048012082168, 0.8442252625893891]}, {\"categories\": [\"0\", \"1\", \"2\", \"3\", \"4\", \"5\", \"6\", \"7\", \"8\", \"9\", \"10\", \"11\", \"12\", \"13\", \"14\", \"15\", \"16\", \"17\", \"18\", \"19\", \"20\", \"21\", \"22\", \"23\", \"24\", \"25\", \"26\", \"27\", \"28\", \"29\", \"30\", \"31\", \"32\", \"33\", \"34\", \"35\", \"36\", \"37\", \"38\", \"39\", \"40\", \"41\", \"42\", \"43\", \"44\", \"45\", \"50\", \"51\"], \"mode\": \"lines\", \"name\": \"f1_score_weighted_max\", \"stepped\": true, \"type\": \"scatter\", \"data\": [0.8181888956625799, 0.8364435371064741, 0.8364435371064741, 0.8364435371064741, 0.8364435371064741, 0.8375497564989829, 0.8375497564989829, 0.8375497564989829, 0.8375497564989829, 0.8375497564989829, 0.8375497564989829, 0.8375497564989829, 0.8375497564989829, 0.8375497564989829, 0.8375497564989829, 0.8375497564989829, 0.8375497564989829, 0.8375497564989829, 0.8375497564989829, 0.8375497564989829, 0.8375497564989829, 0.8375497564989829, 0.8375497564989829, 0.8375497564989829, 0.8375497564989829, 0.8375497564989829, 0.8375497564989829, 0.8375497564989829, 0.8494434559228328, 0.8525158782552721, 0.8525158782552721, 0.8525158782552721, 0.8525158782552721, 0.8525158782552721, 0.8525158782552721, 0.8525158782552721, 0.8525158782552721, 0.8525158782552721, 0.8525158782552721, 0.8525158782552721, 0.8525158782552721, 0.8525158782552721, 0.8525158782552721, 0.8525158782552721, 0.8525158782552721, 0.8525158782552721, 0.8671048012082168, 0.8671048012082168]}], \"precision_score_micro\": [{\"categories\": [\"0\", \"1\", \"2\", \"3\", \"4\", \"5\", \"6\", \"7\", \"8\", \"9\", \"10\", \"11\", \"12\", \"13\", \"14\", \"15\", \"16\", \"17\", \"18\", \"19\", \"20\", \"21\", \"22\", \"23\", \"24\", \"25\", \"26\", \"27\", \"28\", \"29\", \"30\", \"31\", \"32\", \"33\", \"34\", \"35\", \"36\", \"37\", \"38\", \"39\", \"40\", \"41\", \"42\", \"43\", \"44\", \"45\", \"50\", \"51\"], \"mode\": \"markers\", \"name\": \"precision_score_micro\", \"stepped\": false, \"type\": \"scatter\", \"data\": [0.8226126126126126, 0.8393693693693695, 0.8292792792792792, 0.7826126126126126, 0.5952702702702702, 0.8426576576576577, 0.8024324324324325, 0.8126576576576576, 0.6118018018018019, 0.7422972972972972, 0.8257207207207207, 0.8324324324324325, 0.7522072072072072, 0.7125225225225225, 0.719009009009009, 0.7257207207207207, 0.7425225225225225, 0.8192342342342342, 0.8424774774774775, 0.809099099099099, 0.8124774774774774, 0.8392792792792793, 0.8091891891891891, 0.8260360360360361, 0.8325225225225226, 0.8327477477477478, 0.7690090090090089, 0.8225225225225226, 0.8527927927927927, 0.8561261261261262, 0.8392792792792793, 0.8393243243243244, 0.826036036036036, 0.8326126126126127, 0.8392342342342342, 0.8193693693693694, 0.836081081081081, 0.8426576576576577, 0.8127027027027027, 0.815990990990991, 0.6790990990990992, 0.8293243243243243, 0.8427477477477476, 0.8392342342342343, 0.8324774774774775, 0.8426576576576577, 0.8727927927927928, 0.8493693693693694]}, {\"categories\": [\"0\", \"1\", \"2\", \"3\", \"4\", \"5\", \"6\", \"7\", \"8\", \"9\", \"10\", \"11\", \"12\", \"13\", \"14\", \"15\", \"16\", \"17\", \"18\", \"19\", \"20\", \"21\", \"22\", \"23\", \"24\", \"25\", \"26\", \"27\", \"28\", \"29\", \"30\", \"31\", \"32\", \"33\", \"34\", \"35\", \"36\", \"37\", \"38\", \"39\", \"40\", \"41\", \"42\", \"43\", \"44\", \"45\", \"50\", \"51\"], \"mode\": \"lines\", \"name\": \"precision_score_micro_max\", \"stepped\": true, \"type\": \"scatter\", \"data\": [0.8226126126126126, 0.8393693693693695, 0.8393693693693695, 0.8393693693693695, 0.8393693693693695, 0.8426576576576577, 0.8426576576576577, 0.8426576576576577, 0.8426576576576577, 0.8426576576576577, 0.8426576576576577, 0.8426576576576577, 0.8426576576576577, 0.8426576576576577, 0.8426576576576577, 0.8426576576576577, 0.8426576576576577, 0.8426576576576577, 0.8426576576576577, 0.8426576576576577, 0.8426576576576577, 0.8426576576576577, 0.8426576576576577, 0.8426576576576577, 0.8426576576576577, 0.8426576576576577, 0.8426576576576577, 0.8426576576576577, 0.8527927927927927, 0.8561261261261262, 0.8561261261261262, 0.8561261261261262, 0.8561261261261262, 0.8561261261261262, 0.8561261261261262, 0.8561261261261262, 0.8561261261261262, 0.8561261261261262, 0.8561261261261262, 0.8561261261261262, 0.8561261261261262, 0.8561261261261262, 0.8561261261261262, 0.8561261261261262, 0.8561261261261262, 0.8561261261261262, 0.8727927927927928, 0.8727927927927928]}], \"f1_score_micro\": [{\"categories\": [\"0\", \"1\", \"2\", \"3\", \"4\", \"5\", \"6\", \"7\", \"8\", \"9\", \"10\", \"11\", \"12\", \"13\", \"14\", \"15\", \"16\", \"17\", \"18\", \"19\", \"20\", \"21\", \"22\", \"23\", \"24\", \"25\", \"26\", \"27\", \"28\", \"29\", \"30\", \"31\", \"32\", \"33\", \"34\", \"35\", \"36\", \"37\", \"38\", \"39\", \"40\", \"41\", \"42\", \"43\", \"44\", \"45\", \"50\", \"51\"], \"mode\": \"markers\", \"name\": \"f1_score_micro\", \"stepped\": false, \"type\": \"scatter\", \"data\": [0.8226126126126126, 0.8393693693693695, 0.8292792792792792, 0.7826126126126126, 0.5952702702702702, 0.8426576576576577, 0.8024324324324325, 0.8126576576576576, 0.6118018018018019, 0.7422972972972972, 0.8257207207207208, 0.8324324324324324, 0.7522072072072072, 0.7125225225225226, 0.719009009009009, 0.7257207207207207, 0.7425225225225225, 0.8192342342342342, 0.8424774774774774, 0.809099099099099, 0.8124774774774774, 0.8392792792792793, 0.8091891891891891, 0.8260360360360361, 0.8325225225225225, 0.8327477477477478, 0.7690090090090089, 0.8225225225225226, 0.8527927927927927, 0.8561261261261262, 0.8392792792792793, 0.8393243243243244, 0.826036036036036, 0.8326126126126127, 0.8392342342342343, 0.8193693693693694, 0.836081081081081, 0.8426576576576577, 0.8127027027027027, 0.815990990990991, 0.6790990990990992, 0.8293243243243243, 0.8427477477477476, 0.8392342342342343, 0.8324774774774775, 0.8426576576576577, 0.8727927927927928, 0.8493693693693694]}, {\"categories\": [\"0\", \"1\", \"2\", \"3\", \"4\", \"5\", \"6\", \"7\", \"8\", \"9\", \"10\", \"11\", \"12\", \"13\", \"14\", \"15\", \"16\", \"17\", \"18\", \"19\", \"20\", \"21\", \"22\", \"23\", \"24\", \"25\", \"26\", \"27\", \"28\", \"29\", \"30\", \"31\", \"32\", \"33\", \"34\", \"35\", \"36\", \"37\", \"38\", \"39\", \"40\", \"41\", \"42\", \"43\", \"44\", \"45\", \"50\", \"51\"], \"mode\": \"lines\", \"name\": \"f1_score_micro_max\", \"stepped\": true, \"type\": \"scatter\", \"data\": [0.8226126126126126, 0.8393693693693695, 0.8393693693693695, 0.8393693693693695, 0.8393693693693695, 0.8426576576576577, 0.8426576576576577, 0.8426576576576577, 0.8426576576576577, 0.8426576576576577, 0.8426576576576577, 0.8426576576576577, 0.8426576576576577, 0.8426576576576577, 0.8426576576576577, 0.8426576576576577, 0.8426576576576577, 0.8426576576576577, 0.8426576576576577, 0.8426576576576577, 0.8426576576576577, 0.8426576576576577, 0.8426576576576577, 0.8426576576576577, 0.8426576576576577, 0.8426576576576577, 0.8426576576576577, 0.8426576576576577, 0.8527927927927927, 0.8561261261261262, 0.8561261261261262, 0.8561261261261262, 0.8561261261261262, 0.8561261261261262, 0.8561261261261262, 0.8561261261261262, 0.8561261261261262, 0.8561261261261262, 0.8561261261261262, 0.8561261261261262, 0.8561261261261262, 0.8561261261261262, 0.8561261261261262, 0.8561261261261262, 0.8561261261261262, 0.8561261261261262, 0.8727927927927928, 0.8727927927927928]}], \"average_precision_score_micro\": [{\"categories\": [\"0\", \"1\", \"2\", \"3\", \"4\", \"5\", \"6\", \"7\", \"8\", \"9\", \"10\", \"11\", \"12\", \"13\", \"14\", \"15\", \"16\", \"17\", \"18\", \"19\", \"20\", \"21\", \"22\", \"23\", \"24\", \"25\", \"26\", \"27\", \"28\", \"29\", \"30\", \"31\", \"32\", \"33\", \"34\", \"35\", \"36\", \"37\", \"38\", \"39\", \"40\", \"41\", \"42\", \"43\", \"44\", \"45\", \"50\", \"51\"], \"mode\": \"markers\", \"name\": \"average_precision_score_micro\", \"stepped\": false, \"type\": \"scatter\", \"data\": [0.8974096328891283, 0.8896937258741247, 0.8801211107581903, 0.8619860355346931, 0.6137072056074747, 0.9006385311464764, 0.8677769972697678, 0.8880237230014907, 0.634084140231456, 0.8184577375456351, 0.8985515013532834, 0.917797875453522, 0.8373962083484958, 0.826597609087022, 0.7662062562770181, 0.7564353038893687, 0.7803695205277341, 0.8808183315004514, 0.9027321877195329, 0.9029471104038196, 0.8828308861123597, 0.902175294710983, 0.8978880918771762, 0.8945712639237606, 0.9161490846492466, 0.8876314903497572, 0.8782725550314272, 0.901616249472659, 0.9005044923736152, 0.9068571222803543, 0.9099925853091401, 0.8836469388209406, 0.892708140297768, 0.8948472220913086, 0.9030128360517787, 0.8975575877325124, 0.8988204649677518, 0.9164591265550557, 0.9012661096847117, 0.8946372895213854, 0.6607227145709116, 0.9010352590709396, 0.9065337794703955, 0.9132270279550407, 0.8932538104534085, 0.9132363873071798, 0.911583864113151, 0.8978323101383909]}, {\"categories\": [\"0\", \"1\", \"2\", \"3\", \"4\", \"5\", \"6\", \"7\", \"8\", \"9\", \"10\", \"11\", \"12\", \"13\", \"14\", \"15\", \"16\", \"17\", \"18\", \"19\", \"20\", \"21\", \"22\", \"23\", \"24\", \"25\", \"26\", \"27\", \"28\", \"29\", \"30\", \"31\", \"32\", \"33\", \"34\", \"35\", \"36\", \"37\", \"38\", \"39\", \"40\", \"41\", \"42\", \"43\", \"44\", \"45\", \"50\", \"51\"], \"mode\": \"lines\", \"name\": \"average_precision_score_micro_max\", \"stepped\": true, \"type\": \"scatter\", \"data\": [0.8974096328891283, 0.8974096328891283, 0.8974096328891283, 0.8974096328891283, 0.8974096328891283, 0.9006385311464764, 0.9006385311464764, 0.9006385311464764, 0.9006385311464764, 0.9006385311464764, 0.9006385311464764, 0.917797875453522, 0.917797875453522, 0.917797875453522, 0.917797875453522, 0.917797875453522, 0.917797875453522, 0.917797875453522, 0.917797875453522, 0.917797875453522, 0.917797875453522, 0.917797875453522, 0.917797875453522, 0.917797875453522, 0.917797875453522, 0.917797875453522, 0.917797875453522, 0.917797875453522, 0.917797875453522, 0.917797875453522, 0.917797875453522, 0.917797875453522, 0.917797875453522, 0.917797875453522, 0.917797875453522, 0.917797875453522, 0.917797875453522, 0.917797875453522, 0.917797875453522, 0.917797875453522, 0.917797875453522, 0.917797875453522, 0.917797875453522, 0.917797875453522, 0.917797875453522, 0.917797875453522, 0.917797875453522, 0.917797875453522]}], \"recall_score_macro\": [{\"categories\": [\"0\", \"1\", \"2\", \"3\", \"4\", \"5\", \"6\", \"7\", \"8\", \"9\", \"10\", \"11\", \"12\", \"13\", \"14\", \"15\", \"16\", \"17\", \"18\", \"19\", \"20\", \"21\", \"22\", \"23\", \"24\", \"25\", \"26\", \"27\", \"28\", \"29\", \"30\", \"31\", \"32\", \"33\", \"34\", \"35\", \"36\", \"37\", \"38\", \"39\", \"40\", \"41\", \"42\", \"43\", \"44\", \"45\", \"50\", \"51\"], \"mode\": \"markers\", \"name\": \"recall_score_macro\", \"stepped\": false, \"type\": \"scatter\", \"data\": [0.7839195781462731, 0.808053764542112, 0.8132531173315072, 0.7156182741458166, 0.5263011215871386, 0.8077569225344648, 0.7953005514181362, 0.7414675406200829, 0.5447579864423084, 0.6529747128264077, 0.7808246279379755, 0.8256471469130368, 0.7669283253234525, 0.549352904040404, 0.6368920999747271, 0.6040036411328784, 0.652813929244014, 0.7796935507210931, 0.8035271245546669, 0.7621888782905732, 0.7718509881910306, 0.7937876036392986, 0.7807735598519496, 0.757015855691703, 0.794878134655677, 0.7767609254367729, 0.73829295018384, 0.7897013669789092, 0.8192453056595006, 0.8219088458230408, 0.8048130238013713, 0.7979189595715019, 0.7911323306715256, 0.7824540170673646, 0.8009267029658979, 0.7766083708350657, 0.8013926849202272, 0.8076674865075288, 0.7687628147903571, 0.7511499045132519, 0.5, 0.7857751878143827, 0.8054789215806164, 0.8088090983482933, 0.7990485464002415, 0.8103490387123862, 0.8377134567018042, 0.8185072578081052]}, {\"categories\": [\"0\", \"1\", \"2\", \"3\", \"4\", \"5\", \"6\", \"7\", \"8\", \"9\", \"10\", \"11\", \"12\", \"13\", \"14\", \"15\", \"16\", \"17\", \"18\", \"19\", \"20\", \"21\", \"22\", \"23\", \"24\", \"25\", \"26\", \"27\", \"28\", \"29\", \"30\", \"31\", \"32\", \"33\", \"34\", \"35\", \"36\", \"37\", \"38\", \"39\", \"40\", \"41\", \"42\", \"43\", \"44\", \"45\", \"50\", \"51\"], \"mode\": \"lines\", \"name\": \"recall_score_macro_max\", \"stepped\": true, \"type\": \"scatter\", \"data\": [0.7839195781462731, 0.808053764542112, 0.8132531173315072, 0.8132531173315072, 0.8132531173315072, 0.8132531173315072, 0.8132531173315072, 0.8132531173315072, 0.8132531173315072, 0.8132531173315072, 0.8132531173315072, 0.8256471469130368, 0.8256471469130368, 0.8256471469130368, 0.8256471469130368, 0.8256471469130368, 0.8256471469130368, 0.8256471469130368, 0.8256471469130368, 0.8256471469130368, 0.8256471469130368, 0.8256471469130368, 0.8256471469130368, 0.8256471469130368, 0.8256471469130368, 0.8256471469130368, 0.8256471469130368, 0.8256471469130368, 0.8256471469130368, 0.8256471469130368, 0.8256471469130368, 0.8256471469130368, 0.8256471469130368, 0.8256471469130368, 0.8256471469130368, 0.8256471469130368, 0.8256471469130368, 0.8256471469130368, 0.8256471469130368, 0.8256471469130368, 0.8256471469130368, 0.8256471469130368, 0.8256471469130368, 0.8256471469130368, 0.8256471469130368, 0.8256471469130368, 0.8377134567018042, 0.8377134567018042]}]}, \"metricName\": null, \"primaryMetricName\": \"accuracy\", \"showLegend\": false}, \"run_metrics\": [{\"name\": \"experiment_status\", \"run_id\": \"AutoML_c2fe52fb-8c82-4dfa-b38d-512be1a9b73a\", \"categories\": [0, 1, 2, 3, 4, 5, 6, 7, 8, 9, 10, 11, 12, 13], \"series\": [{\"data\": [\"DatasetEvaluation\", \"FeaturesGeneration\", \"DatasetFeaturization\", \"DatasetFeaturizationCompleted\", \"DatasetCrossValidationSplit\", \"ModelSelection\", \"BestRunExplainModel\", \"ModelExplanationDataSetSetup\", \"PickSurrogateModel\", \"EngineeredFeatureExplanations\", \"EngineeredFeatureExplanations\", \"RawFeaturesExplanations\", \"RawFeaturesExplanations\", \"BestRunExplainModel\"]}]}, {\"name\": \"experiment_status_description\", \"run_id\": \"AutoML_c2fe52fb-8c82-4dfa-b38d-512be1a9b73a\", \"categories\": [0, 1, 2, 3, 4, 5, 6, 7, 8, 9, 10, 11, 12, 13], \"series\": [{\"data\": [\"Gathering dataset statistics.\", \"Generating features for the dataset.\", \"Beginning to fit featurizers and featurize the dataset.\", \"Completed fit featurizers and featurizing the dataset.\", \"Generating individually featurized CV splits.\", \"Beginning model selection.\", \"Best run model explanations started\", \"Model explanations data setup completed\", \"Choosing LightGBM as the surrogate model for explanations\", \"Computation of engineered features started\", \"Computation of engineered features completed\", \"Computation of raw features started\", \"Computation of raw features completed\", \"Best run model explanations completed\"]}]}, {\"name\": \"precision_score_macro\", \"run_id\": \"AutoML_c2fe52fb-8c82-4dfa-b38d-512be1a9b73a\", \"categories\": [0], \"series\": [{\"data\": [0.8752750680580762]}]}, {\"name\": \"f1_score_micro\", \"run_id\": \"AutoML_c2fe52fb-8c82-4dfa-b38d-512be1a9b73a\", \"categories\": [0], \"series\": [{\"data\": [0.8727927927927928]}]}, {\"name\": \"precision_score_weighted\", \"run_id\": \"AutoML_c2fe52fb-8c82-4dfa-b38d-512be1a9b73a\", \"categories\": [0], \"series\": [{\"data\": [0.8824245461432394]}]}, {\"name\": \"AUC_macro\", \"run_id\": \"AutoML_c2fe52fb-8c82-4dfa-b38d-512be1a9b73a\", \"categories\": [0], \"series\": [{\"data\": [0.9057800309389292]}]}, {\"name\": \"recall_score_macro\", \"run_id\": \"AutoML_c2fe52fb-8c82-4dfa-b38d-512be1a9b73a\", \"categories\": [0], \"series\": [{\"data\": [0.8377134567018042]}]}, {\"name\": \"matthews_correlation\", \"run_id\": \"AutoML_c2fe52fb-8c82-4dfa-b38d-512be1a9b73a\", \"categories\": [0], \"series\": [{\"data\": [0.7109005482992078]}]}, {\"name\": \"balanced_accuracy\", \"run_id\": \"AutoML_c2fe52fb-8c82-4dfa-b38d-512be1a9b73a\", \"categories\": [0], \"series\": [{\"data\": [0.8377134567018042]}]}, {\"name\": \"f1_score_macro\", \"run_id\": \"AutoML_c2fe52fb-8c82-4dfa-b38d-512be1a9b73a\", \"categories\": [0], \"series\": [{\"data\": [0.844859739472524]}]}, {\"name\": \"f1_score_weighted\", \"run_id\": \"AutoML_c2fe52fb-8c82-4dfa-b38d-512be1a9b73a\", \"categories\": [0], \"series\": [{\"data\": [0.8671048012082168]}]}, {\"name\": \"average_precision_score_binary\", \"run_id\": \"AutoML_c2fe52fb-8c82-4dfa-b38d-512be1a9b73a\", \"categories\": [0], \"series\": [{\"data\": [0.8293550699782835]}]}, {\"name\": \"precision_score_binary\", \"run_id\": \"AutoML_c2fe52fb-8c82-4dfa-b38d-512be1a9b73a\", \"categories\": [0], \"series\": [{\"data\": [0.8791666666666667]}]}, {\"name\": \"recall_score_weighted\", \"run_id\": \"AutoML_c2fe52fb-8c82-4dfa-b38d-512be1a9b73a\", \"categories\": [0], \"series\": [{\"data\": [0.8727927927927928]}]}, {\"name\": \"precision_score_micro\", \"run_id\": \"AutoML_c2fe52fb-8c82-4dfa-b38d-512be1a9b73a\", \"categories\": [0], \"series\": [{\"data\": [0.8727927927927928]}]}, {\"name\": \"average_precision_score_macro\", \"run_id\": \"AutoML_c2fe52fb-8c82-4dfa-b38d-512be1a9b73a\", \"categories\": [0], \"series\": [{\"data\": [0.8897544171336638]}]}, {\"name\": \"f1_score_binary\", \"run_id\": \"AutoML_c2fe52fb-8c82-4dfa-b38d-512be1a9b73a\", \"categories\": [0], \"series\": [{\"data\": [0.7813620071684587]}]}, {\"name\": \"AUC_binary\", \"run_id\": \"AutoML_c2fe52fb-8c82-4dfa-b38d-512be1a9b73a\", \"categories\": [0], \"series\": [{\"data\": [0.9057800309389292]}]}, {\"name\": \"log_loss\", \"run_id\": \"AutoML_c2fe52fb-8c82-4dfa-b38d-512be1a9b73a\", \"categories\": [0], \"series\": [{\"data\": [0.3804505596202604]}]}, {\"name\": \"average_precision_score_weighted\", \"run_id\": \"AutoML_c2fe52fb-8c82-4dfa-b38d-512be1a9b73a\", \"categories\": [0], \"series\": [{\"data\": [0.9139366089317202]}]}, {\"name\": \"weighted_accuracy\", \"run_id\": \"AutoML_c2fe52fb-8c82-4dfa-b38d-512be1a9b73a\", \"categories\": [0], \"series\": [{\"data\": [0.8970714047171314]}]}, {\"name\": \"AUC_weighted\", \"run_id\": \"AutoML_c2fe52fb-8c82-4dfa-b38d-512be1a9b73a\", \"categories\": [0], \"series\": [{\"data\": [0.9057800309389292]}]}, {\"name\": \"accuracy\", \"run_id\": \"AutoML_c2fe52fb-8c82-4dfa-b38d-512be1a9b73a\", \"categories\": [0], \"series\": [{\"data\": [0.8727927927927928]}]}, {\"name\": \"average_precision_score_micro\", \"run_id\": \"AutoML_c2fe52fb-8c82-4dfa-b38d-512be1a9b73a\", \"categories\": [0], \"series\": [{\"data\": [0.911583864113151]}]}, {\"name\": \"recall_score_binary\", \"run_id\": \"AutoML_c2fe52fb-8c82-4dfa-b38d-512be1a9b73a\", \"categories\": [0], \"series\": [{\"data\": [0.719760101010101]}]}, {\"name\": \"AUC_micro\", \"run_id\": \"AutoML_c2fe52fb-8c82-4dfa-b38d-512be1a9b73a\", \"categories\": [0], \"series\": [{\"data\": [0.9097149257365474]}]}, {\"name\": \"norm_macro_recall\", \"run_id\": \"AutoML_c2fe52fb-8c82-4dfa-b38d-512be1a9b73a\", \"categories\": [0], \"series\": [{\"data\": [0.6754269134036084]}]}, {\"name\": \"recall_score_micro\", \"run_id\": \"AutoML_c2fe52fb-8c82-4dfa-b38d-512be1a9b73a\", \"categories\": [0], \"series\": [{\"data\": [0.8727927927927928]}]}], \"run_logs\": \"\\nRun is completed.\", \"graph\": {}, \"widget_settings\": {\"childWidgetDisplay\": \"popup\", \"send_telemetry\": false, \"log_level\": \"INFO\", \"sdk_version\": \"1.34.0\"}, \"loading\": false}"
     },
     "metadata": {},
     "output_type": "display_data"
    },
    {
     "data": {
      "text/html": [
       "<table style=\"width:100%\"><tr><th>Experiment</th><th>Id</th><th>Type</th><th>Status</th><th>Details Page</th><th>Docs Page</th></tr><tr><td>exp-heart-failure</td><td>AutoML_c2fe52fb-8c82-4dfa-b38d-512be1a9b73a</td><td>automl</td><td>NotStarted</td><td><a href=\"https://ml.azure.com/runs/AutoML_c2fe52fb-8c82-4dfa-b38d-512be1a9b73a?wsid=/subscriptions/aa7cf8e8-d23f-4bce-a7b9-1f0b4e0ac8ee/resourcegroups/aml-quickstarts-159915/workspaces/quick-starts-ws-159915&amp;tid=660b3398-b80e-49d2-bc5b-ac1dc93b5254\" target=\"_blank\" rel=\"noopener\">Link to Azure Machine Learning studio</a></td><td><a href=\"https://docs.microsoft.com/en-us/python/api/overview/azure/ml/intro?view=azure-ml-py\" target=\"_blank\" rel=\"noopener\">Link to Documentation</a></td></tr></table>"
      ],
      "text/plain": [
       "<IPython.core.display.HTML object>"
      ]
     },
     "metadata": {},
     "output_type": "display_data"
    },
    {
     "name": "stdout",
     "output_type": "stream",
     "text": [
      "\n",
      "Current status: FeaturesGeneration. Generating features for the dataset.\n",
      "Current status: DatasetCrossValidationSplit. Generating individually featurized CV splits.\n",
      "Current status: ModelSelection. Beginning model selection.\n",
      "\n",
      "****************************************************************************************************\n",
      "DATA GUARDRAILS: \n",
      "\n",
      "TYPE:         Class balancing detection\n",
      "STATUS:       PASSED\n",
      "DESCRIPTION:  Your inputs were analyzed, and all classes are balanced in your training data.\n",
      "              Learn more about imbalanced data: https://aka.ms/AutomatedMLImbalancedData\n",
      "\n",
      "****************************************************************************************************\n",
      "\n",
      "TYPE:         Missing feature values imputation\n",
      "STATUS:       PASSED\n",
      "DESCRIPTION:  No feature missing values were detected in the training data.\n",
      "              Learn more about missing value imputation: https://aka.ms/AutomatedMLFeaturization\n",
      "\n",
      "****************************************************************************************************\n",
      "\n",
      "TYPE:         High cardinality feature detection\n",
      "STATUS:       PASSED\n",
      "DESCRIPTION:  Your inputs were analyzed, and no high cardinality features were detected.\n",
      "              Learn more about high cardinality feature handling: https://aka.ms/AutomatedMLFeaturization\n",
      "\n",
      "****************************************************************************************************\n",
      "\n",
      "****************************************************************************************************\n",
      "ITERATION: The iteration being evaluated.\n",
      "PIPELINE: A summary description of the pipeline being evaluated.\n",
      "DURATION: Time taken for the current iteration.\n",
      "METRIC: The result of computing score on the fitted pipeline.\n",
      "BEST: The best observed score thus far.\n",
      "****************************************************************************************************\n",
      "\n",
      " ITERATION   PIPELINE                                       DURATION      METRIC      BEST\n",
      "         4   StandardScalerWrapper KNN                      0:00:38       0.5953    0.5953\n",
      "         5   MaxAbsScaler LightGBM                          0:00:39       0.8427    0.8427\n",
      "         7   MaxAbsScaler LightGBM                          0:00:38       0.8127    0.8427\n",
      "         0   MaxAbsScaler LightGBM                          0:01:21       0.8226    0.8427\n",
      "         3   SparseNormalizer XGBoostClassifier             0:01:29       0.7826    0.8427\n",
      "         6   RobustScaler LogisticRegression                0:01:26       0.8024    0.8427\n",
      "         1   MaxAbsScaler XGBoostClassifier                 0:01:28       0.8394    0.8427\n",
      "         2   MaxAbsScaler ExtremeRandomTrees                0:01:48       0.8293    0.8427\n",
      "         8   StandardScalerWrapper KNN                      0:00:38       0.6118    0.8427\n",
      "        10   StandardScalerWrapper XGBoostClassifier        0:00:40       0.8257    0.8427\n",
      "         9   StandardScalerWrapper SVM                      0:00:37       0.7423    0.8427\n",
      "        11   MinMaxScaler RandomForest                      0:00:42       0.8324    0.8427\n",
      "        12   StandardScalerWrapper LogisticRegression       0:00:40       0.7522    0.8427\n",
      "        13   StandardScalerWrapper KNN                      0:00:38       0.7125    0.8427\n",
      "        14   RobustScaler KNN                               0:00:39       0.7190    0.8427\n",
      "        15   MinMaxScaler KNN                               0:00:39       0.7257    0.8427\n",
      "        16   SparseNormalizer KNN                           0:00:38       0.7425    0.8427\n",
      "        17   MaxAbsScaler LogisticRegression                0:00:41       0.8192    0.8427\n",
      "        18   StandardScalerWrapper XGBoostClassifier        0:00:39       0.8425    0.8427\n",
      "        19   StandardScalerWrapper XGBoostClassifier        0:00:39       0.8091    0.8427\n",
      "        20   MaxAbsScaler LogisticRegression                0:00:40       0.8125    0.8427\n",
      "        21   StandardScalerWrapper XGBoostClassifier        0:00:37       0.8393    0.8427\n",
      "        22   SparseNormalizer RandomForest                  0:00:40       0.8092    0.8427\n",
      "        23   StandardScalerWrapper RandomForest             0:00:38       0.8260    0.8427\n",
      "        24   StandardScalerWrapper XGBoostClassifier        0:00:39       0.8325    0.8427\n",
      "        25   SparseNormalizer LightGBM                      0:00:38       0.8327    0.8427\n",
      "        26   TruncatedSVDWrapper RandomForest               0:00:42       0.7690    0.8427\n",
      "        27   RobustScaler RandomForest                      0:00:42       0.8225    0.8427\n",
      "        28   SparseNormalizer XGBoostClassifier             0:00:40       0.8528    0.8528\n",
      "        29   RobustScaler LightGBM                          0:00:37       0.8561    0.8561\n",
      "        30   StandardScalerWrapper XGBoostClassifier        0:00:37       0.8393    0.8561\n",
      "        31   MinMaxScaler LightGBM                          0:00:39       0.8393    0.8561\n",
      "        32   SparseNormalizer XGBoostClassifier             0:00:42       0.8260    0.8561\n",
      "        33   StandardScalerWrapper ExtremeRandomTrees       0:00:38       0.8326    0.8561\n",
      "        34   StandardScalerWrapper LightGBM                 0:00:45       0.8392    0.8561\n",
      "        35   SparseNormalizer LightGBM                      0:00:38       0.8194    0.8561\n",
      "        36   SparseNormalizer XGBoostClassifier             0:00:37       0.8361    0.8561\n",
      "        37   MaxAbsScaler RandomForest                      0:00:40       0.8427    0.8561\n",
      "        38   SparseNormalizer XGBoostClassifier             0:00:40       0.8127    0.8561\n",
      "        39   MinMaxScaler LightGBM                          0:00:38       0.8160    0.8561\n",
      "        40   PCA LightGBM                                   0:00:45       0.6791    0.8561\n",
      "        42   RobustScaler LightGBM                          0:00:38       0.8427    0.8561\n",
      "        41   StandardScalerWrapper LightGBM                 0:00:47       0.8293    0.8561\n",
      "        43   MaxAbsScaler GradientBoosting                  0:00:39       0.8392    0.8561\n",
      "        44   StandardScalerWrapper XGBoostClassifier        0:00:37       0.8325    0.8561\n",
      "        45   MinMaxScaler LightGBM                          0:00:29       0.8427    0.8561\n",
      "        46   StandardScalerWrapper LightGBM                 0:00:14          nan    0.8561\n",
      "        47                                                  0:00:11          nan    0.8561\n",
      "        48                                                  0:00:07          nan    0.8561\n",
      "        49                                                  0:00:02          nan    0.8561\n",
      "        50    VotingEnsemble                                0:01:04       0.8728    0.8728\n",
      "        51    StackEnsemble                                 0:01:02       0.8494    0.8728\n"
     ]
    },
    {
     "data": {
      "text/plain": [
       "{'runId': 'AutoML_c2fe52fb-8c82-4dfa-b38d-512be1a9b73a',\n",
       " 'target': 'mlops-compute',\n",
       " 'status': 'Completed',\n",
       " 'startTimeUtc': '2021-10-03T16:37:34.417073Z',\n",
       " 'endTimeUtc': '2021-10-03T16:54:28.851089Z',\n",
       " 'services': {},\n",
       " 'properties': {'num_iterations': '1000',\n",
       "  'training_type': 'TrainFull',\n",
       "  'acquisition_function': 'EI',\n",
       "  'primary_metric': 'accuracy',\n",
       "  'train_split': '0',\n",
       "  'acquisition_parameter': '0',\n",
       "  'num_cross_validation': '4',\n",
       "  'target': 'mlops-compute',\n",
       "  'AMLSettingsJsonString': '{\"path\":null,\"name\":\"exp-heart-failure\",\"subscription_id\":\"aa7cf8e8-d23f-4bce-a7b9-1f0b4e0ac8ee\",\"resource_group\":\"aml-quickstarts-159915\",\"workspace_name\":\"quick-starts-ws-159915\",\"region\":\"southcentralus\",\"compute_target\":\"mlops-compute\",\"spark_service\":null,\"azure_service\":\"remote\",\"many_models\":false,\"pipeline_fetch_max_batch_size\":1,\"enable_batch_run\":false,\"enable_run_restructure\":false,\"start_auxiliary_runs_before_parent_complete\":false,\"enable_code_generation\":false,\"iterations\":1000,\"primary_metric\":\"accuracy\",\"task_type\":\"classification\",\"data_script\":null,\"test_size\":0.0,\"test_include_predictions_only\":false,\"validation_size\":0.0,\"n_cross_validations\":4,\"y_min\":null,\"y_max\":null,\"num_classes\":null,\"featurization\":\"auto\",\"_ignore_package_version_incompatibilities\":false,\"is_timeseries\":false,\"max_cores_per_iteration\":1,\"max_concurrent_iterations\":6,\"iteration_timeout_minutes\":null,\"mem_in_mb\":null,\"enforce_time_on_windows\":false,\"experiment_timeout_minutes\":15,\"experiment_exit_score\":null,\"whitelist_models\":null,\"blacklist_algos\":[\"TensorFlowLinearClassifier\",\"TensorFlowDNN\"],\"supported_models\":[\"LogisticRegression\",\"MultinomialNaiveBayes\",\"TensorFlowDNN\",\"GradientBoosting\",\"RandomForest\",\"LinearSVM\",\"DecisionTree\",\"KNN\",\"ExtremeRandomTrees\",\"SVM\",\"AveragedPerceptronClassifier\",\"SGD\",\"BernoulliNaiveBayes\",\"XGBoostClassifier\",\"LightGBM\",\"TensorFlowLinearClassifier\"],\"private_models\":[],\"auto_blacklist\":true,\"blacklist_samples_reached\":false,\"exclude_nan_labels\":true,\"verbosity\":20,\"_debug_log\":\"azureml_automl.log\",\"show_warnings\":false,\"model_explainability\":true,\"service_url\":null,\"sdk_url\":null,\"sdk_packages\":null,\"enable_onnx_compatible_models\":false,\"enable_split_onnx_featurizer_estimator_models\":false,\"vm_type\":\"STANDARD_DS3_V2\",\"telemetry_verbosity\":20,\"send_telemetry\":true,\"enable_dnn\":false,\"scenario\":\"SDK-1.13.0\",\"environment_label\":null,\"save_mlflow\":false,\"force_text_dnn\":false,\"enable_feature_sweeping\":true,\"enable_early_stopping\":true,\"early_stopping_n_iters\":10,\"metrics\":null,\"enable_metric_confidence\":false,\"enable_ensembling\":true,\"enable_stack_ensembling\":true,\"ensemble_iterations\":15,\"enable_tf\":false,\"enable_subsampling\":null,\"subsample_seed\":null,\"enable_nimbusml\":false,\"enable_streaming\":false,\"force_streaming\":false,\"track_child_runs\":true,\"allowed_private_models\":[],\"label_column_name\":\"DEATH_EVENT\",\"weight_column_name\":null,\"cv_split_column_names\":null,\"positive_label\":null,\"enable_local_managed\":false,\"_local_managed_run_id\":null,\"cost_mode\":1,\"lag_length\":0,\"metric_operation\":\"maximize\",\"preprocess\":true}',\n",
       "  'DataPrepJsonString': '{\\\\\"training_data\\\\\": {\\\\\"datasetId\\\\\": \\\\\"e74a4762-5499-4f6b-b31c-dcad860487dd\\\\\"}, \\\\\"datasets\\\\\": 0}',\n",
       "  'EnableSubsampling': None,\n",
       "  'runTemplate': 'AutoML',\n",
       "  'azureml.runsource': 'automl',\n",
       "  'display_task_type': 'classification',\n",
       "  'dependencies_versions': '{\"azureml-widgets\": \"1.34.0\", \"azureml-train\": \"1.34.0\", \"azureml-train-restclients-hyperdrive\": \"1.34.0\", \"azureml-train-core\": \"1.34.0\", \"azureml-train-automl\": \"1.34.0\", \"azureml-train-automl-runtime\": \"1.34.0\", \"azureml-train-automl-client\": \"1.34.0\", \"azureml-tensorboard\": \"1.34.0\", \"azureml-telemetry\": \"1.34.0\", \"azureml-sdk\": \"1.34.0\", \"azureml-samples\": \"0+unknown\", \"azureml-responsibleai\": \"1.34.0\", \"azureml-pipeline\": \"1.34.0\", \"azureml-pipeline-steps\": \"1.34.0\", \"azureml-pipeline-core\": \"1.34.0\", \"azureml-opendatasets\": \"1.34.0\", \"azureml-mlflow\": \"1.34.0\", \"azureml-interpret\": \"1.34.0\", \"azureml-inference-server-http\": \"0.3.1\", \"azureml-explain-model\": \"1.34.0\", \"azureml-defaults\": \"1.34.0\", \"azureml-dataset-runtime\": \"1.34.0\", \"azureml-dataprep\": \"2.22.2\", \"azureml-dataprep-rslex\": \"1.20.1\", \"azureml-dataprep-native\": \"38.0.0\", \"azureml-datadrift\": \"1.34.0\", \"azureml-core\": \"1.34.0\", \"azureml-contrib-services\": \"1.34.0\", \"azureml-contrib-server\": \"1.34.0\", \"azureml-contrib-reinforcementlearning\": \"1.34.0\", \"azureml-contrib-pipeline-steps\": \"1.34.0\", \"azureml-contrib-notebook\": \"1.34.0\", \"azureml-contrib-fairness\": \"1.34.0\", \"azureml-contrib-dataset\": \"1.34.0\", \"azureml-contrib-automl-pipeline-steps\": \"1.34.0\", \"azureml-cli-common\": \"1.34.0\", \"azureml-automl-runtime\": \"1.34.0\", \"azureml-automl-dnn-nlp\": \"1.34.0\", \"azureml-automl-core\": \"1.34.0\", \"azureml-accel-models\": \"1.34.0\"}',\n",
       "  '_aml_system_scenario_identification': 'Remote.Parent',\n",
       "  'ClientType': 'SDK',\n",
       "  'environment_cpu_name': 'AzureML-AutoML',\n",
       "  'environment_cpu_label': 'prod',\n",
       "  'environment_gpu_name': 'AzureML-AutoML-GPU',\n",
       "  'environment_gpu_label': 'prod',\n",
       "  'root_attribution': 'automl',\n",
       "  'attribution': 'AutoML',\n",
       "  'Orchestrator': 'AutoML',\n",
       "  'CancelUri': 'https://southcentralus.api.azureml.ms/jasmine/v1.0/subscriptions/aa7cf8e8-d23f-4bce-a7b9-1f0b4e0ac8ee/resourceGroups/aml-quickstarts-159915/providers/Microsoft.MachineLearningServices/workspaces/quick-starts-ws-159915/experimentids/fdfe78a9-bdca-4db0-8b0c-a6be4d772243/cancel/AutoML_c2fe52fb-8c82-4dfa-b38d-512be1a9b73a',\n",
       "  'ClientSdkVersion': '1.34.0.post1',\n",
       "  'snapshotId': '00000000-0000-0000-0000-000000000000',\n",
       "  'SetupRunId': 'AutoML_c2fe52fb-8c82-4dfa-b38d-512be1a9b73a_setup',\n",
       "  'SetupRunContainerId': 'dcid.AutoML_c2fe52fb-8c82-4dfa-b38d-512be1a9b73a_setup',\n",
       "  'FeaturizationRunJsonPath': 'featurizer_container.json',\n",
       "  'FeaturizationRunId': 'AutoML_c2fe52fb-8c82-4dfa-b38d-512be1a9b73a_featurize',\n",
       "  'ProblemInfoJsonString': '{\"dataset_num_categorical\": 0, \"is_sparse\": false, \"subsampling\": false, \"has_extra_col\": true, \"dataset_classes\": 2, \"dataset_features\": 12, \"dataset_samples\": 299, \"single_frequency_class_detected\": false}',\n",
       "  'ModelExplainRunId': 'AutoML_c2fe52fb-8c82-4dfa-b38d-512be1a9b73a_ModelExplain'},\n",
       " 'inputDatasets': [{'dataset': {'id': 'e74a4762-5499-4f6b-b31c-dcad860487dd'}, 'consumptionDetails': {'type': 'RunInput', 'inputName': 'training_data', 'mechanism': 'Direct'}}],\n",
       " 'outputDatasets': [],\n",
       " 'logFiles': {},\n",
       " 'submittedBy': 'ODL_User 159915'}"
      ]
     },
     "execution_count": 6,
     "metadata": {},
     "output_type": "execute_result"
    }
   ],
   "source": [
    "RunDetails(remote_run).show()\n",
    "remote_run.wait_for_completion(show_output=True)"
   ]
  },
  {
   "cell_type": "markdown",
   "metadata": {},
   "source": [
    "## Best Model\n"
   ]
  },
  {
   "cell_type": "code",
   "execution_count": 7,
   "metadata": {
    "gather": {
     "logged": 1632976019500
    },
    "jupyter": {
     "outputs_hidden": false,
     "source_hidden": false
    },
    "nteract": {
     "transient": {
      "deleting": false
     }
    }
   },
   "outputs": [
    {
     "name": "stdout",
     "output_type": "stream",
     "text": [
      "Pipeline(memory=None,\n",
      "         steps=[('datatransformer',\n",
      "                 DataTransformer(enable_dnn=False, enable_feature_sweeping=True, feature_sweeping_config={}, feature_sweeping_timeout=86400, featurization_config=None, force_text_dnn=False, is_cross_validation=True, is_onnx_compatible=False, observer=None, task='classification', working_dir='/mnt/batch/tasks/shared/LS_root/mount...\n",
      "    gpu_training_param_dict={'processing_unit_type': 'cpu'}\n",
      "), random_state=None, reg_alpha=0.15789473684210525, reg_lambda=0, subsample=0.29736842105263156))], verbose=False))], flatten_transform=None, weights=[0.1111111111111111, 0.2222222222222222, 0.1111111111111111, 0.1111111111111111, 0.1111111111111111, 0.1111111111111111, 0.1111111111111111, 0.1111111111111111]))],\n",
      "         verbose=False)\n",
      "Run(Experiment: exp-heart-failure,\n",
      "Id: AutoML_c2fe52fb-8c82-4dfa-b38d-512be1a9b73a_50,\n",
      "Type: azureml.scriptrun,\n",
      "Status: Completed)\n"
     ]
    }
   ],
   "source": [
    "best_run, fitted_model = remote_run.get_output()\n",
    "print(fitted_model)\n",
    "print(best_run)\n"
   ]
  },
  {
   "cell_type": "code",
   "execution_count": 9,
   "metadata": {
    "gather": {
     "logged": 1632976084233
    },
    "jupyter": {
     "outputs_hidden": false,
     "source_hidden": false
    },
    "nteract": {
     "transient": {
      "deleting": false
     }
    }
   },
   "outputs": [
    {
     "name": "stdout",
     "output_type": "stream",
     "text": [
      "Model(workspace=Workspace.create(name='quick-starts-ws-159915', subscription_id='aa7cf8e8-d23f-4bce-a7b9-1f0b4e0ac8ee', resource_group='aml-quickstarts-159915'), name=best-automl-model, id=best-automl-model:2, version=2, tags={}, properties={})\n"
     ]
    }
   ],
   "source": [
    "model = remote_run.register_model(model_name='best-automl-model')\n",
    "print(model)"
   ]
  },
  {
   "cell_type": "markdown",
   "metadata": {},
   "source": [
    "## Model Deployment\n"
   ]
  },
  {
   "cell_type": "code",
   "execution_count": 10,
   "metadata": {
    "gather": {
     "logged": 1632976156527
    },
    "jupyter": {
     "outputs_hidden": false,
     "source_hidden": false
    },
    "nteract": {
     "transient": {
      "deleting": false
     }
    }
   },
   "outputs": [],
   "source": [
    "# from azureml.train.automl.run import AutoMLRun\n",
    "# run_id = \"AutoML_8e747eb7-a067-497e-907b-9064d3104f5c_49\"\n",
    "# best_run = AutoMLRun(experiment, run_id)\n"
   ]
  },
  {
   "cell_type": "code",
   "execution_count": 11,
   "metadata": {
    "gather": {
     "logged": 1632976449245
    },
    "jupyter": {
     "outputs_hidden": false,
     "source_hidden": false
    },
    "nteract": {
     "transient": {
      "deleting": false
     }
    }
   },
   "outputs": [
    {
     "name": "stdout",
     "output_type": "stream",
     "text": [
      "heart-failure-prediction\n",
      "Tips: You can try get_logs(): https://aka.ms/debugimage#dockerlog or local deployment: https://aka.ms/debugimage#debug-locally to debug if deployment takes longer than 10 minutes.\n",
      "Running\n",
      "2021-10-01 15:34:10+00:00 Creating Container Registry if not exists..\n",
      "2021-10-01 15:44:10+00:00 Registering the environment.\n",
      "2021-10-01 15:44:11+00:00 Use the existing image.\n",
      "2021-10-01 15:44:11+00:00 Generating deployment configuration.\n",
      "2021-10-01 15:44:12+00:00 Submitting deployment to compute..\n",
      "2021-10-01 15:44:17+00:00 Checking the status of deployment heart-failure-prediction..\n",
      "2021-10-01 15:49:46+00:00 Checking the status of inference endpoint heart-failure-prediction.\n",
      "Succeeded\n",
      "ACI service creation operation finished, operation \"Succeeded\"\n",
      "Healthy\n"
     ]
    }
   ],
   "source": [
    "# script_file = 'scoring.py'\n",
    "# best_run.download_file('outputs/scoring_file_v_2_0_0.py', 'scoring.py')\n",
    "\n"
   ]
  },
  {
   "cell_type": "code",
   "execution_count": null,
   "metadata": {},
   "outputs": [],
   "source": [
    "# inference_config = InferenceConfig(entry_script='score.py', environment=best_run.get_environment())\n",
    "# aciconfig = AciWebservice.deploy_configuration(cpu_cores=1, memory_gb=1)\n",
    "# aci_service_name = 'heart-failure-model-prediction'\n"
   ]
  },
  {
   "cell_type": "code",
   "execution_count": null,
   "metadata": {},
   "outputs": [],
   "source": [
    "# print(aci_service_name)\n",
    "# aci_service = Model.deploy(ws, aci_service_name, [model], inference_config, aciconfig)\n",
    "# aci_service.wait_for_deployment(True)\n",
    "# print(aci_service.state)"
   ]
  },
  {
   "cell_type": "code",
   "execution_count": 12,
   "metadata": {
    "gather": {
     "logged": 1632976480424
    },
    "jupyter": {
     "outputs_hidden": false,
     "source_hidden": false
    },
    "nteract": {
     "transient": {
      "deleting": false
     }
    }
   },
   "outputs": [],
   "source": [
    "# aci_service.update(enable_app_insights=True)"
   ]
  },
  {
   "cell_type": "markdown",
   "metadata": {
    "collapsed": true,
    "gather": {
     "logged": 1598431657736
    },
    "jupyter": {
     "outputs_hidden": false,
     "source_hidden": false
    },
    "nteract": {
     "transient": {
      "deleting": false
     }
    }
   },
   "source": [
    "## Checking Prediction on Test Data"
   ]
  },
  {
   "cell_type": "code",
   "execution_count": 13,
   "metadata": {
    "gather": {
     "logged": 1632978004272
    },
    "jupyter": {
     "outputs_hidden": false,
     "source_hidden": false
    },
    "nteract": {
     "transient": {
      "deleting": false
     }
    }
   },
   "outputs": [],
   "source": [
    "# df_test = df.sample(10)\n",
    "# df_test_label = df_test.pop('DEATH_EVENT')"
   ]
  },
  {
   "cell_type": "code",
   "execution_count": 14,
   "metadata": {
    "gather": {
     "logged": 1632978007872
    },
    "jupyter": {
     "outputs_hidden": false,
     "source_hidden": false
    },
    "nteract": {
     "transient": {
      "deleting": false
     }
    }
   },
   "outputs": [
    {
     "data": {
      "text/plain": [
       "'{\"result\": [0, 1, 0, 0, 0, 1, 0, 0, 1, 0]}'"
      ]
     },
     "execution_count": 14,
     "metadata": {},
     "output_type": "execute_result"
    }
   ],
   "source": [
    "# import json \n",
    "# import requests \n",
    "\n",
    "# df_test_sample = json.dumps({'data': test_data.to_dict(orient='records')})\n"
   ]
  },
  {
   "cell_type": "code",
   "execution_count": null,
   "metadata": {},
   "outputs": [],
   "source": [
    "# service_response = aci_service.run(input_data=df_test_sample)\n",
    "# service_response"
   ]
  },
  {
   "cell_type": "code",
   "execution_count": 10,
   "metadata": {},
   "outputs": [],
   "source": [
    "# df_test_data.head(2).to_dict(orient='records')"
   ]
  },
  {
   "cell_type": "code",
   "execution_count": 23,
   "metadata": {
    "jupyter": {
     "outputs_hidden": false,
     "source_hidden": false
    },
    "nteract": {
     "transient": {
      "deleting": false
     }
    }
   },
   "outputs": [
    {
     "name": "stdout",
     "output_type": "stream",
     "text": [
      "{\"result\": [0, 1]}\n"
     ]
    }
   ],
   "source": [
    "#%run endpoint.py"
   ]
  },
  {
   "cell_type": "markdown",
   "metadata": {
    "collapsed": true,
    "gather": {
     "logged": 1598432765711
    },
    "jupyter": {
     "outputs_hidden": false,
     "source_hidden": false
    },
    "nteract": {
     "transient": {
      "deleting": false
     }
    }
   },
   "source": [
    "## Printing the Logs"
   ]
  },
  {
   "cell_type": "code",
   "execution_count": null,
   "metadata": {
    "gather": {
     "logged": 1632978407254
    },
    "jupyter": {
     "outputs_hidden": false,
     "source_hidden": false
    },
    "nteract": {
     "transient": {
      "deleting": false
     }
    }
   },
   "outputs": [],
   "source": [
    "# print(aci_service.get_logs())"
   ]
  },
  {
   "cell_type": "markdown",
   "metadata": {},
   "source": [
    "# Deleting the endpoint service"
   ]
  },
  {
   "cell_type": "code",
   "execution_count": 22,
   "metadata": {
    "gather": {
     "logged": 1632978560485
    },
    "jupyter": {
     "outputs_hidden": false,
     "source_hidden": false
    },
    "nteract": {
     "transient": {
      "deleting": false
     }
    }
   },
   "outputs": [],
   "source": [
    "# aci_service.delete()"
   ]
  }
 ],
 "metadata": {
  "kernel_info": {
   "name": "python3"
  },
  "kernelspec": {
   "display_name": "Python 3",
   "language": "python",
   "name": "python3"
  },
  "language_info": {
   "codemirror_mode": {
    "name": "ipython",
    "version": 3
   },
   "file_extension": ".py",
   "mimetype": "text/x-python",
   "name": "python",
   "nbconvert_exporter": "python",
   "pygments_lexer": "ipython3",
   "version": "3.6.9"
  },
  "microsoft": {
   "host": {
    "AzureML": {
     "notebookHasBeenCompleted": true
    }
   }
  },
  "nteract": {
   "version": "nteract-front-end@1.0.0"
  }
 },
 "nbformat": 4,
 "nbformat_minor": 2
}
